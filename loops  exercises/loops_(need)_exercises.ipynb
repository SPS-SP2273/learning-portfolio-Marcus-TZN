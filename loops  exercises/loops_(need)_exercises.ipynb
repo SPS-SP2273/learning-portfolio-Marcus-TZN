{
 "cells": [
  {
   "cell_type": "markdown",
   "id": "123456",
   "metadata": {},
   "source": [
    "<div style=\"text-align:left;font-size:2em\"><span style=\"font-weight:bolder;font-size:1.25em\">SP2273 | Learning Portfolio</span><br><br><span style=\"font-weight:bold;color:darkred\">Loops (Need) Exercises</span></div>"
   ]
  },
  {
   "cell_type": "markdown",
   "id": "b4d92435",
   "metadata": {},
   "source": [
    "## Exercise 1 (Celcius to Farenheit)"
   ]
  },
  {
   "cell_type": "code",
   "execution_count": 66,
   "id": "35737c96",
   "metadata": {},
   "outputs": [
    {
     "name": "stdout",
     "output_type": "stream",
     "text": [
      "[0, 5, 10, 15, 20, 25, 30, 35, 40, 45, 50]\n",
      "[32.0, 41.0, 50.0, 59.0, 68.0, 77.0, 86.0, 95.0, 104.0, 113.0, 122.0]\n"
     ]
    }
   ],
   "source": [
    "# Coding on Normal Mode - Print Individual\n",
    "\n",
    "temperatures_celsius = [\n",
    "    0, 5, 10, 15, 20, 25,\n",
    "    30, 35, 40, 45, 50\n",
    "]\n",
    "\n",
    "temperatures_farenheit = []\n",
    "\n",
    "for temperature in temperatures_celsius:\n",
    "    F = temperature * (9/5) + 32\n",
    "    temperatures_farenheit.append(F)\n",
    "\n",
    "print(temperatures_celsius)\n",
    "print(temperatures_farenheit)"
   ]
  },
  {
   "cell_type": "code",
   "execution_count": 6,
   "id": "ddd44d15",
   "metadata": {
    "code_folding": []
   },
   "outputs": [
    {
     "data": {
      "text/plain": [
       "[[0, 32.0],\n",
       " [5, 41.0],\n",
       " [10, 50.0],\n",
       " [15, 59.0],\n",
       " [20, 68.0],\n",
       " [25, 77.0],\n",
       " [30, 86.0],\n",
       " [35, 95.0],\n",
       " [40, 104.0],\n",
       " [45, 113.0],\n",
       " [50, 122.0]]"
      ]
     },
     "execution_count": 6,
     "metadata": {},
     "output_type": "execute_result"
    }
   ],
   "source": [
    "# Coding on Hard Mode (1) - Zip Table\n",
    "\n",
    "temperatures_celsius = [\n",
    "    0, 5, 10, 15, 20, 25,\n",
    "    30, 35, 40, 45, 50\n",
    "]\n",
    "\n",
    "temperature_farenheit = []\n",
    "\n",
    "for temperature in temperatures_celsius:\n",
    "    F = temperature * (9/5) + 32\n",
    "    temperature_farenheit.append(F)\n",
    "\n",
    "temp_table = []\n",
    "\n",
    "for C, F in zip(temperatures_celsius, temperature_farenheit):\n",
    "    data = [C,F]\n",
    "    temp_table.append(data)\n",
    "    \n",
    "temp_table"
   ]
  },
  {
   "cell_type": "code",
   "execution_count": 65,
   "id": "1bacdc0c",
   "metadata": {},
   "outputs": [
    {
     "name": "stdout",
     "output_type": "stream",
     "text": [
      "0 degree celsius = 32.0 degree farenheit\n",
      "5 degree celsius = 41.0 degree farenheit\n",
      "10 degree celsius = 50.0 degree farenheit\n",
      "15 degree celsius = 59.0 degree farenheit\n",
      "20 degree celsius = 68.0 degree farenheit\n",
      "25 degree celsius = 77.0 degree farenheit\n",
      "30 degree celsius = 86.0 degree farenheit\n",
      "35 degree celsius = 95.0 degree farenheit\n",
      "40 degree celsius = 104.0 degree farenheit\n",
      "45 degree celsius = 113.0 degree farenheit\n",
      "50 degree celsius = 122.0 degree farenheit\n"
     ]
    }
   ],
   "source": [
    "# Coding on Hard Mode (2) - Zip F-String\n",
    "\n",
    "temperatures_celsius = [\n",
    "    0, 5, 10, 15, 20, 25,\n",
    "    30, 35, 40, 45, 50\n",
    "]\n",
    "\n",
    "temperature_farenheit = []\n",
    "\n",
    "for temperature in temperatures_celsius:\n",
    "    F = temperature * (9/5) + 32\n",
    "    temperature_farenheit.append(F)\n",
    "\n",
    "\n",
    "for C, F in zip(temperatures_celsius, temperature_farenheit):\n",
    "    print(f'{C} degree celsius = {F} degree farenheit')\n",
    "    "
   ]
  },
  {
   "cell_type": "markdown",
   "id": "20bebdd3",
   "metadata": {},
   "source": [
    "## Exercise 2 (Multiplication table)"
   ]
  },
  {
   "cell_type": "code",
   "execution_count": 59,
   "id": "c5ed2a64",
   "metadata": {
    "scrolled": true
   },
   "outputs": [
    {
     "name": "stdout",
     "output_type": "stream",
     "text": [
      "1:\t1\t2\t3\t4\t5\t\n",
      "\n",
      "2:\t2\t4\t6\t8\t10\t\n",
      "\n",
      "3:\t3\t6\t9\t12\t15\t\n",
      "\n",
      "4:\t4\t8\t12\t16\t20\t\n",
      "\n",
      "5:\t5\t10\t15\t20\t25\t\n",
      "\n"
     ]
    }
   ],
   "source": [
    "for i in range (1,6):\n",
    "    print(f'{i}:', end ='\\t')\n",
    "    \n",
    "    for a in range (1,6):\n",
    "        b  = i * a\n",
    "        print(b, end = '\\t')\n",
    "    print('\\n')\n",
    "       "
   ]
  }
 ],
 "metadata": {
  "kernelspec": {
   "display_name": "Python 3 (ipykernel)",
   "language": "python",
   "name": "python3"
  },
  "language_info": {
   "codemirror_mode": {
    "name": "ipython",
    "version": 3
   },
   "file_extension": ".py",
   "mimetype": "text/x-python",
   "name": "python",
   "nbconvert_exporter": "python",
   "pygments_lexer": "ipython3",
   "version": "3.11.5"
  },
  "toc": {
   "base_numbering": 1,
   "nav_menu": {},
   "number_sections": true,
   "sideBar": true,
   "skip_h1_title": false,
   "title_cell": "Table of Contents",
   "title_sidebar": "Contents",
   "toc_cell": false,
   "toc_position": {},
   "toc_section_display": true,
   "toc_window_display": false
  },
  "varInspector": {
   "cols": {
    "lenName": 16,
    "lenType": 16,
    "lenVar": 40
   },
   "kernels_config": {
    "python": {
     "delete_cmd_postfix": "",
     "delete_cmd_prefix": "del ",
     "library": "var_list.py",
     "varRefreshCmd": "print(var_dic_list())"
    },
    "r": {
     "delete_cmd_postfix": ") ",
     "delete_cmd_prefix": "rm(",
     "library": "var_list.r",
     "varRefreshCmd": "cat(var_dic_list()) "
    }
   },
   "types_to_exclude": [
    "module",
    "function",
    "builtin_function_or_method",
    "instance",
    "_Feature"
   ],
   "window_display": false
  },
  "vscode": {
   "interpreter": {
    "hash": "31f2aee4e71d21fbe5cf8b01ff0e069b9275f58929596ceb00d14d90e3e16cd6"
   }
  }
 },
 "nbformat": 4,
 "nbformat_minor": 5
}
