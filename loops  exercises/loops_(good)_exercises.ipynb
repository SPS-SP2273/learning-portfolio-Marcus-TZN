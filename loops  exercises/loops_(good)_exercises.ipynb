{
 "cells": [
  {
   "cell_type": "markdown",
   "id": "123456",
   "metadata": {},
   "source": [
    "<div style=\"text-align:left;font-size:2em\"><span style=\"font-weight:bolder;font-size:1.25em\">SP2273 | Learning Portfolio</span><br><br><span style=\"font-weight:bold;color:darkred\">Loops (Good) Exercises</span></div>"
   ]
  },
  {
   "cell_type": "markdown",
   "id": "e30b897a",
   "metadata": {},
   "source": [
    "## **Exercise 1 (Make me an odd list)**"
   ]
  },
  {
   "cell_type": "code",
   "execution_count": 17,
   "id": "99f69f90",
   "metadata": {},
   "outputs": [
    {
     "name": "stdout",
     "output_type": "stream",
     "text": [
      "[1, 9, 25, 49, 81]\n"
     ]
    }
   ],
   "source": [
    "odd = []\n",
    "\n",
    "for i in range(10):\n",
    "    if i % 2 == 0:\n",
    "        continue\n",
    "    odd.append(i**2) \n",
    "    \n",
    "print(odd)"
   ]
  },
  {
   "cell_type": "markdown",
   "id": "2e211e4a",
   "metadata": {},
   "source": [
    "## Exercise 2 (Make me another odd list)"
   ]
  },
  {
   "cell_type": "code",
   "execution_count": 13,
   "id": "77339afe",
   "metadata": {},
   "outputs": [
    {
     "data": {
      "text/plain": [
       "[1, 9, 25, 49, 81]"
      ]
     },
     "execution_count": 13,
     "metadata": {},
     "output_type": "execute_result"
    }
   ],
   "source": [
    "[i**2 for i in range(10) if i % 2 != 0]"
   ]
  },
  {
   "cell_type": "markdown",
   "id": "399803a7",
   "metadata": {},
   "source": [
    "## Exercise 3 (Time me!) "
   ]
  },
  {
   "cell_type": "code",
   "execution_count": 33,
   "id": "3ceff724",
   "metadata": {},
   "outputs": [
    {
     "name": "stdout",
     "output_type": "stream",
     "text": [
      "1.81 µs ± 33 ns per loop (mean ± std. dev. of 7 runs, 1,000,000 loops each)\n"
     ]
    }
   ],
   "source": [
    "%%timeit\n",
    "#Timing Solution 1\n",
    "\n",
    "odd = []\n",
    "\n",
    "for i in range(10):\n",
    "    if i % 2 == 0:\n",
    "        continue\n",
    "    odd.append(i**2) \n",
    "    \n",
    "# 1.81 µs ± 33 ns per loop (mean ± std. dev. of 7 runs, 1,000,000 loops each)"
   ]
  },
  {
   "cell_type": "code",
   "execution_count": 34,
   "id": "66717fbb",
   "metadata": {},
   "outputs": [
    {
     "name": "stdout",
     "output_type": "stream",
     "text": [
      "1.9 µs ± 23.1 ns per loop (mean ± std. dev. of 7 runs, 1,000,000 loops each)\n"
     ]
    }
   ],
   "source": [
    "%%timeit\n",
    "#Timing Solution 2\n",
    "\n",
    "[i**2 for i in range(10) if i % 2 != 0]\n",
    "\n",
    "# 1.9 µs ± 23.1 ns per loop (mean ± std. dev. of 7 runs, 1,000,000 loops each)"
   ]
  },
  {
   "cell_type": "markdown",
   "id": "80aff4db",
   "metadata": {},
   "source": [
    "Solution 1 is marginally faster than solution 2 on average, but the variance is greater in solution 1 than solution 2."
   ]
  },
  {
   "cell_type": "markdown",
   "id": "8ba7f36c",
   "metadata": {},
   "source": [
    "## Exercise 4 (A problem of decay)"
   ]
  },
  {
   "cell_type": "code",
   "execution_count": 36,
   "id": "d252091c",
   "metadata": {},
   "outputs": [
    {
     "name": "stdout",
     "output_type": "stream",
     "text": [
      "14\n"
     ]
    }
   ],
   "source": [
    "Sample = 100\n",
    "year = 0\n",
    "\n",
    "while Sample > 50:\n",
    "    Sample = Sample * 0.95\n",
    "    year += 1\n",
    "    \n",
    "print(year)\n",
    "\n",
    "#The Sample will take 14 years to reduce to half its original amount"
   ]
  },
  {
   "cell_type": "markdown",
   "id": "ea1421fe",
   "metadata": {},
   "source": [
    "## Exercise 5 (Changes in CO2)"
   ]
  },
  {
   "cell_type": "code",
   "execution_count": 74,
   "id": "5f5f0c49",
   "metadata": {},
   "outputs": [
    {
     "name": "stdout",
     "output_type": "stream",
     "text": [
      "Year(s) with increase in CO2 of 3ppm or more is/are [2016], and their corresponding increase in CO2 is [3.410000000000025]\n"
     ]
    }
   ],
   "source": [
    "import numpy as np\n",
    "year_with_3ppm_increase = []\n",
    "corresponding_ppm_increase = []\n",
    "\n",
    "co2_data = [\n",
    "    (2000, 369.55), (2001, 371.14), (2002, 373.28), \n",
    "    (2003, 375.80), (2004, 377.52), (2005, 379.80), \n",
    "    (2006, 381.90), (2007, 383.79), (2008, 385.60), \n",
    "    (2009, 387.43), (2010, 389.90), (2011, 391.65), \n",
    "    (2012, 393.85), (2013, 396.52), (2014, 398.65),\n",
    "    (2015, 400.83), (2016, 404.24), (2017, 406.55), \n",
    "    (2018, 408.52), (2019, 411.44), (2020, 414.24)\n",
    "    \n",
    "]\n",
    "\n",
    "for i in range(1, len(co2_data)):\n",
    "    year, co2 = co2_data[i]\n",
    "    prev_year, prev_co2 = co2_data[i-1]\n",
    "    \n",
    "    change = co2 - prev_co2\n",
    "    \n",
    "    if change <= 3:\n",
    "        continue\n",
    "    year_with_3ppm_increase.append(year)\n",
    "    corresponding_ppm_increase.append(change)\n",
    "        \n",
    "print(f'Year(s) with increase in CO2 of 3ppm or more is/are {year_with_3ppm_increase}, and their corresponding increase in CO2 is {corresponding_ppm_increase}')"
   ]
  }
 ],
 "metadata": {
  "kernelspec": {
   "display_name": "Python 3 (ipykernel)",
   "language": "python",
   "name": "python3"
  },
  "language_info": {
   "codemirror_mode": {
    "name": "ipython",
    "version": 3
   },
   "file_extension": ".py",
   "mimetype": "text/x-python",
   "name": "python",
   "nbconvert_exporter": "python",
   "pygments_lexer": "ipython3",
   "version": "3.11.5"
  },
  "toc": {
   "base_numbering": 1,
   "nav_menu": {},
   "number_sections": true,
   "sideBar": true,
   "skip_h1_title": false,
   "title_cell": "Table of Contents",
   "title_sidebar": "Contents",
   "toc_cell": false,
   "toc_position": {},
   "toc_section_display": true,
   "toc_window_display": false
  },
  "varInspector": {
   "cols": {
    "lenName": 16,
    "lenType": 16,
    "lenVar": 40
   },
   "kernels_config": {
    "python": {
     "delete_cmd_postfix": "",
     "delete_cmd_prefix": "del ",
     "library": "var_list.py",
     "varRefreshCmd": "print(var_dic_list())"
    },
    "r": {
     "delete_cmd_postfix": ") ",
     "delete_cmd_prefix": "rm(",
     "library": "var_list.r",
     "varRefreshCmd": "cat(var_dic_list()) "
    }
   },
   "types_to_exclude": [
    "module",
    "function",
    "builtin_function_or_method",
    "instance",
    "_Feature"
   ],
   "window_display": false
  },
  "vscode": {
   "interpreter": {
    "hash": "31f2aee4e71d21fbe5cf8b01ff0e069b9275f58929596ceb00d14d90e3e16cd6"
   }
  }
 },
 "nbformat": 4,
 "nbformat_minor": 5
}
