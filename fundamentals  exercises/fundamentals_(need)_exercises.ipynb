{
 "cells": [
  {
   "cell_type": "markdown",
   "id": "123456",
   "metadata": {},
   "source": [
    "<div style=\"text-align:left;font-size:2em\"><span style=\"font-weight:bolder;font-size:1.25em\">SP2273 | Learning Portfolio</span><br><br><span style=\"font-weight:bold;color:darkred\">Fundamentals (Need) Exercises</span></div>"
   ]
  },
  {
   "cell_type": "markdown",
   "id": "ca6888bc",
   "metadata": {},
   "source": [
    "## Exercise 1: Total Recall"
   ]
  },
  {
   "cell_type": "markdown",
   "id": "075c9349",
   "metadata": {},
   "source": [
    "1. Python reads functions such as print()\n",
    "2. Functions are case sensititve, print() is not the same as Print()\n",
    "3. Enclosed within the brackets are arguments. Not all functions need arguments\n",
    "4. We can include comments using #. Python will skip over them\n",
    "5. 'xyz' is a text. xyz is a variable. We need to define a variable by assigning them something (ie value)\n",
    "6. When assigning variables, = means is equal to, == is a true/false check after assigning\n",
    "7. Python is limited. To provide it more functions, we need to import packages. \n",
    "8. When executing package functions, we add a period after the package(eg. math.sqrt) to indicate ownership\n",
    "9. Three types of brackets are used. () is used in calling objects or mathematics, [] is used for arrays, {} is used to store data in the form of dictionary\n",
    "10. We can use if-else functions to make decisions\n",
    "\n",
    "\n",
    "*11. Python is interpreted* \n",
    "\n",
    "*12. Indents and Spaces are important as it may affect how python interprets the codes. Times where indentations are important is like the if-else loop*"
   ]
  },
  {
   "cell_type": "markdown",
   "id": "7be018bb",
   "metadata": {},
   "source": [
    "## Exercise 2: Debug Me"
   ]
  },
  {
   "cell_type": "code",
   "execution_count": 4,
   "id": "81db60c4",
   "metadata": {},
   "outputs": [
    {
     "name": "stdout",
     "output_type": "stream",
     "text": [
      "3 4 5.0\n"
     ]
    }
   ],
   "source": [
    "'''\n",
    "Here is the incorrect code\n",
    "x, y = 3, 4\n",
    "        z = sqrt(x*2 + y**2)\n",
    "    Print(x, y, z)\n",
    "'''\n",
    "\n",
    "# Here is the updated code\n",
    "\n",
    "import numpy as np\n",
    "\n",
    "x,y = 3,4\n",
    "z = np.sqrt(x**2 + y**2)\n",
    "\n",
    "print(x,y,z)"
   ]
  },
  {
   "cell_type": "markdown",
   "id": "b89329c2",
   "metadata": {},
   "source": [
    "## Exercise 3: In Your Own Words"
   ]
  },
  {
   "cell_type": "markdown",
   "id": "41df3b8d",
   "metadata": {},
   "source": [
    "|#|Term|Description|\n",
    "|:---|:---|:---|\n",
    "|1|Function| A preset, defined code that can accept an input and return an output|\n",
    "|2|Argument| A value that is accepted by the function as an input to return an output|\n",
    "|3|Comments| Written to explain the code, of which python skips over these statements|\n",
    "|4|Indentations| Python uses these to separate and group the code, especially in loops and functions|\n",
    "|5|Packages| Imported into python to give python new prewritten functions to carry out certain tasks|\n",
    "|6|.|Shows ownership, can also be used to call the function in the package|\n",
    "|7|:|Used in indentations when structuring codes in python, as well as slicing lists|\n",
    "|8|[ ]| Used when creating lists and arrays in python|\n",
    "|9|[ [ [ ] ] ] | Nested brackets are often seen in 2D lists and arrays|\n",
    "|10|{ }| Used when creating python dictionaries|\n"
   ]
  },
  {
   "cell_type": "markdown",
   "id": "006c796f",
   "metadata": {},
   "source": [
    "## Exercise 4: More than one way to divide"
   ]
  },
  {
   "cell_type": "code",
   "execution_count": 6,
   "id": "8656684c",
   "metadata": {},
   "outputs": [
    {
     "data": {
      "text/plain": [
       "2.5"
      ]
     },
     "execution_count": 6,
     "metadata": {},
     "output_type": "execute_result"
    }
   ],
   "source": [
    "5/2   # Divide 5 by 2 (Float Division)"
   ]
  },
  {
   "cell_type": "code",
   "execution_count": 16,
   "id": "1ca88ace",
   "metadata": {},
   "outputs": [
    {
     "data": {
      "text/plain": [
       "2"
      ]
     },
     "execution_count": 16,
     "metadata": {},
     "output_type": "execute_result"
    }
   ],
   "source": [
    "5//2  # Divide 5 by 2, then floor the result (Floor Division)"
   ]
  },
  {
   "cell_type": "code",
   "execution_count": 15,
   "id": "fd25c84a",
   "metadata": {},
   "outputs": [
    {
     "data": {
      "text/plain": [
       "1"
      ]
     },
     "execution_count": 15,
     "metadata": {},
     "output_type": "execute_result"
    }
   ],
   "source": [
    "5%2  # Divide 5 by 2, then return the remainder (Modulo Division)"
   ]
  }
 ],
 "metadata": {
  "kernelspec": {
   "display_name": "Python 3 (ipykernel)",
   "language": "python",
   "name": "python3"
  },
  "language_info": {
   "codemirror_mode": {
    "name": "ipython",
    "version": 3
   },
   "file_extension": ".py",
   "mimetype": "text/x-python",
   "name": "python",
   "nbconvert_exporter": "python",
   "pygments_lexer": "ipython3",
   "version": "3.11.5"
  },
  "toc": {
   "base_numbering": 1,
   "nav_menu": {},
   "number_sections": true,
   "sideBar": true,
   "skip_h1_title": false,
   "title_cell": "Table of Contents",
   "title_sidebar": "Contents",
   "toc_cell": false,
   "toc_position": {},
   "toc_section_display": true,
   "toc_window_display": false
  },
  "varInspector": {
   "cols": {
    "lenName": 16,
    "lenType": 16,
    "lenVar": 40
   },
   "kernels_config": {
    "python": {
     "delete_cmd_postfix": "",
     "delete_cmd_prefix": "del ",
     "library": "var_list.py",
     "varRefreshCmd": "print(var_dic_list())"
    },
    "r": {
     "delete_cmd_postfix": ") ",
     "delete_cmd_prefix": "rm(",
     "library": "var_list.r",
     "varRefreshCmd": "cat(var_dic_list()) "
    }
   },
   "types_to_exclude": [
    "module",
    "function",
    "builtin_function_or_method",
    "instance",
    "_Feature"
   ],
   "window_display": false
  },
  "vscode": {
   "interpreter": {
    "hash": "31f2aee4e71d21fbe5cf8b01ff0e069b9275f58929596ceb00d14d90e3e16cd6"
   }
  }
 },
 "nbformat": 4,
 "nbformat_minor": 5
}
