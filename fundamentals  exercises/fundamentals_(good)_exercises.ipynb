{
 "cells": [
  {
   "cell_type": "markdown",
   "id": "123456",
   "metadata": {},
   "source": [
    "<div style=\"text-align:left;font-size:2em\"><span style=\"font-weight:bolder;font-size:1.25em\">SP2273 | Learning Portfolio</span><br><br><span style=\"font-weight:bold;color:darkred\">Fundamentals (Good) Exercises</span></div>"
   ]
  },
  {
   "cell_type": "markdown",
   "id": "b8d72958",
   "metadata": {},
   "source": [
    "# Exercise 1 (What is your grade)"
   ]
  },
  {
   "cell_type": "code",
   "execution_count": null,
   "id": "7df1f156",
   "metadata": {},
   "outputs": [],
   "source": [
    "# Explore\n",
    "\n",
    "user_input = input('Give me a number?')\n",
    "print('You entered', user_input)"
   ]
  },
  {
   "cell_type": "code",
   "execution_count": null,
   "id": "60b8059e",
   "metadata": {},
   "outputs": [],
   "source": [
    "# Task \n",
    "# Coding on basic mode (Can only handle input errors for numbers, but not when words are input)\n",
    "\n",
    "Score = input('Enter the student\\'s score:')\n",
    "\n",
    "Score = float(Score)\n",
    "\n",
    "if 70 <= Score <= 100:\n",
    "    print(f\"The student's letter grade is A\")\n",
    "elif 50 <= Score < 70:\n",
    "    print(f\"The student's letter grade is B\")\n",
    "elif 35 <= Score < 49:\n",
    "    print(f\"The student's letter grade is C\")\n",
    "elif 0 <= Score < 34:\n",
    "    print(f\"The student's letter grade is Fail\")\n",
    "elif 0 > Score:\n",
    "    print(f\"NUMBER IS NEGATIVE!\")\n",
    "elif 100 < Score:\n",
    "    print(f\"MAXIMUM SCORE IS 100\")"
   ]
  },
  {
   "cell_type": "code",
   "execution_count": 7,
   "id": "f9ad4f2d",
   "metadata": {
    "code_folding": []
   },
   "outputs": [
    {
     "name": "stdout",
     "output_type": "stream",
     "text": [
      "Enter the student's score:2²\n",
      "Error! Score has to be a number between 0 and 100 inclusive!\n"
     ]
    }
   ],
   "source": [
    "# Coding on Medium-Hard Mode (Solved using try-except to handle ALL error cases (funny numbers and word inputs))\n",
    "# Technically can also use assert\n",
    "\n",
    "Score = input('Enter the student\\'s score:')\n",
    "\n",
    "try:\n",
    "    Score = float(Score)\n",
    "    if 70 <= Score <= 100:\n",
    "        print(f\"The student's letter grade is A\")\n",
    "    elif 50 <= Score < 70:\n",
    "        print(f\"The student's letter grade is B\")\n",
    "    elif 35 <= Score < 49:\n",
    "        print(f\"The student's letter grade is C\")\n",
    "    elif 0 <= Score < 34:\n",
    "        print(f\"The student's letter grade is Fail\")\n",
    "    elif 0 > Score:\n",
    "        print(f\"NUMBER IS NEGATIVE!\")\n",
    "    elif 100 < Score:\n",
    "        print(f\"MAXIMUM SCORE IS 100\")\n",
    "    else:\n",
    "        print(\"Stop being funny\")\n",
    "except:\n",
    "    print(\"Error! Score has to be a number between 0 and 100 inclusive!\")\n",
    "    "
   ]
  },
  {
   "cell_type": "code",
   "execution_count": 6,
   "id": "9710accc",
   "metadata": {},
   "outputs": [
    {
     "name": "stdout",
     "output_type": "stream",
     "text": [
      "Enter the student's score:2²\n"
     ]
    },
    {
     "ename": "ValueError",
     "evalue": "could not convert string to float: '2²'",
     "output_type": "error",
     "traceback": [
      "\u001b[1;31m---------------------------------------------------------------------------\u001b[0m",
      "\u001b[1;31mValueError\u001b[0m                                Traceback (most recent call last)",
      "Cell \u001b[1;32mIn[6], line 6\u001b[0m\n\u001b[0;32m      3\u001b[0m Score \u001b[38;5;241m=\u001b[39m \u001b[38;5;28minput\u001b[39m(\u001b[38;5;124m'\u001b[39m\u001b[38;5;124mEnter the student\u001b[39m\u001b[38;5;130;01m\\'\u001b[39;00m\u001b[38;5;124ms score:\u001b[39m\u001b[38;5;124m'\u001b[39m)\n\u001b[0;32m      5\u001b[0m \u001b[38;5;28;01mif\u001b[39;00m Score\u001b[38;5;241m.\u001b[39misnumeric():\n\u001b[1;32m----> 6\u001b[0m     Score \u001b[38;5;241m=\u001b[39m \u001b[38;5;28;43mfloat\u001b[39;49m\u001b[43m(\u001b[49m\u001b[43mScore\u001b[49m\u001b[43m)\u001b[49m\n\u001b[0;32m      7\u001b[0m     \u001b[38;5;28;01mif\u001b[39;00m \u001b[38;5;241m70\u001b[39m \u001b[38;5;241m<\u001b[39m\u001b[38;5;241m=\u001b[39m Score \u001b[38;5;241m<\u001b[39m\u001b[38;5;241m=\u001b[39m \u001b[38;5;241m100\u001b[39m:\n\u001b[0;32m      8\u001b[0m         \u001b[38;5;28mprint\u001b[39m(\u001b[38;5;124mf\u001b[39m\u001b[38;5;124m\"\u001b[39m\u001b[38;5;124mThe student\u001b[39m\u001b[38;5;124m'\u001b[39m\u001b[38;5;124ms letter grade is A\u001b[39m\u001b[38;5;124m\"\u001b[39m)\n",
      "\u001b[1;31mValueError\u001b[0m: could not convert string to float: '2²'"
     ]
    }
   ],
   "source": [
    "# Coding on Medium-Hard mode - Yuan Zhe suggested isnumeric(): Cannot take into account decimals but can take into account word inputs)\n",
    "\n",
    "Score = input('Enter the student\\'s score:')\n",
    "\n",
    "if Score.isnumeric():\n",
    "    Score = float(Score)\n",
    "    if 70 <= Score <= 100:\n",
    "        print(f\"The student's letter grade is A\")\n",
    "    elif 50 <= Score < 70:\n",
    "        print(f\"The student's letter grade is B\")\n",
    "    elif 35 <= Score < 50:\n",
    "        print(f\"The student's letter grade is C\")\n",
    "    elif 0 <= Score < 35:\n",
    "        print(f\"The student's letter grade is Fail\")\n",
    "    else:\n",
    "        print(\"Error! Score has to be a number between 0 and 100 inclusive!\")\n",
    "else:\n",
    "    print(\"Error! Score has to be a positive integer!\")        "
   ]
  },
  {
   "cell_type": "code",
   "execution_count": null,
   "id": "881f6f8b",
   "metadata": {
    "code_folding": []
   },
   "outputs": [],
   "source": [
    "# Coding on ??? Mode - Yuan Zhe suggested eval but we realised that eval turns word inputs into a variable, giving us name error\n",
    "\n",
    "Score = input('Enter the student\\'s score:')\n",
    "Score = eval(Score)\n",
    "\n",
    "if type(input) != float:\n",
    "    print(\"Error! Score has to be a number!\")\n",
    "else:    \n",
    "    Score = float(Score)\n",
    "    if 70 <= Score <= 100:\n",
    "        print(f\"The student's letter grade is A\")\n",
    "    elif 50 <= Score <= 69:\n",
    "        print(f\"The student's letter grade is B\")\n",
    "    elif 35 <= Score <= 49:\n",
    "        print(f\"The student's letter grade is C\")\n",
    "    elif 0 <= Score <= 34:\n",
    "        print(f\"The student's letter grade is Fail\")\n",
    "    else:\n",
    "        print(\"Error! Score has to be a number between 0 and 100 inclusive!\")\n",
    "        \n",
    "        \n",
    "print(type(Score))"
   ]
  }
 ],
 "metadata": {
  "kernelspec": {
   "display_name": "Python 3 (ipykernel)",
   "language": "python",
   "name": "python3"
  },
  "language_info": {
   "codemirror_mode": {
    "name": "ipython",
    "version": 3
   },
   "file_extension": ".py",
   "mimetype": "text/x-python",
   "name": "python",
   "nbconvert_exporter": "python",
   "pygments_lexer": "ipython3",
   "version": "3.11.5"
  },
  "toc": {
   "base_numbering": 1,
   "nav_menu": {},
   "number_sections": true,
   "sideBar": true,
   "skip_h1_title": false,
   "title_cell": "Table of Contents",
   "title_sidebar": "Contents",
   "toc_cell": false,
   "toc_position": {},
   "toc_section_display": true,
   "toc_window_display": false
  },
  "varInspector": {
   "cols": {
    "lenName": 16,
    "lenType": 16,
    "lenVar": 40
   },
   "kernels_config": {
    "python": {
     "delete_cmd_postfix": "",
     "delete_cmd_prefix": "del ",
     "library": "var_list.py",
     "varRefreshCmd": "print(var_dic_list())"
    },
    "r": {
     "delete_cmd_postfix": ") ",
     "delete_cmd_prefix": "rm(",
     "library": "var_list.r",
     "varRefreshCmd": "cat(var_dic_list()) "
    }
   },
   "types_to_exclude": [
    "module",
    "function",
    "builtin_function_or_method",
    "instance",
    "_Feature"
   ],
   "window_display": false
  },
  "vscode": {
   "interpreter": {
    "hash": "31f2aee4e71d21fbe5cf8b01ff0e069b9275f58929596ceb00d14d90e3e16cd6"
   }
  }
 },
 "nbformat": 4,
 "nbformat_minor": 5
}
