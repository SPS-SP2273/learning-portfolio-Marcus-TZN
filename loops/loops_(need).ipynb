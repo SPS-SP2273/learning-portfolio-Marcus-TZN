{
 "cells": [
  {
   "cell_type": "markdown",
   "id": "123456",
   "metadata": {},
   "source": [
    "<div style=\"text-align:left;font-size:2em\"><span style=\"font-weight:bolder;font-size:1.25em\">SP2273 | Learning Portfolio</span><br><br><span style=\"font-weight:bold;color:darkred\">Loops (Need)</span></div>"
   ]
  },
  {
   "cell_type": "markdown",
   "id": "80918a52",
   "metadata": {},
   "source": [
    "# What to expect in this chapter"
   ]
  },
  {
   "cell_type": "code",
   "execution_count": null,
   "id": "1e851dfe",
   "metadata": {},
   "outputs": [],
   "source": [
    "# Let's try using pokemon as context again HAHA"
   ]
  },
  {
   "cell_type": "markdown",
   "id": "42aa8f25",
   "metadata": {},
   "source": [
    "# 1 The for iterator"
   ]
  },
  {
   "cell_type": "code",
   "execution_count": null,
   "id": "a8206d5f",
   "metadata": {},
   "outputs": [],
   "source": [
    "# The problem\n",
    "\n",
    "pokemon = ['Pikachu', 'Eevee', 'Psyduck']\n",
    "\n",
    "name = pokemons[0]\n",
    "print(f'{name} is a pokemon!')\n",
    "name = pokemons[1]\n",
    "print(f'{name} is a pokemon!')\n",
    "name = pokemons[2]\n",
    "print(f'{name} is a pokemon!')\n",
    "\n",
    "# This is very cumbersome and takes alot of typing. Also easily got syntax error"
   ]
  },
  {
   "cell_type": "markdown",
   "id": "747f893b",
   "metadata": {},
   "source": [
    "## 1.1 for with a list"
   ]
  },
  {
   "cell_type": "code",
   "execution_count": null,
   "id": "4a890fb7",
   "metadata": {},
   "outputs": [],
   "source": [
    "pokemons = ['Pikachu', 'Eevee', 'Psyduck']\n",
    "\n",
    "for pokemon in pokemons:\n",
    "    print(f'{pokemon} is a pokemon!')\n",
    "    \n",
    "# This is so much better"
   ]
  },
  {
   "cell_type": "code",
   "execution_count": null,
   "id": "60c456e4",
   "metadata": {},
   "outputs": [],
   "source": [
    "pokemons = ['Pikachu', 'Eevee', 'Psyduck']\n",
    "\n",
    "for creature in pokemons:\n",
    "    print(f'{creature} is a pokemon!')\n",
    "    \n",
    "# The name of the variable does not matter"
   ]
  },
  {
   "cell_type": "markdown",
   "id": "8d69a259",
   "metadata": {},
   "source": [
    "## 1.2 for with enumerate"
   ]
  },
  {
   "cell_type": "code",
   "execution_count": 1,
   "id": "39382c33",
   "metadata": {},
   "outputs": [
    {
     "name": "stdout",
     "output_type": "stream",
     "text": [
      "0: Charizard is a pokemon!\n",
      "1: Blastoise is a pokemon!\n",
      "2: Venusaur is a pokemon!\n"
     ]
    }
   ],
   "source": [
    "pokemon = ['Charizard', 'Blastoise', 'Venusaur']\n",
    "types = ['Fire','Water','Grass']\n",
    "\n",
    "for count, pokemon in enumerate(pokemon):\n",
    "    print(f'{count}: {pokemon} is a pokemon!')\n",
    "    \n",
    "# This give us a counter that is stored in count!"
   ]
  },
  {
   "cell_type": "code",
   "execution_count": 11,
   "id": "2bd59f6e",
   "metadata": {},
   "outputs": [
    {
     "name": "stdout",
     "output_type": "stream",
     "text": [
      "1: Charizard is a pokemon!\n",
      "2: Blastoise is a pokemon!\n",
      "3: Venusaur is a pokemon!\n"
     ]
    }
   ],
   "source": [
    "pokemon = ['Charizard', 'Blastoise', 'Venusaur']\n",
    "types = ['Fire','Water','Grass']\n",
    "\n",
    "for count, pokemon in enumerate(pokemon,1):\n",
    "    print(f'{count}: {pokemon} is a pokemon!')\n",
    "    \n",
    "# Now the counter makes sense! To start from 1"
   ]
  },
  {
   "cell_type": "code",
   "execution_count": 10,
   "id": "5eae155d",
   "metadata": {},
   "outputs": [
    {
     "name": "stdout",
     "output_type": "stream",
     "text": [
      "Charizard is a Fire type!\n",
      "Blastoise is a Water type!\n",
      "Venusaur is a Grass type!\n"
     ]
    }
   ],
   "source": [
    "pokemon = ['Charizard', 'Blastoise', 'Venusaur']\n",
    "types = ['Fire','Water','Grass']\n",
    "\n",
    "for index, pokemon in enumerate(pokemon):\n",
    "    element = types[index]\n",
    "    print(f'{pokemon} is a {element} type!')\n",
    "\n",
    "# Using enumerate to index another list!"
   ]
  },
  {
   "cell_type": "markdown",
   "id": "007b309a",
   "metadata": {},
   "source": [
    "## 1.3 for with range"
   ]
  },
  {
   "cell_type": "code",
   "execution_count": null,
   "id": "d28f8963",
   "metadata": {},
   "outputs": [],
   "source": [
    "#Range only works with loops"
   ]
  },
  {
   "cell_type": "code",
   "execution_count": 14,
   "id": "4d01af2e",
   "metadata": {},
   "outputs": [
    {
     "name": "stdout",
     "output_type": "stream",
     "text": [
      "0\n",
      "1\n",
      "2\n",
      "3\n",
      "4\n",
      "5\n",
      "6\n",
      "7\n",
      "8\n",
      "9\n"
     ]
    }
   ],
   "source": [
    "for i in range(10):\n",
    "    print(i)\n",
    "    \n",
    "# For range(n), print values from 0 to n-1"
   ]
  },
  {
   "cell_type": "code",
   "execution_count": 15,
   "id": "e3a486a1",
   "metadata": {},
   "outputs": [
    {
     "name": "stdout",
     "output_type": "stream",
     "text": [
      "2\n",
      "3\n",
      "4\n",
      "5\n",
      "6\n",
      "7\n",
      "8\n",
      "9\n",
      "10\n",
      "11\n",
      "12\n"
     ]
    }
   ],
   "source": [
    "for i in range(2,13):\n",
    "    print(i)\n",
    "    \n",
    "# For range(a,b), print values from a to b-1"
   ]
  },
  {
   "cell_type": "code",
   "execution_count": 16,
   "id": "f32bb7df",
   "metadata": {},
   "outputs": [
    {
     "name": "stdout",
     "output_type": "stream",
     "text": [
      "22\n",
      "25\n",
      "28\n",
      "31\n",
      "34\n",
      "37\n",
      "40\n",
      "43\n",
      "46\n",
      "49\n",
      "52\n",
      "55\n"
     ]
    }
   ],
   "source": [
    "for i in range(22,56,3):\n",
    "    print(i)\n",
    "\n",
    "# For range(x,y,z), print values from x to y-1 in intervals of z  "
   ]
  },
  {
   "cell_type": "code",
   "execution_count": 21,
   "id": "f0439fe0",
   "metadata": {},
   "outputs": [
    {
     "name": "stdout",
     "output_type": "stream",
     "text": [
      "Charizard is a Fire type!\n",
      "Blastoise is a Water type!\n",
      "Venusaur is a Grass type!\n"
     ]
    }
   ],
   "source": [
    "pokemons = ['Charizard', 'Blastoise', 'Venusaur']\n",
    "types = ['Fire','Water','Grass']\n",
    "\n",
    "for i in range(len(pokemons)):   #Count elements \n",
    "    pokemon = pokemons[i]\n",
    "    element = types[i]\n",
    "    print(f'{pokemon} is a {element} type!')"
   ]
  },
  {
   "cell_type": "markdown",
   "id": "78439c32",
   "metadata": {},
   "source": [
    "# 2 while"
   ]
  },
  {
   "cell_type": "code",
   "execution_count": 22,
   "id": "8233e79a",
   "metadata": {},
   "outputs": [
    {
     "name": "stdout",
     "output_type": "stream",
     "text": [
      "0\n",
      "1\n",
      "2\n",
      "3\n",
      "4\n",
      "5\n",
      "6\n",
      "7\n"
     ]
    }
   ],
   "source": [
    "number = 0\n",
    "\n",
    "while number < 8:\n",
    "    print(number)\n",
    "    number += 1"
   ]
  },
  {
   "cell_type": "code",
   "execution_count": 1,
   "id": "30a88ea1",
   "metadata": {},
   "outputs": [
    {
     "name": "stdout",
     "output_type": "stream",
     "text": [
      "2\n",
      "3\n",
      "4\n",
      "5\n",
      "6\n",
      "7\n",
      "8\n",
      "9\n"
     ]
    }
   ],
   "source": [
    "limit = 10\n",
    "number = 2\n",
    "\n",
    "while number < limit:\n",
    "    print(number)\n",
    "    number += 1"
   ]
  },
  {
   "cell_type": "markdown",
   "id": "7c761620",
   "metadata": {},
   "source": [
    "# Extra stuff!"
   ]
  },
  {
   "cell_type": "code",
   "execution_count": 4,
   "id": "a6cfbf50",
   "metadata": {},
   "outputs": [
    {
     "name": "stdout",
     "output_type": "stream",
     "text": [
      "[2, 4, 6, 8]\n"
     ]
    }
   ],
   "source": [
    "# Using loops to create lists!\n",
    "\n",
    "number = []\n",
    "\n",
    "for i in range(2,10,2):\n",
    "    number.append(i)\n",
    "\n",
    "print(number)"
   ]
  },
  {
   "cell_type": "code",
   "execution_count": 7,
   "id": "0156c470",
   "metadata": {},
   "outputs": [
    {
     "name": "stdout",
     "output_type": "stream",
     "text": [
      "5 3 5\n"
     ]
    }
   ],
   "source": [
    "# Using python for sorting lists:\n",
    "\n",
    "Movie_Data = ['Adventure', 'Adventure', 'Comedy', 'Horror', 'Comedy', 'Adventure', 'Comedy', 'Horror', 'Horror', 'Adventure', 'Comedy', 'Comedy', 'Adventure']\n",
    "        \n",
    "Adventure = 0\n",
    "Horror = 0\n",
    "Comedy = 0\n",
    "\n",
    "for data in Movie_Data:\n",
    "    if data == 'Adventure':\n",
    "        Adventure += 1\n",
    "    if data == 'Horror':\n",
    "        Horror += 1\n",
    "    if data == 'Comedy':\n",
    "        Comedy += 1\n",
    "\n",
    "print(Adventure, Horror, Comedy)"
   ]
  },
  {
   "cell_type": "code",
   "execution_count": null,
   "id": "eccd53be",
   "metadata": {},
   "outputs": [],
   "source": [
    "# Do NOT run this while loop code!\n",
    "\n",
    "# Name of code: Domain Expansion (Geddit?)\n",
    "\n",
    "\n",
    "while True:\n",
    "    print('[]', end='')"
   ]
  }
 ],
 "metadata": {
  "kernelspec": {
   "display_name": "Python 3 (ipykernel)",
   "language": "python",
   "name": "python3"
  },
  "language_info": {
   "codemirror_mode": {
    "name": "ipython",
    "version": 3
   },
   "file_extension": ".py",
   "mimetype": "text/x-python",
   "name": "python",
   "nbconvert_exporter": "python",
   "pygments_lexer": "ipython3",
   "version": "3.11.5"
  },
  "toc": {
   "base_numbering": 1,
   "nav_menu": {},
   "number_sections": true,
   "sideBar": true,
   "skip_h1_title": false,
   "title_cell": "Table of Contents",
   "title_sidebar": "Contents",
   "toc_cell": false,
   "toc_position": {},
   "toc_section_display": true,
   "toc_window_display": false
  },
  "varInspector": {
   "cols": {
    "lenName": 16,
    "lenType": 16,
    "lenVar": 40
   },
   "kernels_config": {
    "python": {
     "delete_cmd_postfix": "",
     "delete_cmd_prefix": "del ",
     "library": "var_list.py",
     "varRefreshCmd": "print(var_dic_list())"
    },
    "r": {
     "delete_cmd_postfix": ") ",
     "delete_cmd_prefix": "rm(",
     "library": "var_list.r",
     "varRefreshCmd": "cat(var_dic_list()) "
    }
   },
   "types_to_exclude": [
    "module",
    "function",
    "builtin_function_or_method",
    "instance",
    "_Feature"
   ],
   "window_display": false
  },
  "vscode": {
   "interpreter": {
    "hash": "31f2aee4e71d21fbe5cf8b01ff0e069b9275f58929596ceb00d14d90e3e16cd6"
   }
  }
 },
 "nbformat": 4,
 "nbformat_minor": 5
}
