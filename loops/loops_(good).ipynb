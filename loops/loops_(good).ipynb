{
 "cells": [
  {
   "cell_type": "markdown",
   "id": "123456",
   "metadata": {},
   "source": [
    "<div style=\"text-align:left;font-size:2em\"><span style=\"font-weight:bolder;font-size:1.25em\">SP2273 | Learning Portfolio</span><br><br><span style=\"font-weight:bold;color:darkred\">Loops (Good)</span></div>"
   ]
  },
  {
   "cell_type": "markdown",
   "id": "c6a66268",
   "metadata": {},
   "source": [
    "# What to expect in this chapter"
   ]
  },
  {
   "cell_type": "markdown",
   "id": "1c47e6e2",
   "metadata": {},
   "source": [
    "# 1 Interrupting the flow"
   ]
  },
  {
   "cell_type": "code",
   "execution_count": 8,
   "id": "2e6c2612",
   "metadata": {},
   "outputs": [
    {
     "name": "stdout",
     "output_type": "stream",
     "text": [
      "0 0\n",
      "1 11\n",
      "2 22\n",
      "3 33\n",
      "4 44\n",
      "5 55\n"
     ]
    }
   ],
   "source": [
    "for factor in range(10):\n",
    "    limit = 60\n",
    "    number = factor * 10 + factor\n",
    "    if number > limit:\n",
    "        break\n",
    "    print(factor, number)"
   ]
  },
  {
   "cell_type": "code",
   "execution_count": 15,
   "id": "3d326e5b",
   "metadata": {},
   "outputs": [
    {
     "name": "stdout",
     "output_type": "stream",
     "text": [
      "0\n",
      "1\n",
      "3\n",
      "4\n",
      "5\n",
      "6\n",
      "7\n",
      "8\n",
      "9\n"
     ]
    }
   ],
   "source": [
    "for i in range(10):\n",
    "    if i == 2:\n",
    "        continue\n",
    "    print(i)"
   ]
  },
  {
   "cell_type": "code",
   "execution_count": 10,
   "id": "6ca8f9ef",
   "metadata": {},
   "outputs": [
    {
     "name": "stdout",
     "output_type": "stream",
     "text": [
      "10 100\n",
      "16 256\n",
      "22 484\n",
      "28 784\n",
      "34 1156\n",
      "40 1600\n",
      "46 2116\n",
      "52 2704\n",
      "58 3364\n",
      "64 4096\n",
      "70 4900\n",
      "76 5776\n",
      "82 6724\n",
      "88 7744\n",
      "94 8836\n"
     ]
    }
   ],
   "source": [
    "for i in range(10,100,3):\n",
    "    if i%2 != 0:\n",
    "        continue\n",
    "    number = i**2\n",
    "    print(i, number)"
   ]
  },
  {
   "cell_type": "code",
   "execution_count": 16,
   "id": "98647420",
   "metadata": {},
   "outputs": [
    {
     "name": "stdout",
     "output_type": "stream",
     "text": [
      "23\n",
      "24\n",
      "25\n",
      "26\n",
      "27\n",
      "28\n",
      "29\n"
     ]
    }
   ],
   "source": [
    "number = 23\n",
    "\n",
    "while True:\n",
    "    print(number)\n",
    "    number += 1\n",
    "    \n",
    "    if number >  29: break"
   ]
  },
  {
   "cell_type": "markdown",
   "id": "8cef60fd",
   "metadata": {},
   "source": [
    "# 2 List comprehension!"
   ]
  },
  {
   "cell_type": "markdown",
   "id": "d5e73aba",
   "metadata": {},
   "source": [
    "## 2.1 Basic syntax"
   ]
  },
  {
   "cell_type": "code",
   "execution_count": 17,
   "id": "f99aa3f7",
   "metadata": {},
   "outputs": [
    {
     "data": {
      "text/plain": [
       "[10, 14, 18, 22]"
      ]
     },
     "execution_count": 17,
     "metadata": {},
     "output_type": "execute_result"
    }
   ],
   "source": [
    "[number for number in range(10,23,4)]"
   ]
  },
  {
   "cell_type": "code",
   "execution_count": 18,
   "id": "2ddcbdba",
   "metadata": {},
   "outputs": [
    {
     "data": {
      "text/plain": [
       "[6, 12]"
      ]
     },
     "execution_count": 18,
     "metadata": {},
     "output_type": "execute_result"
    }
   ],
   "source": [
    "[number*3 for number in range(2,5,2)]"
   ]
  },
  {
   "cell_type": "markdown",
   "id": "69baf995",
   "metadata": {},
   "source": [
    "## 2.2 List comprehension with conditions"
   ]
  },
  {
   "cell_type": "code",
   "execution_count": 33,
   "id": "7735a2c1",
   "metadata": {},
   "outputs": [
    {
     "data": {
      "text/plain": [
       "[10, 24, 38, 52, 66, 80, 94, 108, 122]"
      ]
     },
     "execution_count": 33,
     "metadata": {},
     "output_type": "execute_result"
    }
   ],
   "source": [
    "[number for number in range(10,129,7) if number % 2 == 0]"
   ]
  },
  {
   "cell_type": "markdown",
   "id": "3e49fd52",
   "metadata": {},
   "source": [
    "# 3 Other useful stuff"
   ]
  },
  {
   "cell_type": "code",
   "execution_count": 48,
   "id": "001b5e18",
   "metadata": {},
   "outputs": [
    {
     "name": "stdout",
     "output_type": "stream",
     "text": [
      "x = apple, y = orange, z = banana\n"
     ]
    }
   ],
   "source": [
    "x, y, z = ['apple', 'orange', 'banana']\n",
    "\n",
    "print(f'x = {x}, y = {y}, z = {z}')"
   ]
  },
  {
   "cell_type": "markdown",
   "id": "2c3db646",
   "metadata": {},
   "source": [
    "## 3.1 for with unpacking"
   ]
  },
  {
   "cell_type": "code",
   "execution_count": 49,
   "id": "2e2a4880",
   "metadata": {},
   "outputs": [
    {
     "name": "stdout",
     "output_type": "stream",
     "text": [
      "apple is red color!\n",
      "orange is orange color!\n",
      "banana is yellow color!\n"
     ]
    }
   ],
   "source": [
    "fruits = [['apple', 'red'],\n",
    "          ['orange','orange'],\n",
    "          ['banana', 'yellow']]\n",
    "\n",
    "for fruit, color in fruits:\n",
    "    print(f'{fruit} is {color} color!')\n",
    "          "
   ]
  },
  {
   "cell_type": "markdown",
   "id": "a2847e5d",
   "metadata": {},
   "source": [
    "## 3.2 for with zip()"
   ]
  },
  {
   "cell_type": "code",
   "execution_count": 52,
   "id": "7123949a",
   "metadata": {},
   "outputs": [
    {
     "name": "stdout",
     "output_type": "stream",
     "text": [
      "Charizard is Fire type!\n",
      "Blastoise is Water type!\n",
      "Venusaur is Grass type!\n"
     ]
    }
   ],
   "source": [
    "pokemons = ['Charizard', 'Blastoise', 'Venusaur']\n",
    "types = ['Fire', 'Water', 'Grass']\n",
    "\n",
    "for pokemon, element in zip(pokemons, types):\n",
    "    print(f'{pokemon} is {element} type!')"
   ]
  },
  {
   "cell_type": "markdown",
   "id": "4c4a9702",
   "metadata": {},
   "source": [
    "## 3.3 for with dictionaries"
   ]
  },
  {
   "cell_type": "code",
   "execution_count": 57,
   "id": "53c7835e",
   "metadata": {},
   "outputs": [
    {
     "name": "stdout",
     "output_type": "stream",
     "text": [
      "Gengar is Ghost type!\n",
      "Lucario is Fighting type!\n",
      "Psyduck is Water type!\n"
     ]
    }
   ],
   "source": [
    "pokemon_pokedex = {'Gengar': 'Ghost',\n",
    "                   'Lucario': 'Fighting',\n",
    "                   'Psyduck':'Water'}\n",
    "\n",
    "for key, value in pokemon_pokedex.items():\n",
    "    print(f'{key} is {value} type!')\n",
    "    \n",
    "# THe function items() gives both the key and the corresponding value!"
   ]
  },
  {
   "cell_type": "code",
   "execution_count": 58,
   "id": "c373b3e4",
   "metadata": {},
   "outputs": [
    {
     "name": "stdout",
     "output_type": "stream",
     "text": [
      "Gengar is Ghost type!\n",
      "Lucario is Fighting type!\n",
      "Psyduck is Water type!\n"
     ]
    }
   ],
   "source": [
    "for key in pokemon_pokedex.keys():\n",
    "    value = pokemon_pokedex[key]\n",
    "    print(f'{key} is {value} type!')\n",
    "    \n",
    "# This allows a direct access and matching of key and value"
   ]
  },
  {
   "cell_type": "markdown",
   "id": "1117f72c",
   "metadata": {},
   "source": [
    "## Footnotes"
   ]
  }
 ],
 "metadata": {
  "kernelspec": {
   "display_name": "Python 3 (ipykernel)",
   "language": "python",
   "name": "python3"
  },
  "language_info": {
   "codemirror_mode": {
    "name": "ipython",
    "version": 3
   },
   "file_extension": ".py",
   "mimetype": "text/x-python",
   "name": "python",
   "nbconvert_exporter": "python",
   "pygments_lexer": "ipython3",
   "version": "3.11.5"
  },
  "toc": {
   "base_numbering": 1,
   "nav_menu": {},
   "number_sections": true,
   "sideBar": true,
   "skip_h1_title": false,
   "title_cell": "Table of Contents",
   "title_sidebar": "Contents",
   "toc_cell": false,
   "toc_position": {},
   "toc_section_display": true,
   "toc_window_display": false
  },
  "varInspector": {
   "cols": {
    "lenName": 16,
    "lenType": 16,
    "lenVar": 40
   },
   "kernels_config": {
    "python": {
     "delete_cmd_postfix": "",
     "delete_cmd_prefix": "del ",
     "library": "var_list.py",
     "varRefreshCmd": "print(var_dic_list())"
    },
    "r": {
     "delete_cmd_postfix": ") ",
     "delete_cmd_prefix": "rm(",
     "library": "var_list.r",
     "varRefreshCmd": "cat(var_dic_list()) "
    }
   },
   "types_to_exclude": [
    "module",
    "function",
    "builtin_function_or_method",
    "instance",
    "_Feature"
   ],
   "window_display": false
  },
  "vscode": {
   "interpreter": {
    "hash": "31f2aee4e71d21fbe5cf8b01ff0e069b9275f58929596ceb00d14d90e3e16cd6"
   }
  }
 },
 "nbformat": 4,
 "nbformat_minor": 5
}
