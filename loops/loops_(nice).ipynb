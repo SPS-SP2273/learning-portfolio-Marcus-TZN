{
 "cells": [
  {
   "cell_type": "markdown",
   "id": "123456",
   "metadata": {},
   "source": [
    "<div style=\"text-align:left;font-size:2em\"><span style=\"font-weight:bolder;font-size:1.25em\">SP2273 | Learning Portfolio</span><br><br><span style=\"font-weight:bold;color:darkred\">Loops (Nice)</span></div>"
   ]
  },
  {
   "cell_type": "markdown",
   "id": "f6f292d9",
   "metadata": {},
   "source": [
    "# 1 There is more to list comprehension"
   ]
  },
  {
   "cell_type": "code",
   "execution_count": 2,
   "id": "9b54b39f",
   "metadata": {},
   "outputs": [
    {
     "data": {
      "text/plain": [
       "[[0, 'X'],\n",
       " [0, 'Y'],\n",
       " [0, 'Z'],\n",
       " [1, 'X'],\n",
       " [1, 'Y'],\n",
       " [1, 'Z'],\n",
       " [2, 'X'],\n",
       " [2, 'Y'],\n",
       " [2, 'Z'],\n",
       " [3, 'X'],\n",
       " [3, 'Y'],\n",
       " [3, 'Z']]"
      ]
     },
     "execution_count": 2,
     "metadata": {},
     "output_type": "execute_result"
    }
   ],
   "source": [
    "[[a,b] for a in range(4) for b in ['X', 'Y', 'Z']]\n",
    "\n",
    "# Having two loops for one list comprehension"
   ]
  },
  {
   "cell_type": "code",
   "execution_count": 7,
   "id": "3f38f373",
   "metadata": {},
   "outputs": [
    {
     "data": {
      "text/plain": [
       "[[0, 'X'],\n",
       " [0, 'Y'],\n",
       " [0, 'Z'],\n",
       " [1, 'X'],\n",
       " [1, 'Y'],\n",
       " [1, 'Z'],\n",
       " [3, 'X'],\n",
       " [3, 'Y'],\n",
       " [3, 'Z']]"
      ]
     },
     "execution_count": 7,
     "metadata": {},
     "output_type": "execute_result"
    }
   ],
   "source": [
    "[[a,b] for a in range(4) if a != 2 for b in ['X', 'Y', 'Z'] if b == 'Y' or 'Z']\n",
    "\n",
    "#Incorporating conditions into my double loop"
   ]
  },
  {
   "cell_type": "code",
   "execution_count": 9,
   "id": "d34df4e9",
   "metadata": {},
   "outputs": [
    {
     "data": {
      "text/plain": [
       "[1, 2, 3, 'a', 'b', 'c']"
      ]
     },
     "execution_count": 9,
     "metadata": {},
     "output_type": "execute_result"
    }
   ],
   "source": [
    "nested_list = [[1,2,3],['a','b','c']]\n",
    "\n",
    "[y for x in nested_list for y in x]\n",
    "\n",
    "# Using list comprehension to flatten a list"
   ]
  },
  {
   "cell_type": "code",
   "execution_count": 11,
   "id": "79af0812",
   "metadata": {},
   "outputs": [
    {
     "data": {
      "text/plain": [
       "[1, 2, 3, 'a', 'b', 'c']"
      ]
     },
     "execution_count": 11,
     "metadata": {},
     "output_type": "execute_result"
    }
   ],
   "source": [
    "nested_list = [[1,2,3],['a','b','c']]\n",
    "\n",
    "output = []\n",
    "for x in nested_list:\n",
    "    for y in x:\n",
    "        output.append(y)\n",
    "        \n",
    "output\n",
    "\n",
    "# Using for loop in a for loop to flatten a list."
   ]
  },
  {
   "cell_type": "markdown",
   "id": "bb8ba2ba",
   "metadata": {},
   "source": [
    "# 2 Zipping a dictionary"
   ]
  },
  {
   "cell_type": "code",
   "execution_count": 13,
   "id": "3f814954",
   "metadata": {},
   "outputs": [
    {
     "data": {
      "text/plain": [
       "{'apple': 'red', 'orange': 'orange', 'banana': 'yellow', 'muscat': 'green'}"
      ]
     },
     "execution_count": 13,
     "metadata": {},
     "output_type": "execute_result"
    }
   ],
   "source": [
    "fruits = ['apple', 'orange', 'banana', 'muscat']\n",
    "colors = ['red', 'orange', 'yellow', 'green']\n",
    "\n",
    "dict(zip(fruits, colors))\n",
    "\n",
    "#Combining two lists into a dictionary"
   ]
  },
  {
   "cell_type": "markdown",
   "id": "10958651",
   "metadata": {},
   "source": [
    "# 3 for and while has an else"
   ]
  },
  {
   "cell_type": "code",
   "execution_count": 16,
   "id": "2a74efa2",
   "metadata": {},
   "outputs": [
    {
     "name": "stdout",
     "output_type": "stream",
     "text": [
      "No negative numbers in the list\n"
     ]
    }
   ],
   "source": [
    "numbers = [number for number in range(10)]\n",
    "\n",
    "for number in numbers:\n",
    "    if number < 0: break\n",
    "else:\n",
    "    print('No negative numbers in the list')"
   ]
  },
  {
   "cell_type": "code",
   "execution_count": 20,
   "id": "0557817a",
   "metadata": {},
   "outputs": [
    {
     "name": "stdout",
     "output_type": "stream",
     "text": [
      "Negative number detected!\n",
      "No negative numbers in the list\n"
     ]
    }
   ],
   "source": [
    "numbers = [number for number in range(10)]\n",
    "numbers.append(-1)\n",
    "\n",
    "for number in numbers:\n",
    "    if number < 0:\n",
    "        print('Negative number detected!')\n",
    "else:\n",
    "    print('No negative numbers in the list')"
   ]
  },
  {
   "cell_type": "code",
   "execution_count": 24,
   "id": "5b21160a",
   "metadata": {},
   "outputs": [
    {
     "name": "stdout",
     "output_type": "stream",
     "text": [
      "0\n",
      "1\n",
      "2\n",
      "3\n",
      "4\n",
      "Limit Hit!\n"
     ]
    }
   ],
   "source": [
    "number = 0\n",
    "\n",
    "while number < 5:\n",
    "    print(number)\n",
    "    number += 1\n",
    "else:\n",
    "    print('Limit Hit!')"
   ]
  },
  {
   "cell_type": "markdown",
   "id": "45eb3389",
   "metadata": {},
   "source": [
    "# Exercises"
   ]
  },
  {
   "cell_type": "markdown",
   "id": "1606ea77",
   "metadata": {},
   "source": [
    "## Exercise 1 (Changing a list)"
   ]
  },
  {
   "cell_type": "code",
   "execution_count": 26,
   "id": "cbbded4f",
   "metadata": {},
   "outputs": [
    {
     "name": "stdout",
     "output_type": "stream",
     "text": [
      "['apple', 'banana', 'jackfruit', 'watermelons', 'durian', 'mangoes', 'strawberries']\n"
     ]
    }
   ],
   "source": [
    "# Incorrect Code: \n",
    "\n",
    "# for fruit in fruits:            # Removing items in a for loop will result in skipping of elements as the loops use the original length\n",
    "#    if fruit[0] == \"p\":          # We used indexing here\n",
    "#        fruits.remove(fruit)     # .remove may cause indexing and counting error \n",
    "\n",
    "# Edited Code\n",
    "\n",
    "fruits = [\"apple\", \"banana\", \"jackfruit\",\n",
    "          \"pineapple\", \"papaya\", \"watermelons\",\n",
    "          \"peaches\", \"durian\",  \"mangoes\",\n",
    "          \"strawberries\", \"passionfruit\"\n",
    "          ]\n",
    "\n",
    "updated_list = [fruit for fruit in fruits if fruit[0] != \"p\"]\n",
    "fruits = updated_list\n",
    "\n",
    "print(fruits)"
   ]
  },
  {
   "cell_type": "markdown",
   "id": "0daedfe1",
   "metadata": {},
   "source": [
    "## Exercise 2 (A list of powers)"
   ]
  },
  {
   "cell_type": "code",
   "execution_count": 28,
   "id": "66065d89",
   "metadata": {},
   "outputs": [
    {
     "name": "stdout",
     "output_type": "stream",
     "text": [
      "[[1, 1, 1], [2, 4, 8], [3, 9, 27], [4, 16, 64], [5, 25, 125]]\n"
     ]
    }
   ],
   "source": [
    "# Incorrect Code\n",
    "\n",
    "# maximum_n = 5\n",
    "# result = [[]] * maximum_n                This step is a problem as we just \n",
    "                                        #  initiallised five empty lists of the same id.\n",
    "\n",
    "# for n in range(1, maximum_n + 1):\n",
    "    # result[n - 1].append(n)\n",
    "    # result[n - 1].append(n**2)\n",
    "    # result[n - 1].append(n**3)\n",
    "\n",
    "# If im not wrong this is a concept of immutable objects\n",
    "\n",
    "\n",
    "# Corrected code\n",
    "\n",
    "maximum_n = 5\n",
    "result = [[] for i in range(maximum_n)]\n",
    "\n",
    "for n in range(1, maximum_n + 1):\n",
    "    result[n - 1].append(n)\n",
    "    result[n - 1].append(n**2)\n",
    "    result[n - 1].append(n**3)\n",
    "\n",
    "print(result)"
   ]
  },
  {
   "cell_type": "code",
   "execution_count": 29,
   "id": "6d947e23",
   "metadata": {},
   "outputs": [
    {
     "name": "stdout",
     "output_type": "stream",
     "text": [
      "[[1, 1, 1], [2, 4, 8], [3, 9, 27], [4, 16, 64], [5, 25, 125]]\n"
     ]
    }
   ],
   "source": [
    "# Alternatively here's a cleaner, simplifed code using list comprehension\n",
    "\n",
    "maximum_n = 5\n",
    "result = [[n,n**2,n**3] for n in range(1, maximum_n + 1)]\n",
    "print(result)"
   ]
  },
  {
   "cell_type": "markdown",
   "id": "ebf9aa60",
   "metadata": {},
   "source": [
    "## Exercise 3 (Time Profiling)"
   ]
  },
  {
   "cell_type": "markdown",
   "id": "219a7377",
   "metadata": {},
   "source": [
    "### Creating a list of squares (1)"
   ]
  },
  {
   "cell_type": "code",
   "execution_count": 34,
   "id": "be74d27a",
   "metadata": {},
   "outputs": [
    {
     "name": "stdout",
     "output_type": "stream",
     "text": [
      "705 ns ± 45.8 ns per loop (mean ± std. dev. of 7 runs, 1,000,000 loops each)\n"
     ]
    }
   ],
   "source": [
    "%%timeit    # A list of squares with for loop\n",
    "\n",
    "for i in range(5):\n",
    "    i**2\n",
    "    \n",
    "# 705 ns ± 45.8 ns per loop (mean ± std. dev. of 7 runs, 1,000,000 loops each)"
   ]
  },
  {
   "cell_type": "code",
   "execution_count": 38,
   "id": "4a64ea5f",
   "metadata": {},
   "outputs": [
    {
     "name": "stdout",
     "output_type": "stream",
     "text": [
      "627 ns ± 13.1 ns per loop (mean ± std. dev. of 7 runs, 1,000,000 loops each)\n"
     ]
    }
   ],
   "source": [
    "%%timeit    # A list of squares with while loop\n",
    "\n",
    "number = 0\n",
    "\n",
    "while number < 5:\n",
    "    squares = number ** 2\n",
    "    number += 1\n",
    "    \n",
    "# 627 ns ± 13.1 ns per loop (mean ± std. dev. of 7 runs, 1,000,000 loops each)"
   ]
  },
  {
   "cell_type": "markdown",
   "id": "48f0d445",
   "metadata": {},
   "source": [
    "### Creating a list of squares (2)"
   ]
  },
  {
   "cell_type": "code",
   "execution_count": null,
   "id": "68567491",
   "metadata": {},
   "outputs": [],
   "source": [
    "%%timeit    # A list of squares with for loop\n",
    "\n",
    "for i in range(5):\n",
    "    i**2\n",
    "    \n",
    "# 705 ns ± 45.8 ns per loop (mean ± std. dev. of 7 runs, 1,000,000 loops each)"
   ]
  },
  {
   "cell_type": "code",
   "execution_count": 3,
   "id": "c6c24d8b",
   "metadata": {},
   "outputs": [
    {
     "name": "stdout",
     "output_type": "stream",
     "text": [
      "479 ns ± 4.22 ns per loop (mean ± std. dev. of 7 runs, 1,000,000 loops each)\n"
     ]
    }
   ],
   "source": [
    "%%timeit    # Creating a list of squares with a list comprehension loop.\n",
    "\n",
    "[i**2 for i in range(5)]\n",
    "\n",
    "# 79 ns ± 4.22 ns per loop (mean ± std. dev. of 7 runs, 1,000,000 loops each)"
   ]
  },
  {
   "cell_type": "markdown",
   "id": "826aaad7",
   "metadata": {},
   "source": [
    "### Creating a list of squares (3)"
   ]
  },
  {
   "cell_type": "code",
   "execution_count": 6,
   "id": "2d822624",
   "metadata": {},
   "outputs": [
    {
     "name": "stdout",
     "output_type": "stream",
     "text": [
      "454 ns ± 15.4 ns per loop (mean ± std. dev. of 7 runs, 1,000,000 loops each)\n"
     ]
    }
   ],
   "source": [
    "%%timeit    #  Creating a list of squares using list append()\n",
    "\n",
    "squares = []\n",
    "\n",
    "for i in range(5):\n",
    "    i = i**2\n",
    "    squares.append(i)\n",
    "    \n",
    "# 454 ns ± 15.4 ns per loop (mean ± std. dev. of 7 runs, 1,000,000 loops each)"
   ]
  },
  {
   "cell_type": "code",
   "execution_count": 9,
   "id": "306b5388",
   "metadata": {},
   "outputs": [
    {
     "name": "stdout",
     "output_type": "stream",
     "text": [
      "586 ns ± 24.4 ns per loop (mean ± std. dev. of 7 runs, 1,000,000 loops each)\n"
     ]
    }
   ],
   "source": [
    "%%timeit    #  Creating a list of squares using list +=\n",
    "\n",
    "squares = []\n",
    "\n",
    "for i in range(5):\n",
    "    squares = squares + [i**2]\n",
    "    \n",
    "\n",
    "# 586 ns ± 24.4 ns per loop (mean ± std. dev. of 7 runs, 1,000,000 loops each)"
   ]
  },
  {
   "cell_type": "markdown",
   "id": "9f11d3bc",
   "metadata": {},
   "source": [
    "### Creating a list of squares (4)"
   ]
  },
  {
   "cell_type": "code",
   "execution_count": null,
   "id": "1075d3e7",
   "metadata": {},
   "outputs": [],
   "source": [
    "%%timeit    #  Creating a list of squares using list append()\n",
    "\n",
    "squares = []\n",
    "\n",
    "for i in range(5):\n",
    "    i = i**2\n",
    "    squares.append(i)\n",
    "    \n",
    "# 454 ns ± 15.4 ns per loop (mean ± std. dev. of 7 runs, 1,000,000 loops each)"
   ]
  },
  {
   "cell_type": "code",
   "execution_count": 10,
   "id": "11cf33d8",
   "metadata": {},
   "outputs": [],
   "source": [
    "import numpy as np"
   ]
  },
  {
   "cell_type": "code",
   "execution_count": 19,
   "id": "454c803e",
   "metadata": {},
   "outputs": [
    {
     "name": "stdout",
     "output_type": "stream",
     "text": [
      "13.3 µs ± 174 ns per loop (mean ± std. dev. of 7 runs, 100,000 loops each)\n"
     ]
    }
   ],
   "source": [
    "%%timeit    #  Creating a list of squares using append() of Numpy\n",
    "\n",
    "squares = []\n",
    "squares_array = np.array(squares)\n",
    "\n",
    "for i in range(5):\n",
    "    x = i**2\n",
    "    squares_array = np.append(squares_array,[x])\n",
    "    \n",
    "#13.6 µs ± 293 ns per loop (mean ± std. dev. of 7 runs, 100,000 loops each)"
   ]
  },
  {
   "cell_type": "markdown",
   "id": "cbe33a06",
   "metadata": {},
   "source": [
    "### Creating a list of squares (5)"
   ]
  },
  {
   "cell_type": "code",
   "execution_count": 25,
   "id": "fc2e5cb0",
   "metadata": {},
   "outputs": [
    {
     "name": "stdout",
     "output_type": "stream",
     "text": [
      "1.08 µs ± 34.3 ns per loop (mean ± std. dev. of 7 runs, 1,000,000 loops each)\n"
     ]
    }
   ],
   "source": [
    "%%timeit    #  Creating a list of squares using Numpy\n",
    "squares = np.square(np.arange(0,5))\n",
    "\n",
    "#1.08 µs ± 34.3 ns per loop (mean ± std. dev. of 7 runs, 1,000,000 loops each)"
   ]
  },
  {
   "cell_type": "code",
   "execution_count": null,
   "id": "7cea04ab",
   "metadata": {},
   "outputs": [],
   "source": [
    "%%timeit    # Creating a list of squares with a list comprehension loop.\n",
    "\n",
    "[i**2 for i in range(5)]\n",
    "\n",
    "# 79 ns ± 4.22 ns per loop (mean ± std. dev. of 7 runs, 1,000,000 loops each)"
   ]
  }
 ],
 "metadata": {
  "kernelspec": {
   "display_name": "Python 3 (ipykernel)",
   "language": "python",
   "name": "python3"
  },
  "language_info": {
   "codemirror_mode": {
    "name": "ipython",
    "version": 3
   },
   "file_extension": ".py",
   "mimetype": "text/x-python",
   "name": "python",
   "nbconvert_exporter": "python",
   "pygments_lexer": "ipython3",
   "version": "3.11.5"
  },
  "toc": {
   "base_numbering": 1,
   "nav_menu": {},
   "number_sections": true,
   "sideBar": true,
   "skip_h1_title": false,
   "title_cell": "Table of Contents",
   "title_sidebar": "Contents",
   "toc_cell": false,
   "toc_position": {},
   "toc_section_display": true,
   "toc_window_display": false
  },
  "varInspector": {
   "cols": {
    "lenName": 16,
    "lenType": 16,
    "lenVar": 40
   },
   "kernels_config": {
    "python": {
     "delete_cmd_postfix": "",
     "delete_cmd_prefix": "del ",
     "library": "var_list.py",
     "varRefreshCmd": "print(var_dic_list())"
    },
    "r": {
     "delete_cmd_postfix": ") ",
     "delete_cmd_prefix": "rm(",
     "library": "var_list.r",
     "varRefreshCmd": "cat(var_dic_list()) "
    }
   },
   "types_to_exclude": [
    "module",
    "function",
    "builtin_function_or_method",
    "instance",
    "_Feature"
   ],
   "window_display": false
  },
  "vscode": {
   "interpreter": {
    "hash": "31f2aee4e71d21fbe5cf8b01ff0e069b9275f58929596ceb00d14d90e3e16cd6"
   }
  }
 },
 "nbformat": 4,
 "nbformat_minor": 5
}
