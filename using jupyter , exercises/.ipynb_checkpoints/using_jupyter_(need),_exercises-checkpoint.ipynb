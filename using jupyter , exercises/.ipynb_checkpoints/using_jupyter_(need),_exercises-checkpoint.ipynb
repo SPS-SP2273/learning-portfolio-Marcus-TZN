{
 "cells": [
  {
   "cell_type": "markdown",
   "id": "123456",
   "metadata": {},
   "source": [
    "<div style=\"text-align:left;font-size:2em\"><span style=\"font-weight:bolder;font-size:1.25em\">SP2273 | Learning Portfolio</span><br><br><span style=\"font-weight:bold;color:darkred\">Using Jupyter (Need), Exercises (Completed)</span></div>"
   ]
  },
  {
   "cell_type": "markdown",
   "id": "cdabdf24",
   "metadata": {},
   "source": [
    "## Quadratic Equations"
   ]
  },
  {
   "cell_type": "markdown",
   "id": "4b88dff9",
   "metadata": {},
   "source": [
    "### Introduction"
   ]
  },
  {
   "cell_type": "markdown",
   "id": "05fe19c7",
   "metadata": {},
   "source": [
    "![](https://upload.wikimedia.org/wikipedia/commons/f/f8/Polynomialdeg2.svg)"
   ]
  },
  {
   "cell_type": "markdown",
   "id": "039a1a77",
   "metadata": {},
   "source": [
    "*(Image from the [Wikipedia page on Quadratic equations](https://en.wikipedia.org/wiki/Quadratic_equation))*"
   ]
  },
  {
   "cell_type": "markdown",
   "id": "0f8e3aa5",
   "metadata": {},
   "source": [
    "The general form of a quadratic equation is:"
   ]
  },
  {
   "cell_type": "markdown",
   "id": "84039fb3",
   "metadata": {},
   "source": [
    "$$\n",
    "ax^2 + bx + c = 0\n",
    "$$"
   ]
  },
  {
   "cell_type": "markdown",
   "id": "45379ed7",
   "metadata": {},
   "source": [
    "### Solutions"
   ]
  },
  {
   "cell_type": "markdown",
   "id": "683dad96",
   "metadata": {},
   "source": [
    "Provided $a \\ne 0$, we can use an elementary algebraic method called [completeing the square](https://en.wikipedia.org/wiki/Completing_the_square) to show that a quadratic equation has the following solution:"
   ]
  },
  {
   "cell_type": "markdown",
   "id": "cc832c25",
   "metadata": {},
   "source": [
    "$$\n",
    "x = \\dfrac{-b \\pm \\sqrt{b^2-4ac}}{2a}\n",
    "$$"
   ]
  },
  {
   "cell_type": "markdown",
   "id": "4c165ce7",
   "metadata": {},
   "source": [
    "### Discriminant"
   ]
  },
  {
   "cell_type": "markdown",
   "id": "149bf6c4",
   "metadata": {},
   "source": [
    "The quantity $\\Delta = b^2 - 4ac$ is called the **discriminant** of the equation and decides the nature of its solutions. The table below shows the various possibilities.\n",
    "\n"
   ]
  },
  {
   "cell_type": "markdown",
   "id": "65ee1a55",
   "metadata": {},
   "source": [
    "| Discriminant | Roots |\n",
    "| :--- | :---: |\n",
    "| $$\\Delta = b^2 - 4ac = 0$$ | A single solution of $-b/(2a)$ |\n",
    "| $$\\Delta = b^2 - 4ac > 0$$ | Two distinct solutions |\n",
    "| $$\\Delta = b^2 - 4ac < 0$$ | No real solutions; both are complex. |"
   ]
  },
  {
   "cell_type": "markdown",
   "id": "7d7f367a",
   "metadata": {},
   "source": [
    "## In your own words"
   ]
  },
  {
   "cell_type": "markdown",
   "id": "34ebaa7e",
   "metadata": {},
   "source": [
    "### What is a Git repository?"
   ]
  },
  {
   "cell_type": "markdown",
   "id": "bdf014c6",
   "metadata": {},
   "source": [
    "A git repository is an online platform that allows one to store their codes/files, together with any revision history, and share it with others for them to develop or collaborate on. "
   ]
  },
  {
   "cell_type": "markdown",
   "id": "41a1897d",
   "metadata": {},
   "source": [
    "### Git keeps tracks of ____BLANK____ in the files in our repository."
   ]
  },
  {
   "cell_type": "markdown",
   "id": "93ace7e8",
   "metadata": {},
   "source": [
    "Git keeps tracks of **changes** in the files in our repository"
   ]
  },
  {
   "cell_type": "markdown",
   "id": "fbbf3a3d",
   "metadata": {},
   "source": [
    "### What is a commit?"
   ]
  },
  {
   "cell_type": "markdown",
   "id": "8fbfe9f3",
   "metadata": {},
   "source": [
    "A commit specifies and details which version of the file is to be uploaded and stored into Github (aka like a save function)"
   ]
  },
  {
   "cell_type": "markdown",
   "id": "28fa5bcc",
   "metadata": {},
   "source": [
    "### What is a push?"
   ]
  },
  {
   "cell_type": "markdown",
   "id": "4d946490",
   "metadata": {},
   "source": [
    "Pushing ensures that any local edits or changes are uploaded and stored into the GitHub cloud such that anyone using the online repository can see the updated file."
   ]
  },
  {
   "cell_type": "markdown",
   "id": "bd531537",
   "metadata": {},
   "source": [
    "### What is a pull?"
   ]
  },
  {
   "cell_type": "markdown",
   "id": "8776ffa2",
   "metadata": {},
   "source": [
    "Pulling is the process of \"downloading\" or saving a copy of the uploaded file found in the online GitHub repository into the local device. "
   ]
  },
  {
   "cell_type": "markdown",
   "id": "5e34c5d1",
   "metadata": {},
   "source": [
    "### What is the difference between GitHub and GitHub Desktop?"
   ]
  },
  {
   "cell_type": "markdown",
   "id": "e91ce86a",
   "metadata": {},
   "source": [
    "GitHub is an online repository that everyone can access the files, upload new versions of the file (pushing) and collaborate on.\n",
    "GitHub Desktop is the local copy of the online repository for ease of access and edit on the local device. We can use it to sync changes (through pulling and pushing) between versions made by others and uploaded onto the cloud (pulling), as well as versions updated by us (pushing)."
   ]
  }
 ],
 "metadata": {
  "kernelspec": {
   "display_name": "Python 3 (ipykernel)",
   "language": "python",
   "name": "python3"
  },
  "language_info": {
   "codemirror_mode": {
    "name": "ipython",
    "version": 3
   },
   "file_extension": ".py",
   "mimetype": "text/x-python",
   "name": "python",
   "nbconvert_exporter": "python",
   "pygments_lexer": "ipython3",
   "version": "3.11.5"
  },
  "toc": {
   "base_numbering": 1,
   "nav_menu": {},
   "number_sections": true,
   "sideBar": true,
   "skip_h1_title": false,
   "title_cell": "Table of Contents",
   "title_sidebar": "Contents",
   "toc_cell": false,
   "toc_position": {},
   "toc_section_display": true,
   "toc_window_display": false
  },
  "varInspector": {
   "cols": {
    "lenName": 16,
    "lenType": 16,
    "lenVar": 40
   },
   "kernels_config": {
    "python": {
     "delete_cmd_postfix": "",
     "delete_cmd_prefix": "del ",
     "library": "var_list.py",
     "varRefreshCmd": "print(var_dic_list())"
    },
    "r": {
     "delete_cmd_postfix": ") ",
     "delete_cmd_prefix": "rm(",
     "library": "var_list.r",
     "varRefreshCmd": "cat(var_dic_list()) "
    }
   },
   "types_to_exclude": [
    "module",
    "function",
    "builtin_function_or_method",
    "instance",
    "_Feature"
   ],
   "window_display": false
  },
  "vscode": {
   "interpreter": {
    "hash": "31f2aee4e71d21fbe5cf8b01ff0e069b9275f58929596ceb00d14d90e3e16cd6"
   }
  }
 },
 "nbformat": 4,
 "nbformat_minor": 5
}
