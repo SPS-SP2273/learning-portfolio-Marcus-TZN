{
 "cells": [
  {
   "cell_type": "markdown",
   "id": "123456",
   "metadata": {},
   "source": [
    "<div style=\"text-align:left;font-size:2em\"><span style=\"font-weight:bolder;font-size:1.25em\">SP2273 | Learning Portfolio</span><br><br><span style=\"font-weight:bold;color:darkred\">Functions (Need) Exercises</span></div>"
   ]
  },
  {
   "cell_type": "markdown",
   "id": "41f0664a",
   "metadata": {},
   "source": [
    "## Exercise 1 (Do you know why?)"
   ]
  },
  {
   "cell_type": "code",
   "execution_count": 3,
   "id": "1bd7603f",
   "metadata": {},
   "outputs": [
    {
     "data": {
      "text/plain": [
       "'Hello Batman! So, nice to meet you!'"
      ]
     },
     "execution_count": 3,
     "metadata": {},
     "output_type": "execute_result"
    }
   ],
   "source": [
    "def greeting(name):\n",
    "    if name == 'Batman':\n",
    "        return 'Hello Batman! So, nice to meet you!'\n",
    "    return f'Hello {name}!'\n",
    "\n",
    "greeting('Batman')"
   ]
  },
  {
   "cell_type": "markdown",
   "id": "ce774c72",
   "metadata": {},
   "source": [
    "~The if condition already covers all possible scenarios. If name is batman (true), return \"hello batman...\". So if the name is not batman (false), the function will move to the next line and just return \"hello name\"~\n",
    "\n",
    "The code works fine as there is already an output value returned for all of the possible inputs regardless of the else statement, and that's why an else statement is not required (redundant). "
   ]
  },
  {
   "cell_type": "markdown",
   "id": "15b252da",
   "metadata": {},
   "source": [
    "## Exercise 2 (Chubby or not)"
   ]
  },
  {
   "cell_type": "code",
   "execution_count": 4,
   "id": "22ff5336",
   "metadata": {},
   "outputs": [
    {
     "data": {
      "text/plain": [
       "'Your BMI is normal, keep it up!'"
      ]
     },
     "execution_count": 4,
     "metadata": {},
     "output_type": "execute_result"
    }
   ],
   "source": [
    "# A simple code that gets the job done\n",
    "\n",
    "def calculate_bmi(height, weight):\n",
    "    \n",
    "    BMI = weight / (height ** 2)\n",
    "    \n",
    "    if BMI < 18.5:\n",
    "        return 'You are underweight'\n",
    "    if 18.5 <= BMI < 25:\n",
    "        return 'Your BMI is normal, keep it up!'\n",
    "    if 25 <= BMI < 30:\n",
    "        return 'Your are overweight'\n",
    "    if BMI >=30:\n",
    "        return 'You are OBESE!'\n",
    "    \n",
    "calculate_bmi(1.7,63)"
   ]
  },
  {
   "cell_type": "code",
   "execution_count": 40,
   "id": "5404bb3d",
   "metadata": {},
   "outputs": [
    {
     "name": "stdout",
     "output_type": "stream",
     "text": [
      "Your BMI is normal, keep it up!\n",
      "Input height0\n",
      "Input weight-34\n",
      "Error! Height and Weight cannot be zero or negative!\n"
     ]
    }
   ],
   "source": [
    "# A more interactive and comprehensive interface\n",
    "\n",
    "def calculate_bmi(height = None, weight = None):\n",
    "    if height is None or weight is None:\n",
    "        height = input('Input height')\n",
    "        weight = input('Input weight')\n",
    "    \n",
    "    try:\n",
    "        height = float(height)\n",
    "        weight = float(weight)\n",
    "        \n",
    "        if height <= 0 or weight <=0:\n",
    "            return \"Error! Height and Weight cannot be zero or negative!\"\n",
    "        \n",
    "        BMI = weight / (height ** 2)\n",
    "    \n",
    "        if 0 < BMI < 18.5:\n",
    "            return 'You are underweight'\n",
    "        if 18.5 <= BMI < 25:\n",
    "            return 'Your BMI is normal, keep it up!'\n",
    "        if 25 <= BMI < 30:\n",
    "            return 'Your are overweight'\n",
    "        if BMI >=30:\n",
    "            return 'You are OBESE!'\n",
    "    \n",
    "    except:\n",
    "        return \"Error! Both height and weight must be positive numerical values!\"\n",
    "        \n",
    "print(calculate_bmi(1.7,65))\n",
    "print(calculate_bmi())"
   ]
  }
 ],
 "metadata": {
  "kernelspec": {
   "display_name": "Python 3 (ipykernel)",
   "language": "python",
   "name": "python3"
  },
  "language_info": {
   "codemirror_mode": {
    "name": "ipython",
    "version": 3
   },
   "file_extension": ".py",
   "mimetype": "text/x-python",
   "name": "python",
   "nbconvert_exporter": "python",
   "pygments_lexer": "ipython3",
   "version": "3.11.5"
  },
  "toc": {
   "base_numbering": 1,
   "nav_menu": {},
   "number_sections": true,
   "sideBar": true,
   "skip_h1_title": false,
   "title_cell": "Table of Contents",
   "title_sidebar": "Contents",
   "toc_cell": false,
   "toc_position": {},
   "toc_section_display": true,
   "toc_window_display": false
  },
  "varInspector": {
   "cols": {
    "lenName": 16,
    "lenType": 16,
    "lenVar": 40
   },
   "kernels_config": {
    "python": {
     "delete_cmd_postfix": "",
     "delete_cmd_prefix": "del ",
     "library": "var_list.py",
     "varRefreshCmd": "print(var_dic_list())"
    },
    "r": {
     "delete_cmd_postfix": ") ",
     "delete_cmd_prefix": "rm(",
     "library": "var_list.r",
     "varRefreshCmd": "cat(var_dic_list()) "
    }
   },
   "types_to_exclude": [
    "module",
    "function",
    "builtin_function_or_method",
    "instance",
    "_Feature"
   ],
   "window_display": false
  },
  "vscode": {
   "interpreter": {
    "hash": "31f2aee4e71d21fbe5cf8b01ff0e069b9275f58929596ceb00d14d90e3e16cd6"
   }
  }
 },
 "nbformat": 4,
 "nbformat_minor": 5
}
