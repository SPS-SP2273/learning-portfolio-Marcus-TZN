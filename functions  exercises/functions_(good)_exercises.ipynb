{
 "cells": [
  {
   "cell_type": "markdown",
   "id": "123456",
   "metadata": {},
   "source": [
    "<div style=\"text-align:left;font-size:2em\"><span style=\"font-weight:bolder;font-size:1.25em\">SP2273 | Learning Portfolio</span><br><br><span style=\"font-weight:bold;color:darkred\">Functions (Good) Exercises</span></div>"
   ]
  },
  {
   "cell_type": "markdown",
   "id": "59ff00ce",
   "metadata": {},
   "source": [
    "## Exercise 1 (Celsius to Fahrenheit or Kelvin) ☻"
   ]
  },
  {
   "cell_type": "code",
   "execution_count": 9,
   "id": "e7749da1",
   "metadata": {},
   "outputs": [
    {
     "name": "stdout",
     "output_type": "stream",
     "text": [
      "The converted temperature in kelvin is 373.15K\n",
      "The converted temperature in farenheit is 212.0 ° F\n",
      "The converted temperature in farenheit is 212.0 ° F\n"
     ]
    }
   ],
   "source": [
    "def convert_celsius(temperature_celsius, target_scale = 'farenheit'):\n",
    "    if target_scale == 'kelvin':\n",
    "        temperature_kelvin = temperature_celsius + 273.15\n",
    "        print(f'The converted temperature in {target_scale} is {temperature_kelvin}K')\n",
    "        \n",
    "    if target_scale == 'farenheit':\n",
    "        temperature_farenheit = (temperature_celsius * 9/5) + 32\n",
    "        print(f'The converted temperature in {target_scale} is {temperature_farenheit} \\N{DEGREE SIGN} F')\n",
    "        \n",
    "convert_celsius(100,'kelvin')\n",
    "convert_celsius(100, 'farenheit')\n",
    "convert_celsius(100)"
   ]
  },
  {
   "cell_type": "markdown",
   "id": "36c77944",
   "metadata": {},
   "source": [
    "## Exercise 2 (Fahrenheit to Celsius or Kelvin) ☻"
   ]
  },
  {
   "cell_type": "code",
   "execution_count": 11,
   "id": "1374acb6",
   "metadata": {},
   "outputs": [
    {
     "name": "stdout",
     "output_type": "stream",
     "text": [
      "The converted temperature in kelvin is 310.93K\n",
      "The converted temperature in celsius is 37.78 ° C\n",
      "The converted temperature in celsius is 37.78 ° C\n"
     ]
    }
   ],
   "source": [
    "def convert_farenheit(temperature_farenheit, target_scale = 'celsius'):\n",
    "    if target_scale == 'kelvin':\n",
    "        temperature_kelvin = (temperature_farenheit - 32) * 5/ 9 + 273.15\n",
    "        temperature_kelvin = round(temperature_kelvin,2)\n",
    "        print(f'The converted temperature in {target_scale} is {temperature_kelvin}K')\n",
    "    if target_scale == 'celsius':\n",
    "        temperature_celsius = (temperature_farenheit - 32) * 5/ 9\n",
    "        temperature_celsius = round(temperature_celsius, 2)\n",
    "        print(f'The converted temperature in {target_scale} is {temperature_celsius} \\N{DEGREE SIGN} C')\n",
    "        \n",
    "convert_farenheit(100,'kelvin')\n",
    "convert_farenheit(100, 'celsius')\n",
    "convert_farenheit(100)"
   ]
  },
  {
   "cell_type": "markdown",
   "id": "1626772d",
   "metadata": {},
   "source": [
    "## Exercise 3 (General Temperature Conversion) ☻"
   ]
  },
  {
   "cell_type": "code",
   "execution_count": 12,
   "id": "6cdff1a8",
   "metadata": {},
   "outputs": [
    {
     "name": "stdout",
     "output_type": "stream",
     "text": [
      "The converted temperature in farenheit is -279.67 ° F\n",
      "The converted temperature in celsius is -173.15 ° C\n"
     ]
    }
   ],
   "source": [
    "def convert_kelvin(temperature_kelvin, target_scale):\n",
    "    if target_scale == 'celsius':\n",
    "        temperature_celsius = temperature_kelvin - 273.15\n",
    "        temperature_celsius = round(temperature_celsius,2)\n",
    "        print(f'The converted temperature in {target_scale} is {temperature_celsius} \\N{DEGREE SIGN} C')\n",
    "    if target_scale == 'farenheit':\n",
    "        temperature_farenheit = (temperature_kelvin - 273.15) * 9/5 + 32\n",
    "        temperature_farenheit = round(temperature_farenheit, 2)\n",
    "        print(f'The converted temperature in {target_scale} is {temperature_farenheit} \\N{DEGREE SIGN} F')\n",
    "        \n",
    "convert_kelvin(100,'farenheit')\n",
    "convert_kelvin(100,'celsius')"
   ]
  },
  {
   "cell_type": "code",
   "execution_count": 44,
   "id": "dece9eb4",
   "metadata": {},
   "outputs": [
    {
     "name": "stdout",
     "output_type": "stream",
     "text": [
      "The converted temperature in kelvin is 373.15K\n",
      "The converted temperature in farenheit is -99.67 ° F\n",
      "The converted temperature in celsius is 148.89 ° C\n"
     ]
    }
   ],
   "source": [
    "def convert_temperature(temperature, source_scale, target_scale):\n",
    "    if source_scale == target_scale:\n",
    "        print('Same temperature, please check your source and target scale!')\n",
    "    if source_scale == 'celsius':\n",
    "        convert_celsius(temperature, target_scale)\n",
    "    if source_scale == 'farenheit':\n",
    "        convert_farenheit(temperature, target_scale)\n",
    "    if source_scale == 'kelvin':\n",
    "        convert_kelvin(temperature, target_scale)\n",
    "\n",
    "convert_temperature(100, 'celsius', 'kelvin')\n",
    "convert_temperature(200, 'kelvin', 'farenheit')\n",
    "convert_temperature(300, 'farenheit','celsius')"
   ]
  },
  {
   "cell_type": "code",
   "execution_count": 20,
   "id": "66597897",
   "metadata": {},
   "outputs": [
    {
     "name": "stdout",
     "output_type": "stream",
     "text": [
      "The converted temperature in kelvin is 373.15K\n",
      "The converted temperature in farenheit is -99.67 ° F\n",
      "The converted temperature in celsius is 148.89 ° C\n",
      "Temperature cannot be below -273.15 ° C!\n",
      "Temperature cannot be below 0 K!\n",
      "Temperature cannot be below -459.67 ° F!\n",
      "Error in converting! Temperature has to be numeric and scales must be either celsius, kelvin or farenheit!\n"
     ]
    }
   ],
   "source": [
    "# To Handle funny inputs\n",
    "\n",
    "def convert_temperature(temperature, source_scale, target_scale):\n",
    "        if source_scale == target_scale:\n",
    "            print('Same temperature, please check your source and target scale!')\n",
    "        if source_scale == 'celsius':\n",
    "            if temperature < -273.15:\n",
    "                return f'Temperature cannot be below -273.15 \\N{DEGREE SIGN} C!'\n",
    "            convert_celsius(temperature, target_scale)\n",
    "        if source_scale == 'farenheit':\n",
    "            if temperature < -273.15 * 9/5 + 32:\n",
    "                return f'Temperature cannot be below -459.67 \\N{DEGREE SIGN} F!'\n",
    "            convert_farenheit(temperature, target_scale)\n",
    "        if source_scale == 'kelvin':\n",
    "            if temperature < 0: \n",
    "                return f'Temperature cannot be below 0 K!'\n",
    "            convert_kelvin(temperature, target_scale)\n",
    "        else:\n",
    "            return 'Error in converting! Temperature has to be numeric and scales must be either celsius, kelvin or farenheit!'\n",
    "\n",
    "        \n",
    "        \n",
    "convert_temperature(100, 'celsius', 'kelvin')\n",
    "convert_temperature(200, 'kelvin', 'farenheit')\n",
    "convert_temperature(300, 'farenheit','celsius')\n",
    "print(convert_temperature(-1000, 'celsius', 'kelvin'))\n",
    "print(convert_temperature(-1, 'kelvin', 'farenheit'))\n",
    "print(convert_temperature(-1000, 'farenheit','celsius'))\n",
    "print(convert_temperature(100,'frf','df'))"
   ]
  }
 ],
 "metadata": {
  "kernelspec": {
   "display_name": "Python 3 (ipykernel)",
   "language": "python",
   "name": "python3"
  },
  "language_info": {
   "codemirror_mode": {
    "name": "ipython",
    "version": 3
   },
   "file_extension": ".py",
   "mimetype": "text/x-python",
   "name": "python",
   "nbconvert_exporter": "python",
   "pygments_lexer": "ipython3",
   "version": "3.11.5"
  },
  "toc": {
   "base_numbering": 1,
   "nav_menu": {},
   "number_sections": true,
   "sideBar": true,
   "skip_h1_title": false,
   "title_cell": "Table of Contents",
   "title_sidebar": "Contents",
   "toc_cell": false,
   "toc_position": {},
   "toc_section_display": true,
   "toc_window_display": false
  },
  "varInspector": {
   "cols": {
    "lenName": 16,
    "lenType": 16,
    "lenVar": 40
   },
   "kernels_config": {
    "python": {
     "delete_cmd_postfix": "",
     "delete_cmd_prefix": "del ",
     "library": "var_list.py",
     "varRefreshCmd": "print(var_dic_list())"
    },
    "r": {
     "delete_cmd_postfix": ") ",
     "delete_cmd_prefix": "rm(",
     "library": "var_list.r",
     "varRefreshCmd": "cat(var_dic_list()) "
    }
   },
   "types_to_exclude": [
    "module",
    "function",
    "builtin_function_or_method",
    "instance",
    "_Feature"
   ],
   "window_display": false
  },
  "vscode": {
   "interpreter": {
    "hash": "31f2aee4e71d21fbe5cf8b01ff0e069b9275f58929596ceb00d14d90e3e16cd6"
   }
  }
 },
 "nbformat": 4,
 "nbformat_minor": 5
}
