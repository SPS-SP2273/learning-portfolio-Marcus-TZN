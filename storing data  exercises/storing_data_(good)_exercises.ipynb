{
 "cells": [
  {
   "cell_type": "markdown",
   "id": "123456",
   "metadata": {},
   "source": [
    "<div style=\"text-align:left;font-size:2em\"><span style=\"font-weight:bolder;font-size:1.25em\">SP2273 | Learning Portfolio</span><br><br><span style=\"font-weight:bold;color:darkred\">Storing Data (Good) Exercises</span></div>"
   ]
  },
  {
   "cell_type": "markdown",
   "id": "a5f6f9f4",
   "metadata": {},
   "source": [
    "## Exercise 1 (Total Recall)"
   ]
  },
  {
   "cell_type": "markdown",
   "id": "048a4cb1",
   "metadata": {},
   "source": [
    "Subsetting\n",
    "- Creating a subset from a list, ie choosing elements from a list\n",
    "\n",
    "Indexing\n",
    "- A type of subsetting, but we are choosing only ONE element from a list\n",
    "\n",
    "Slicing\n",
    "- A type of subsetting, but this time we are choosing several/a range of elements from a list\n",
    "\n",
    "Masking\n",
    "- Only for arrays\n",
    "- By asking a question, we get a True False response as the array does an equality check between the elements and the value.\n",
    "- Masking will then allow us to get all elements that correspond to, for example, \"True\""
   ]
  },
  {
   "cell_type": "markdown",
   "id": "a01b13c9",
   "metadata": {},
   "source": [
    "## Exercise 2 (Show me the 'odd' letters)"
   ]
  },
  {
   "cell_type": "code",
   "execution_count": 26,
   "id": "f47595ef",
   "metadata": {},
   "outputs": [
    {
     "name": "stdout",
     "output_type": "stream",
     "text": [
      "['A' 'C' 'E' 'G' 'I']\n"
     ]
    }
   ],
   "source": [
    "import numpy as np\n",
    "\n",
    "np_array_2d = np.array([[1, \"A\"], [3, \"C\"], [2, \"B\"], [4, \"D\"],\n",
    "                        [5, \"E\"], [7, \"G\"], [6, \"F\"], [8, \"H\"],\n",
    "                        [10, \"J\"], [9, \"I\"]])\n",
    "\n",
    "numbers = np_array_2d[:,[0]]\n",
    "numbers = numbers.astype(int)\n",
    "remainders = numbers%2\n",
    "Check = remainders != 0\n",
    "print(np_array_2d[:,[1]][Check])"
   ]
  }
 ],
 "metadata": {
  "kernelspec": {
   "display_name": "Python 3 (ipykernel)",
   "language": "python",
   "name": "python3"
  },
  "language_info": {
   "codemirror_mode": {
    "name": "ipython",
    "version": 3
   },
   "file_extension": ".py",
   "mimetype": "text/x-python",
   "name": "python",
   "nbconvert_exporter": "python",
   "pygments_lexer": "ipython3",
   "version": "3.11.5"
  },
  "toc": {
   "base_numbering": 1,
   "nav_menu": {},
   "number_sections": true,
   "sideBar": true,
   "skip_h1_title": false,
   "title_cell": "Table of Contents",
   "title_sidebar": "Contents",
   "toc_cell": false,
   "toc_position": {},
   "toc_section_display": true,
   "toc_window_display": false
  },
  "varInspector": {
   "cols": {
    "lenName": 16,
    "lenType": 16,
    "lenVar": 40
   },
   "kernels_config": {
    "python": {
     "delete_cmd_postfix": "",
     "delete_cmd_prefix": "del ",
     "library": "var_list.py",
     "varRefreshCmd": "print(var_dic_list())"
    },
    "r": {
     "delete_cmd_postfix": ") ",
     "delete_cmd_prefix": "rm(",
     "library": "var_list.r",
     "varRefreshCmd": "cat(var_dic_list()) "
    }
   },
   "types_to_exclude": [
    "module",
    "function",
    "builtin_function_or_method",
    "instance",
    "_Feature"
   ],
   "window_display": false
  },
  "vscode": {
   "interpreter": {
    "hash": "31f2aee4e71d21fbe5cf8b01ff0e069b9275f58929596ceb00d14d90e3e16cd6"
   }
  }
 },
 "nbformat": 4,
 "nbformat_minor": 5
}
