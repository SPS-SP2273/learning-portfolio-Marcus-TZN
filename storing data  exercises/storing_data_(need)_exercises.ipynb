{
 "cells": [
  {
   "cell_type": "markdown",
   "id": "123456",
   "metadata": {},
   "source": [
    "<div style=\"text-align:left;font-size:2em\"><span style=\"font-weight:bolder;font-size:1.25em\">SP2273 | Learning Portfolio</span><br><br><span style=\"font-weight:bold;color:darkred\">Storing Data (Need) Exercises</span></div>"
   ]
  },
  {
   "cell_type": "markdown",
   "id": "d30bee34",
   "metadata": {},
   "source": [
    "## Exercise 1:(Totall Recall?)"
   ]
  },
  {
   "cell_type": "markdown",
   "id": "d3445291",
   "metadata": {},
   "source": [
    "1. Two similarities between lists and arrays.\n",
    "    1. Both of them contain the elements in square brackets [  ]\n",
    "    2. Both can be indexed in the same way (first element forward index [0] count up, last element reverse index [-1] count down.\n",
    "\n",
    "\n",
    "2. Two differences between lists and arrays.\n",
    "    1. You can do arithmetic math on arrays but not lists. For example *2 is multiplication for each element in the array, but grows the lists instead.\n",
    "    2. Asking questions make more sense in arrays. For examples, when checking for equality using '==', lists will respond as false immediately, while arrays will go through each element and check for equality \n",
    "    \n",
    "    \n",
    "3. What is a dictionary?\n",
    "    - A dictionary contains a collection of elements in the form key : value\n",
    "    - Each key is assigned to one value\n",
    "    - Can create a dictionary using a zip function, and unpack a dictionary using .values() or .keys()"
   ]
  },
  {
   "cell_type": "markdown",
   "id": "228c2ce1",
   "metadata": {},
   "source": [
    "## Exercise 2:(Indexing)"
   ]
  },
  {
   "cell_type": "code",
   "execution_count": 1,
   "id": "0e4612a9",
   "metadata": {},
   "outputs": [
    {
     "name": "stdout",
     "output_type": "stream",
     "text": [
      "a1\n",
      "c3\n",
      "e5\n",
      "g7\n",
      "i9\n"
     ]
    }
   ],
   "source": [
    "# Coding on Normal Mode\n",
    "\n",
    "py_list = [\"a1\", \"b2\", \"c3\", \"d4\", \"e5\", \"f6\", \"g7\", \"h8\", \"i9\", \"j10\"]\n",
    "\n",
    "print(py_list[0])\n",
    "print(py_list[2])\n",
    "print(py_list[4])\n",
    "print(py_list[6])\n",
    "print(py_list[8])"
   ]
  },
  {
   "cell_type": "code",
   "execution_count": 2,
   "id": "bea8a60c",
   "metadata": {},
   "outputs": [
    {
     "name": "stdout",
     "output_type": "stream",
     "text": [
      "a1\n",
      "c3\n",
      "e5\n",
      "g7\n",
      "i9\n"
     ]
    }
   ],
   "source": [
    "# Coding on Hard Mode\n",
    "# This is more elegant in my opinion\n",
    "\n",
    "import numpy as np\n",
    "\n",
    "odd = []\n",
    "py_list = [\"a1\", \"b2\", \"c3\", \"d4\", \"e5\", \"f6\", \"g7\", \"h8\", \"i9\", \"j10\"]\n",
    "\n",
    "for i in range(0,10):\n",
    "    if i % 2 == 0:\n",
    "        odd.append(i)\n",
    "\n",
    "for a in odd:\n",
    "    print(py_list[a])"
   ]
  },
  {
   "cell_type": "markdown",
   "id": "15a79b4b",
   "metadata": {},
   "source": [
    "## Exercise 3 (Index again) "
   ]
  },
  {
   "cell_type": "code",
   "execution_count": 3,
   "id": "08d2b34d",
   "metadata": {},
   "outputs": [
    {
     "name": "stdout",
     "output_type": "stream",
     "text": [
      "Beryllium\n",
      "Beryllium\n"
     ]
    }
   ],
   "source": [
    "elements = ['Hydrogen',\n",
    "            'Helium', 'Lithium',\n",
    "            'Beryllium', 'Boron', 'Carbon',\n",
    "            'Nitrogen', 'Oxygen',\n",
    "            'Fluorine',\n",
    "            'Neon']\n",
    "\n",
    "print(elements[3])     # Forward indexing\n",
    "print(elements[-7])    # Reverse indexing"
   ]
  },
  {
   "cell_type": "markdown",
   "id": "9f55f9c8",
   "metadata": {},
   "source": [
    "## Exercise 4 (How many ones)"
   ]
  },
  {
   "cell_type": "code",
   "execution_count": 4,
   "id": "e2614e1d",
   "metadata": {},
   "outputs": [
    {
     "name": "stdout",
     "output_type": "stream",
     "text": [
      "9\n"
     ]
    }
   ],
   "source": [
    "# Coding on Easy Mode\n",
    "\n",
    "numbers=[45, 60, 1, 30, 96, 1, 96, 57, 16, 1,\n",
    "        99, 62, 86, 43, 42, 60, 59, 1, 1, 35,\n",
    "        83, 47, 34, 28, 68, 23, 22, 92, 1, 79,\n",
    "        1, 29, 94, 72, 46, 47, 1, 74, 32, 20,\n",
    "        8, 37, 35, 1, 89, 29, 86, 19, 43, 61]\n",
    "\n",
    "array = np.array(numbers)\n",
    "print(sum(array == 1))"
   ]
  },
  {
   "cell_type": "code",
   "execution_count": 5,
   "id": "b82c91ec",
   "metadata": {},
   "outputs": [
    {
     "name": "stdout",
     "output_type": "stream",
     "text": [
      "9\n"
     ]
    }
   ],
   "source": [
    "# Coding on Hard Mode\n",
    "# This method uses a counter.\n",
    "\n",
    "numbers=[45, 60, 1, 30, 96, 1, 96, 57, 16, 1,\n",
    "        99, 62, 86, 43, 42, 60, 59, 1, 1, 35,\n",
    "        83, 47, 34, 28, 68, 23, 22, 92, 1, 79,\n",
    "        1, 29, 94, 72, 46, 47, 1, 74, 32, 20,\n",
    "        8, 37, 35, 1, 89, 29, 86, 19, 43, 61]     \n",
    "\n",
    "Ones = 0\n",
    "\n",
    "for number in numbers:\n",
    "    if number == 1:\n",
    "        Ones += 1\n",
    "        \n",
    "print(Ones)"
   ]
  }
 ],
 "metadata": {
  "kernelspec": {
   "display_name": "Python 3 (ipykernel)",
   "language": "python",
   "name": "python3"
  },
  "language_info": {
   "codemirror_mode": {
    "name": "ipython",
    "version": 3
   },
   "file_extension": ".py",
   "mimetype": "text/x-python",
   "name": "python",
   "nbconvert_exporter": "python",
   "pygments_lexer": "ipython3",
   "version": "3.11.5"
  },
  "toc": {
   "base_numbering": 1,
   "nav_menu": {},
   "number_sections": true,
   "sideBar": true,
   "skip_h1_title": false,
   "title_cell": "Table of Contents",
   "title_sidebar": "Contents",
   "toc_cell": false,
   "toc_position": {},
   "toc_section_display": true,
   "toc_window_display": false
  },
  "varInspector": {
   "cols": {
    "lenName": 16,
    "lenType": 16,
    "lenVar": 40
   },
   "kernels_config": {
    "python": {
     "delete_cmd_postfix": "",
     "delete_cmd_prefix": "del ",
     "library": "var_list.py",
     "varRefreshCmd": "print(var_dic_list())"
    },
    "r": {
     "delete_cmd_postfix": ") ",
     "delete_cmd_prefix": "rm(",
     "library": "var_list.r",
     "varRefreshCmd": "cat(var_dic_list()) "
    }
   },
   "types_to_exclude": [
    "module",
    "function",
    "builtin_function_or_method",
    "instance",
    "_Feature"
   ],
   "window_display": false
  },
  "vscode": {
   "interpreter": {
    "hash": "31f2aee4e71d21fbe5cf8b01ff0e069b9275f58929596ceb00d14d90e3e16cd6"
   }
  }
 },
 "nbformat": 4,
 "nbformat_minor": 5
}
