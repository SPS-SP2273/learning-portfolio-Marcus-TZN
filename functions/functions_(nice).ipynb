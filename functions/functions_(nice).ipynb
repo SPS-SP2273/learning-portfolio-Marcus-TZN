{
 "cells": [
  {
   "cell_type": "markdown",
   "id": "123456",
   "metadata": {},
   "source": [
    "<div style=\"text-align:left;font-size:2em\"><span style=\"font-weight:bolder;font-size:1.25em\">SP2273 | Learning Portfolio</span><br><br><span style=\"font-weight:bold;color:darkred\">Functions (Nice)</span></div>"
   ]
  },
  {
   "cell_type": "markdown",
   "id": "fd722087",
   "metadata": {},
   "source": [
    "# 1 Modularise and reuse"
   ]
  },
  {
   "cell_type": "markdown",
   "id": "dffa5806",
   "metadata": {},
   "source": [
    "# 2 The many ways to pass arguments"
   ]
  },
  {
   "cell_type": "markdown",
   "id": "54cafd3c",
   "metadata": {},
   "source": [
    "## 2.1 *args & **kwarg"
   ]
  },
  {
   "cell_type": "markdown",
   "id": "f83d5a09",
   "metadata": {},
   "source": [
    "### *args"
   ]
  },
  {
   "cell_type": "code",
   "execution_count": 5,
   "id": "1c2d1480",
   "metadata": {},
   "outputs": [
    {
     "data": {
      "text/plain": [
       "10"
      ]
     },
     "execution_count": 5,
     "metadata": {},
     "output_type": "execute_result"
    }
   ],
   "source": [
    "# Arguments\n",
    "\n",
    "def multiply(x,y):\n",
    "    return x*y\n",
    "\n",
    "numbers = [5,2]\n",
    "multiply(*numbers)            # * is important\n",
    "#multiply(numbers)            # Python complains it lacks 1 positional argument 'y'\n"
   ]
  },
  {
   "cell_type": "code",
   "execution_count": 8,
   "id": "b860f0ab",
   "metadata": {},
   "outputs": [
    {
     "ename": "TypeError",
     "evalue": "multiply() takes 2 positional arguments but 3 were given",
     "output_type": "error",
     "traceback": [
      "\u001b[1;31m---------------------------------------------------------------------------\u001b[0m",
      "\u001b[1;31mTypeError\u001b[0m                                 Traceback (most recent call last)",
      "Cell \u001b[1;32mIn[8], line 7\u001b[0m\n\u001b[0;32m      4\u001b[0m     \u001b[38;5;28;01mreturn\u001b[39;00m x\u001b[38;5;241m*\u001b[39my\n\u001b[0;32m      6\u001b[0m numbers \u001b[38;5;241m=\u001b[39m [\u001b[38;5;241m5\u001b[39m,\u001b[38;5;241m2\u001b[39m,\u001b[38;5;241m5\u001b[39m]\n\u001b[1;32m----> 7\u001b[0m \u001b[43mmultiply\u001b[49m\u001b[43m(\u001b[49m\u001b[38;5;241;43m*\u001b[39;49m\u001b[43mnumbers\u001b[49m\u001b[43m)\u001b[49m            \u001b[38;5;66;03m# Python complains too many positional arguments now\u001b[39;00m\n",
      "\u001b[1;31mTypeError\u001b[0m: multiply() takes 2 positional arguments but 3 were given"
     ]
    }
   ],
   "source": [
    "# Arguments\n",
    "\n",
    "def multiply(x,y):\n",
    "    return x*y\n",
    "\n",
    "numbers = [5,2,5]\n",
    "multiply(*numbers)            # Python complains too many positional arguments now"
   ]
  },
  {
   "cell_type": "code",
   "execution_count": 24,
   "id": "1053c929",
   "metadata": {},
   "outputs": [
    {
     "data": {
      "text/plain": [
       "30"
      ]
     },
     "execution_count": 24,
     "metadata": {},
     "output_type": "execute_result"
    }
   ],
   "source": [
    "def multiply(*args):\n",
    "    result = 1\n",
    "    for number in args:\n",
    "        result *= number\n",
    "\n",
    "    return result\n",
    "\n",
    "numbers = [1, 2, 3, 5,]\n",
    "multiply(*numbers)         \n",
    "\n",
    "#multiply(numbers) # A lack of * will return you the list of numbers"
   ]
  },
  {
   "cell_type": "markdown",
   "id": "393b4598",
   "metadata": {},
   "source": [
    "### **kwargs"
   ]
  },
  {
   "cell_type": "code",
   "execution_count": 32,
   "id": "6827ef2d",
   "metadata": {},
   "outputs": [
    {
     "data": {
      "text/plain": [
       "1.6666666666666665"
      ]
     },
     "execution_count": 32,
     "metadata": {},
     "output_type": "execute_result"
    }
   ],
   "source": [
    "def funny_maths(x, y, z):\n",
    "    return x + y / z\n",
    "\n",
    "\n",
    "numbers = {'x': 1, 'y': 2, 'z': 3}      # pass keyword arguments using a dictionary\n",
    "funny_maths(**numbers)                  # One asterisk will give you TypeError: unsupported operand type(s) for /: 'str' and 'str'\n"
   ]
  },
  {
   "cell_type": "code",
   "execution_count": 33,
   "id": "e9c460fa",
   "metadata": {},
   "outputs": [
    {
     "data": {
      "text/plain": [
       "1.5"
      ]
     },
     "execution_count": 33,
     "metadata": {},
     "output_type": "execute_result"
    }
   ],
   "source": [
    "def funny_maths(x, y, z):\n",
    "    return x + y / z\n",
    "\n",
    "\n",
    "numbers = {'y': 5, 'z': 10}      \n",
    "funny_maths(1,**numbers)                # A mixture of positional arguments and dictionary"
   ]
  },
  {
   "cell_type": "code",
   "execution_count": 35,
   "id": "7859e7b4",
   "metadata": {},
   "outputs": [
    {
     "data": {
      "text/plain": [
       "276"
      ]
     },
     "execution_count": 35,
     "metadata": {},
     "output_type": "execute_result"
    }
   ],
   "source": [
    "def add_powers(numbers, power):\n",
    "    result = 0\n",
    "    for number in numbers:\n",
    "        result += number**power\n",
    "\n",
    "    return result\n",
    "\n",
    "\n",
    "kwargs = {'numbers': [1, 2, 3], 'power': 5}\n",
    "add_powers(**kwargs)"
   ]
  },
  {
   "cell_type": "code",
   "execution_count": 40,
   "id": "c51f7bec",
   "metadata": {},
   "outputs": [
    {
     "data": {
      "text/plain": [
       "60074"
      ]
     },
     "execution_count": 40,
     "metadata": {},
     "output_type": "execute_result"
    }
   ],
   "source": [
    "def add_powers(**kwargs):\n",
    "    numbers = kwargs['numbers']\n",
    "    power = kwargs['power']\n",
    "\n",
    "    result = 0\n",
    "    for number in numbers:\n",
    "        result += number**power\n",
    "\n",
    "    return result\n",
    "\n",
    "\n",
    "kwargs = {'numbers': [1, 2, 3], 'power': 10}         \n",
    "add_powers(**kwargs)"
   ]
  },
  {
   "cell_type": "markdown",
   "id": "4297f102",
   "metadata": {},
   "source": [
    "# 3 Gotchas with passing variables to functions"
   ]
  },
  {
   "cell_type": "markdown",
   "id": "9d8afeb6",
   "metadata": {},
   "source": [
    "## 3.1 The Problem"
   ]
  },
  {
   "cell_type": "code",
   "execution_count": 41,
   "id": "21e4c3fe",
   "metadata": {},
   "outputs": [
    {
     "name": "stdout",
     "output_type": "stream",
     "text": [
      "BEFORE|\tNumber: 10, Array: [10], List: [10]\n",
      "Doing something!\n",
      "AFTER|\tNumber: 10, Array: [20], List: [10, 10]\n"
     ]
    }
   ],
   "source": [
    "def do_something(inside_number, inside_array, inside_list):\n",
    "    print('Doing something!')                # This clearly does something\n",
    "    inside_number *= 2\n",
    "    inside_array *= 2\n",
    "    inside_list *= 2\n",
    "\n",
    "outside_number=10\n",
    "outside_array=np.array([10])\n",
    "outside_list=[10]                            #Oh dear i don't like this alr\n",
    "\n",
    "print(f\"BEFORE|\\tNumber: {outside_number}, Array: {outside_array}, List: {outside_list}\")\n",
    "do_something(outside_number, outside_list, outside_array)\n",
    "print(f\"AFTER|\\tNumber: {outside_number}, Array: {outside_array}, List: {outside_list}\")"
   ]
  },
  {
   "cell_type": "markdown",
   "id": "a73ff438",
   "metadata": {},
   "source": [
    "## 3.2 An Explanation"
   ]
  },
  {
   "cell_type": "markdown",
   "id": "6e0d2a0c",
   "metadata": {},
   "source": [
    "Tldr\n",
    "- Mutable variables can be changed by what happens in a function (passing by reference)\n",
    "- Immutable variables cannot be changed by what happens in a function (passing by value)"
   ]
  },
  {
   "cell_type": "markdown",
   "id": "d188482b",
   "metadata": {},
   "source": [
    "# 4 There is more to exceptions"
   ]
  },
  {
   "cell_type": "markdown",
   "id": "e5f835da",
   "metadata": {},
   "source": [
    "## 4.1 A list of exceptions"
   ]
  },
  {
   "cell_type": "markdown",
   "id": "da770ef3",
   "metadata": {},
   "source": [
    "Honestly, there are alot of exceptions that python can complain. What is most important is just read the last line of the complain it throws at you and refer to the python documentation for the exact problem. "
   ]
  },
  {
   "cell_type": "markdown",
   "id": "9825a0d5",
   "metadata": {},
   "source": [
    "## 4.2 Handling specific exceptions"
   ]
  },
  {
   "cell_type": "code",
   "execution_count": null,
   "id": "22cfd77c",
   "metadata": {},
   "outputs": [],
   "source": [
    "try:\n",
    "    number=input(\"Give me a number and I will calculate its square.\")\n",
    "    square=int(number)**2\n",
    "    print(f'The square of {number} is {square}!')\n",
    "except ValueError:                                     # Specify value error \n",
    "    print(f\"Oh oh! I cannot square {number}!\")"
   ]
  },
  {
   "cell_type": "markdown",
   "id": "b6aa8104",
   "metadata": {},
   "source": [
    "## 4.3 try also has an else"
   ]
  },
  {
   "cell_type": "code",
   "execution_count": null,
   "id": "a48addab",
   "metadata": {},
   "outputs": [],
   "source": [
    "try:\n",
    "    number=input(\"Give me a number and I will calculate its square.\")\n",
    "    square=int(number)**2\n",
    "    print(f'The square of {number} is {square}!')\n",
    "except ValueError:\n",
    "    print(f\"Oh oh! I cannot square {number}!\")\n",
    "else:\n",
    "    print('Yay!')"
   ]
  },
  {
   "cell_type": "markdown",
   "id": "48a6f21a",
   "metadata": {},
   "source": [
    "# Exercises"
   ]
  },
  {
   "cell_type": "markdown",
   "id": "53c4d5dd",
   "metadata": {},
   "source": [
    "## Footnotes"
   ]
  }
 ],
 "metadata": {
  "kernelspec": {
   "display_name": "Python 3 (ipykernel)",
   "language": "python",
   "name": "python3"
  },
  "language_info": {
   "codemirror_mode": {
    "name": "ipython",
    "version": 3
   },
   "file_extension": ".py",
   "mimetype": "text/x-python",
   "name": "python",
   "nbconvert_exporter": "python",
   "pygments_lexer": "ipython3",
   "version": "3.11.5"
  },
  "toc": {
   "base_numbering": 1,
   "nav_menu": {},
   "number_sections": true,
   "sideBar": true,
   "skip_h1_title": false,
   "title_cell": "Table of Contents",
   "title_sidebar": "Contents",
   "toc_cell": false,
   "toc_position": {},
   "toc_section_display": true,
   "toc_window_display": false
  },
  "varInspector": {
   "cols": {
    "lenName": 16,
    "lenType": 16,
    "lenVar": 40
   },
   "kernels_config": {
    "python": {
     "delete_cmd_postfix": "",
     "delete_cmd_prefix": "del ",
     "library": "var_list.py",
     "varRefreshCmd": "print(var_dic_list())"
    },
    "r": {
     "delete_cmd_postfix": ") ",
     "delete_cmd_prefix": "rm(",
     "library": "var_list.r",
     "varRefreshCmd": "cat(var_dic_list()) "
    }
   },
   "types_to_exclude": [
    "module",
    "function",
    "builtin_function_or_method",
    "instance",
    "_Feature"
   ],
   "window_display": false
  },
  "vscode": {
   "interpreter": {
    "hash": "31f2aee4e71d21fbe5cf8b01ff0e069b9275f58929596ceb00d14d90e3e16cd6"
   }
  }
 },
 "nbformat": 4,
 "nbformat_minor": 5
}
