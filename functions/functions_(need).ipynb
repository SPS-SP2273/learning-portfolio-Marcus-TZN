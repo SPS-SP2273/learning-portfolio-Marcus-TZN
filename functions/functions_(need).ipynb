{
 "cells": [
  {
   "cell_type": "markdown",
   "id": "123456",
   "metadata": {},
   "source": [
    "<div style=\"text-align:left;font-size:2em\"><span style=\"font-weight:bolder;font-size:1.25em\">SP2273 | Learning Portfolio</span><br><br><span style=\"font-weight:bold;color:darkred\">Functions (Need)</span></div>"
   ]
  },
  {
   "cell_type": "markdown",
   "id": "e818dd2e",
   "metadata": {},
   "source": [
    "# What to expect in this chapter"
   ]
  },
  {
   "cell_type": "markdown",
   "id": "e6acfd39",
   "metadata": {},
   "source": [
    "# 1 User-defined functions"
   ]
  },
  {
   "cell_type": "markdown",
   "id": "48608fbd",
   "metadata": {},
   "source": [
    "Functions that we create and write the code for"
   ]
  },
  {
   "cell_type": "markdown",
   "id": "8d5ccb4a",
   "metadata": {},
   "source": [
    "## 1.1 Named Functions"
   ]
  },
  {
   "cell_type": "markdown",
   "id": "6fe832fc",
   "metadata": {},
   "source": [
    "### Named functions that return"
   ]
  },
  {
   "cell_type": "code",
   "execution_count": 2,
   "id": "37b6210b",
   "metadata": {},
   "outputs": [
    {
     "data": {
      "text/plain": [
       "'Hello Boss!'"
      ]
     },
     "execution_count": 2,
     "metadata": {},
     "output_type": "execute_result"
    }
   ],
   "source": [
    "def greeting(name):     # function that accepts 1 argument\n",
    "    if name == 'Marcus':\n",
    "        return 'Hello Boss!'\n",
    "    else:\n",
    "        return 'Who are you'\n",
    "\n",
    "greeting('Marcus')"
   ]
  },
  {
   "cell_type": "code",
   "execution_count": 7,
   "id": "96718e84",
   "metadata": {},
   "outputs": [
    {
     "data": {
      "text/plain": [
       "'Who are you'"
      ]
     },
     "execution_count": 7,
     "metadata": {},
     "output_type": "execute_result"
    }
   ],
   "source": [
    "greet = greeting(name = 'Sucram')\n",
    "greet"
   ]
  },
  {
   "cell_type": "code",
   "execution_count": 9,
   "id": "43d4a0e2",
   "metadata": {},
   "outputs": [
    {
     "name": "stdout",
     "output_type": "stream",
     "text": [
      "Hello Boss!\n",
      "None\n"
     ]
    }
   ],
   "source": [
    "#But if this happens\n",
    "\n",
    "def greeting(name):     # function that accepts 1 argument\n",
    "    if name == 'Marcus':\n",
    "        print('Hello Boss!')\n",
    "    else:\n",
    "        return 'Who are you'\n",
    "\n",
    "print(greeting('Marcus'))\n",
    "\n",
    "#You get a none. The first output is from the print in the user-defined function, but the second none is from the 'outside' print"
   ]
  },
  {
   "cell_type": "code",
   "execution_count": 10,
   "id": "0c8d24a3",
   "metadata": {},
   "outputs": [
    {
     "data": {
      "text/plain": [
       "(1, 3.25, 5.5, 7.75, 10)"
      ]
     },
     "execution_count": 10,
     "metadata": {},
     "output_type": "execute_result"
    }
   ],
   "source": [
    "# For GEA lol\n",
    "\n",
    "import numpy as np\n",
    "\n",
    "def five_figure_summary(numbers):\n",
    "    array = np.array(numbers)\n",
    "    minimum = array.min()\n",
    "    Q1 = np.quantile(array,0.25)\n",
    "    median = np.quantile(array,0.5)\n",
    "    Q3 = np.quantile(array,0.75)\n",
    "    maximum = array.max()\n",
    "    return minimum, Q1, median, Q3, maximum\n",
    "\n",
    "five_figure_summary([1,2,3,4,5,6,7,8,9,10])"
   ]
  },
  {
   "cell_type": "markdown",
   "id": "eafa279b",
   "metadata": {},
   "source": [
    "### Named functions that don’t return"
   ]
  },
  {
   "cell_type": "markdown",
   "id": "c178a933",
   "metadata": {},
   "source": [
    "These functions (like print()) do not need to return anything. They do something, but they do not return any value"
   ]
  },
  {
   "cell_type": "markdown",
   "id": "6739c104",
   "metadata": {},
   "source": [
    "## 1.2 Anonymous functions"
   ]
  },
  {
   "cell_type": "code",
   "execution_count": 12,
   "id": "ea1026b8",
   "metadata": {},
   "outputs": [
    {
     "data": {
      "text/plain": [
       "'Hello Marcus!'"
      ]
     },
     "execution_count": 12,
     "metadata": {},
     "output_type": "execute_result"
    }
   ],
   "source": [
    "function = lambda name: f'Hello {name}!'         #Single argument 'name'\n",
    "\n",
    "function(name = 'Marcus')"
   ]
  },
  {
   "cell_type": "code",
   "execution_count": 13,
   "id": "1e868776",
   "metadata": {},
   "outputs": [
    {
     "data": {
      "text/plain": [
       "[[0, 9, -19],\n",
       " [1, 8, -18],\n",
       " [2, 7, -17],\n",
       " [3, 6, -16],\n",
       " [4, 5, -15],\n",
       " [5, 4, -14],\n",
       " [6, 3, -13],\n",
       " [7, 2, -12],\n",
       " [8, 1, -11],\n",
       " [9, 0, -10]]"
      ]
     },
     "execution_count": 13,
     "metadata": {},
     "output_type": "execute_result"
    }
   ],
   "source": [
    "numbers=[[9, 0, -10],\n",
    "         [8, 1, -11],\n",
    "         [7, 2, -12],\n",
    "         [6, 3, -13],\n",
    "         [5, 4, -14],\n",
    "         [4, 5, -15],\n",
    "         [3, 6, -16],\n",
    "         [2, 7, -17],\n",
    "         [1, 8, -18],\n",
    "         [0, 9, -19]]\n",
    "\n",
    "sorted(numbers)          #This sorts base on the default key, which is the first element"
   ]
  },
  {
   "cell_type": "code",
   "execution_count": 14,
   "id": "4df0f5e8",
   "metadata": {},
   "outputs": [
    {
     "data": {
      "text/plain": [
       "[[9, 0, -10],\n",
       " [8, 1, -11],\n",
       " [7, 2, -12],\n",
       " [6, 3, -13],\n",
       " [5, 4, -14],\n",
       " [4, 5, -15],\n",
       " [3, 6, -16],\n",
       " [2, 7, -17],\n",
       " [1, 8, -18],\n",
       " [0, 9, -19]]"
      ]
     },
     "execution_count": 14,
     "metadata": {},
     "output_type": "execute_result"
    }
   ],
   "source": [
    "numbers=[[9, 0, -10],\n",
    "         [8, 1, -11],\n",
    "         [7, 2, -12],\n",
    "         [6, 3, -13],\n",
    "         [5, 4, -14],\n",
    "         [4, 5, -15],\n",
    "         [3, 6, -16],\n",
    "         [2, 7, -17],\n",
    "         [1, 8, -18],\n",
    "         [0, 9, -19]]\n",
    "\n",
    "sorted(numbers, key = lambda x: x[1])       #This sorts based on other criteria where x is the 2nd element"
   ]
  },
  {
   "cell_type": "code",
   "execution_count": 15,
   "id": "00504325",
   "metadata": {},
   "outputs": [
    {
     "data": {
      "text/plain": [
       "[[0, 9, -19],\n",
       " [1, 8, -18],\n",
       " [2, 7, -17],\n",
       " [3, 6, -16],\n",
       " [4, 5, -15],\n",
       " [5, 4, -14],\n",
       " [6, 3, -13],\n",
       " [7, 2, -12],\n",
       " [8, 1, -11],\n",
       " [9, 0, -10]]"
      ]
     },
     "execution_count": 15,
     "metadata": {},
     "output_type": "execute_result"
    }
   ],
   "source": [
    "numbers=[[9, 0, -10],\n",
    "         [8, 1, -11],\n",
    "         [7, 2, -12],\n",
    "         [6, 3, -13],\n",
    "         [5, 4, -14],\n",
    "         [4, 5, -15],\n",
    "         [3, 6, -16],\n",
    "         [2, 7, -17],\n",
    "         [1, 8, -18],\n",
    "         [0, 9, -19]]\n",
    "\n",
    "sorted(numbers, key = lambda x: sum(x))       #This sorts based on other criteria where x is the sum of the elements"
   ]
  },
  {
   "cell_type": "markdown",
   "id": "c1941bd1",
   "metadata": {},
   "source": [
    "## 1.3 Optional arguments"
   ]
  },
  {
   "cell_type": "code",
   "execution_count": 18,
   "id": "4b766b8d",
   "metadata": {},
   "outputs": [
    {
     "data": {
      "text/plain": [
       "'Who are you?'"
      ]
     },
     "execution_count": 18,
     "metadata": {},
     "output_type": "execute_result"
    }
   ],
   "source": [
    "def greeting(name='no one'):\n",
    "    if name == 'Marcus':\n",
    "        return 'Hello Boss!'\n",
    "    else:\n",
    "        return 'Who are you?'\n",
    "    \n",
    "greeting() # This uses the default argument 'no one', thus not returning any error"
   ]
  },
  {
   "cell_type": "code",
   "execution_count": 20,
   "id": "26dca3a0",
   "metadata": {},
   "outputs": [
    {
     "data": {
      "text/plain": [
       "\"\\n    Docstring:\\n    print(value, ..., sep=' ', end='\\n', file=sys.stdout, flush=False)\\n\\n    Prints the values to a stream, or to sys.stdout by default.\\n    Optional keyword arguments:\\n    file:  a file-like object (stream); defaults to the current sys.stdout.\\n    sep:   string inserted between values, default a space.\\n    end:   string appended after the last value, default a newline.\\n    flush: whether to forcibly flush the stream.\\n    Type:      builtin_function_or_method\\n\""
      ]
     },
     "execution_count": 20,
     "metadata": {},
     "output_type": "execute_result"
    }
   ],
   "source": [
    "?print\n",
    "\n",
    "'''\n",
    "    Docstring:\n",
    "    print(value, ..., sep=' ', end='\\n', file=sys.stdout, flush=False)\n",
    "\n",
    "    Prints the values to a stream, or to sys.stdout by default.\n",
    "    Optional keyword arguments:\n",
    "    file:  a file-like object (stream); defaults to the current sys.stdout.\n",
    "    sep:   string inserted between values, default a space.\n",
    "    end:   string appended after the last value, default a newline.\n",
    "    flush: whether to forcibly flush the stream.\n",
    "    Type:      builtin_function_or_method\n",
    "'''\n",
    "\n",
    "#print can accept other arguments"
   ]
  },
  {
   "cell_type": "code",
   "execution_count": 22,
   "id": "adf0ad0b",
   "metadata": {},
   "outputs": [
    {
     "name": "stdout",
     "output_type": "stream",
     "text": [
      "I...am...Batman!\n"
     ]
    }
   ],
   "source": [
    "# Specifying an optional argument\n",
    "\n",
    "print('I', 'am', 'Batman!', sep='...')  "
   ]
  },
  {
   "cell_type": "markdown",
   "id": "a855b55b",
   "metadata": {},
   "source": [
    "## 1.4 The importance of functions?"
   ]
  },
  {
   "cell_type": "markdown",
   "id": "a27b3779",
   "metadata": {},
   "source": [
    "### An argument for functions"
   ]
  },
  {
   "cell_type": "markdown",
   "id": "60441901",
   "metadata": {},
   "source": [
    "Tldr:\n",
    "\n",
    "1. Abstraction of details - The ability to break up a complicated code into several simple modular parts, then deal with each parts one by one rather than all at once\n",
    "2. Reusability of code - The function can be reused without having to type the long code everytime we want to acheive the same outcome\n",
    "3. Maintainability of code - The code is easier to debug and change as any error or changes to output can be made/debug at the function definition level"
   ]
  },
  {
   "cell_type": "markdown",
   "id": "5acdfabc",
   "metadata": {},
   "source": [
    "### A word of caution"
   ]
  },
  {
   "cell_type": "markdown",
   "id": "581a36b0",
   "metadata": {},
   "source": [
    "Tldr:\n",
    "\n",
    "1. Do not overuse functions as it can clutter the code\n",
    "2. It may lead to slow processing if a code has too may functions"
   ]
  }
 ],
 "metadata": {
  "kernelspec": {
   "display_name": "Python 3 (ipykernel)",
   "language": "python",
   "name": "python3"
  },
  "language_info": {
   "codemirror_mode": {
    "name": "ipython",
    "version": 3
   },
   "file_extension": ".py",
   "mimetype": "text/x-python",
   "name": "python",
   "nbconvert_exporter": "python",
   "pygments_lexer": "ipython3",
   "version": "3.11.5"
  },
  "toc": {
   "base_numbering": 1,
   "nav_menu": {},
   "number_sections": true,
   "sideBar": true,
   "skip_h1_title": false,
   "title_cell": "Table of Contents",
   "title_sidebar": "Contents",
   "toc_cell": false,
   "toc_position": {},
   "toc_section_display": true,
   "toc_window_display": false
  },
  "varInspector": {
   "cols": {
    "lenName": 16,
    "lenType": 16,
    "lenVar": 40
   },
   "kernels_config": {
    "python": {
     "delete_cmd_postfix": "",
     "delete_cmd_prefix": "del ",
     "library": "var_list.py",
     "varRefreshCmd": "print(var_dic_list())"
    },
    "r": {
     "delete_cmd_postfix": ") ",
     "delete_cmd_prefix": "rm(",
     "library": "var_list.r",
     "varRefreshCmd": "cat(var_dic_list()) "
    }
   },
   "types_to_exclude": [
    "module",
    "function",
    "builtin_function_or_method",
    "instance",
    "_Feature"
   ],
   "window_display": false
  },
  "vscode": {
   "interpreter": {
    "hash": "31f2aee4e71d21fbe5cf8b01ff0e069b9275f58929596ceb00d14d90e3e16cd6"
   }
  }
 },
 "nbformat": 4,
 "nbformat_minor": 5
}
