{
 "cells": [
  {
   "cell_type": "markdown",
   "id": "123456",
   "metadata": {},
   "source": [
    "<div style=\"text-align:left;font-size:2em\"><span style=\"font-weight:bolder;font-size:1.25em\">SP2273 | Learning Portfolio</span><br><br><span style=\"font-weight:bold;color:darkred\">Functions (Good)</span></div>"
   ]
  },
  {
   "cell_type": "markdown",
   "id": "4625cf2f",
   "metadata": {},
   "source": [
    "# What to expect in this chapter"
   ]
  },
  {
   "cell_type": "markdown",
   "id": "a1568870",
   "metadata": {},
   "source": [
    "# 1 Checks, balances, and contingencies"
   ]
  },
  {
   "cell_type": "markdown",
   "id": "954b6a3e",
   "metadata": {},
   "source": [
    "Tldr this helps us ensure that our code functions as correctly as possible and we handle the error ourselves while reducing the python error messages that may occur. Ie we complain instead of python complaining about the error"
   ]
  },
  {
   "cell_type": "markdown",
   "id": "39918d2a",
   "metadata": {},
   "source": [
    "## 1.1 assert"
   ]
  },
  {
   "cell_type": "code",
   "execution_count": 53,
   "id": "5dc7f2a5",
   "metadata": {},
   "outputs": [
    {
     "name": "stdout",
     "output_type": "stream",
     "text": [
      "Give me a positive number-1\n"
     ]
    },
    {
     "ename": "AssertionError",
     "evalue": "x cannot be negative!",
     "output_type": "error",
     "traceback": [
      "\u001b[1;31m---------------------------------------------------------------------------\u001b[0m",
      "\u001b[1;31mAssertionError\u001b[0m                            Traceback (most recent call last)",
      "Cell \u001b[1;32mIn[53], line 12\u001b[0m\n\u001b[0;32m      9\u001b[0m     x \u001b[38;5;241m=\u001b[39m np\u001b[38;5;241m.\u001b[39msqrt(x)\n\u001b[0;32m     10\u001b[0m     \u001b[38;5;28;01mreturn\u001b[39;00m x\n\u001b[1;32m---> 12\u001b[0m \u001b[43msqrt\u001b[49m\u001b[43m(\u001b[49m\u001b[43m)\u001b[49m\n",
      "Cell \u001b[1;32mIn[53], line 8\u001b[0m, in \u001b[0;36msqrt\u001b[1;34m()\u001b[0m\n\u001b[0;32m      6\u001b[0m x \u001b[38;5;241m=\u001b[39m \u001b[38;5;28minput\u001b[39m(\u001b[38;5;124m'\u001b[39m\u001b[38;5;124mGive me a positive number\u001b[39m\u001b[38;5;124m'\u001b[39m)\n\u001b[0;32m      7\u001b[0m x \u001b[38;5;241m=\u001b[39m \u001b[38;5;28mint\u001b[39m(x)\n\u001b[1;32m----> 8\u001b[0m \u001b[38;5;28;01massert\u001b[39;00m x \u001b[38;5;241m>\u001b[39m\u001b[38;5;241m=\u001b[39m \u001b[38;5;241m0\u001b[39m, \u001b[38;5;124m\"\u001b[39m\u001b[38;5;124mx cannot be negative!\u001b[39m\u001b[38;5;124m\"\u001b[39m               \u001b[38;5;66;03m# If x >= 0 ok, if x < 0, complain.\u001b[39;00m\n\u001b[0;32m      9\u001b[0m x \u001b[38;5;241m=\u001b[39m np\u001b[38;5;241m.\u001b[39msqrt(x)\n\u001b[0;32m     10\u001b[0m \u001b[38;5;28;01mreturn\u001b[39;00m x\n",
      "\u001b[1;31mAssertionError\u001b[0m: x cannot be negative!"
     ]
    }
   ],
   "source": [
    "# assert condition, message\n",
    "\n",
    "import numpy as np\n",
    "\n",
    "def sqrt():\n",
    "    x = input('Give me a positive number')\n",
    "    x = int(x)\n",
    "    assert x >= 0, \"x cannot be negative!\"               # If x >= 0 ok, if x < 0, complain.\n",
    "    x = np.sqrt(x)\n",
    "    return x\n",
    "\n",
    "sqrt()"
   ]
  },
  {
   "cell_type": "code",
   "execution_count": 3,
   "id": "5232a0ab",
   "metadata": {},
   "outputs": [
    {
     "ename": "AssertionError",
     "evalue": "x cannot be negative!",
     "output_type": "error",
     "traceback": [
      "\u001b[1;31m---------------------------------------------------------------------------\u001b[0m",
      "\u001b[1;31mAssertionError\u001b[0m                            Traceback (most recent call last)",
      "Cell \u001b[1;32mIn[3], line 1\u001b[0m\n\u001b[1;32m----> 1\u001b[0m \u001b[43msqrt\u001b[49m\u001b[43m(\u001b[49m\u001b[38;5;241;43m-\u001b[39;49m\u001b[38;5;241;43m5\u001b[39;49m\u001b[43m)\u001b[49m\n",
      "Cell \u001b[1;32mIn[2], line 6\u001b[0m, in \u001b[0;36msqrt\u001b[1;34m(x)\u001b[0m\n\u001b[0;32m      5\u001b[0m \u001b[38;5;28;01mdef\u001b[39;00m \u001b[38;5;21msqrt\u001b[39m(x):\n\u001b[1;32m----> 6\u001b[0m     \u001b[38;5;28;01massert\u001b[39;00m x \u001b[38;5;241m>\u001b[39m\u001b[38;5;241m=\u001b[39m \u001b[38;5;241m0\u001b[39m, \u001b[38;5;124m\"\u001b[39m\u001b[38;5;124mx cannot be negative!\u001b[39m\u001b[38;5;124m\"\u001b[39m\n\u001b[0;32m      7\u001b[0m     x \u001b[38;5;241m=\u001b[39m np\u001b[38;5;241m.\u001b[39msqrt(x)\n\u001b[0;32m      8\u001b[0m     \u001b[38;5;28;01mreturn\u001b[39;00m x\n",
      "\u001b[1;31mAssertionError\u001b[0m: x cannot be negative!"
     ]
    }
   ],
   "source": [
    "sqrt(-5)\n",
    "\n",
    "#AssertionError: x cannot be negative!"
   ]
  },
  {
   "cell_type": "markdown",
   "id": "15bcaf50",
   "metadata": {},
   "source": [
    "## 1.2 try-except"
   ]
  },
  {
   "cell_type": "code",
   "execution_count": 4,
   "id": "9538a734",
   "metadata": {},
   "outputs": [
    {
     "name": "stdout",
     "output_type": "stream",
     "text": [
      "give me a number and I will calculate its square2\n",
      "The square of 2 is 4\n"
     ]
    }
   ],
   "source": [
    "number = input(\"give me a number and I will calculate its square\")\n",
    "square = int(number)**2\n",
    "print(f'The square of {number} is {square}')"
   ]
  },
  {
   "cell_type": "code",
   "execution_count": 7,
   "id": "ca3f94d4",
   "metadata": {},
   "outputs": [
    {
     "name": "stdout",
     "output_type": "stream",
     "text": [
      "give me a number and I will calculate its square34\n",
      "The square of 34 is 1156\n"
     ]
    }
   ],
   "source": [
    "# Yes I love try-except in catching these funny exceptions\n",
    "# Funny exception to handle - ppl who cannot read instructions and type words\n",
    "\n",
    "try:\n",
    "    number = input(\"give me a number and I will calculate its square\")\n",
    "    square = int(number)**2\n",
    "    print(f'The square of {number} is {square}')\n",
    "\n",
    "except:\n",
    "    print(f'Error! I cannot square {number}! I asked for a number, not this type of input!')"
   ]
  },
  {
   "cell_type": "code",
   "execution_count": 69,
   "id": "83660bdf",
   "metadata": {},
   "outputs": [
    {
     "name": "stdout",
     "output_type": "stream",
     "text": [
      "Give me a positive number-23489\n"
     ]
    },
    {
     "data": {
      "text/plain": [
       "'I asked for a positive number! -23489.0 is not a positive number!'"
      ]
     },
     "execution_count": 69,
     "metadata": {},
     "output_type": "execute_result"
    }
   ],
   "source": [
    "# Now lets combine try-except and assert together to handle funny sqrt stuff\n",
    "\n",
    "import numpy as np\n",
    "\n",
    "def sqrt():\n",
    "    x = input('Give me a positive number')\n",
    "    \n",
    "    try:\n",
    "        x = float(x)\n",
    "        assert x >= 0, \"x cannot be negative!\"                                     # If x >= 0 ok, if x < 0, move to except statement\n",
    "        x = np.sqrt(x)\n",
    "        return x\n",
    "    except:\n",
    "        return f'I asked for a positive number! {x} is not a positive number!'     # Now complain if they give -ve number, or words\n",
    "\n",
    "sqrt()"
   ]
  },
  {
   "cell_type": "markdown",
   "id": "a8bb7ddc",
   "metadata": {},
   "source": [
    "## 1.3 A simple suggestion"
   ]
  },
  {
   "cell_type": "markdown",
   "id": "857dd99b",
   "metadata": {},
   "source": [
    "# 2 Some loose ends"
   ]
  },
  {
   "cell_type": "markdown",
   "id": "4da705aa",
   "metadata": {},
   "source": [
    "## 2.1 Positional, keyword and default arguments"
   ]
  },
  {
   "cell_type": "code",
   "execution_count": 27,
   "id": "40d16095",
   "metadata": {},
   "outputs": [
    {
     "name": "stdout",
     "output_type": "stream",
     "text": [
      " 1| 2| 3\n",
      " 2| 1| 3\n",
      " 1| 2| 42\n"
     ]
    }
   ],
   "source": [
    "def side_by_side(a, b, c=42):\n",
    "    return f'{a: 2d}|{b: 2d}|{c: 2d}'\n",
    "\n",
    "print(side_by_side(1,2,3))                     # Assign 1 to A, 2 to B and 3 to C\n",
    "print(side_by_side(c=3, b=1, a=2))             # Assign 2 to A, 1 to B and 3 to C. The order in the brackets does not matter)\n",
    "print(side_by_side(1, b=2))                    # 1 is in position A, b = 2 and C uses default value"
   ]
  },
  {
   "cell_type": "code",
   "execution_count": 38,
   "id": "56831fda",
   "metadata": {},
   "outputs": [
    {
     "ename": "SyntaxError",
     "evalue": "positional argument follows keyword argument (3154292428.py, line 2)",
     "output_type": "error",
     "traceback": [
      "\u001b[1;36m  Cell \u001b[1;32mIn[38], line 2\u001b[1;36m\u001b[0m\n\u001b[1;33m    side_by_side(a=2,4)\u001b[0m\n\u001b[1;37m                      ^\u001b[0m\n\u001b[1;31mSyntaxError\u001b[0m\u001b[1;31m:\u001b[0m positional argument follows keyword argument\n"
     ]
    }
   ],
   "source": [
    "#side_by_side(1)          # Will not work! Missing positional argument b\n",
    "side_by_side(a=2,4)       # Will not work, keywords cannot be following by positionaln arguments (ie python dk what is 1)"
   ]
  },
  {
   "cell_type": "markdown",
   "id": "e6ec9828",
   "metadata": {},
   "source": [
    "## 2.2 Docstrings"
   ]
  },
  {
   "cell_type": "code",
   "execution_count": 41,
   "id": "a51e01fa",
   "metadata": {},
   "outputs": [],
   "source": [
    "def side_by_side(a, b, c=42):                      #Docstring as function documentation\n",
    "    \n",
    "    '''\n",
    "    A test function to demonstrate how \n",
    "    positional, keyword and default arguments \n",
    "    work.\n",
    "    '''\n",
    "    \n",
    "    return f'{a: 2d}|{b: 2d}|{c: 2d}'"
   ]
  },
  {
   "cell_type": "code",
   "execution_count": 42,
   "id": "53b3f4bb",
   "metadata": {},
   "outputs": [
    {
     "name": "stdout",
     "output_type": "stream",
     "text": [
      "Help on function side_by_side in module __main__:\n",
      "\n",
      "side_by_side(a, b, c=42)\n",
      "    A test function to demonstrate how \n",
      "    positional, keyword and default arguments \n",
      "    work.\n",
      "\n"
     ]
    }
   ],
   "source": [
    "help(side_by_side)"
   ]
  },
  {
   "cell_type": "markdown",
   "id": "cb863b84",
   "metadata": {},
   "source": [
    "## 2.3 Function are first-class citizens"
   ]
  },
  {
   "cell_type": "code",
   "execution_count": 71,
   "id": "c2b43aa5",
   "metadata": {},
   "outputs": [
    {
     "data": {
      "text/plain": [
       "-1.0"
      ]
     },
     "execution_count": 71,
     "metadata": {},
     "output_type": "execute_result"
    }
   ],
   "source": [
    "def my_function(angle, trig_function):\n",
    "        return trig_function(angle)\n",
    "\n",
    "# Let's use the function\n",
    "my_function(np.pi/2, np.sin)        \n",
    "## 1.0\n",
    "my_function(np.pi/2, np.cos)        \n",
    "## 6.123233995736766e-17\n",
    "my_function(np.pi/2, lambda x: np.cos(2*x))  \n",
    "## -1.0\n",
    "\n",
    "\n",
    "#Essentially we are passing a function as an argument"
   ]
  },
  {
   "cell_type": "markdown",
   "id": "f413163e",
   "metadata": {},
   "source": [
    "## 2.4 More about unpacking"
   ]
  },
  {
   "cell_type": "code",
   "execution_count": 73,
   "id": "cabeafa8",
   "metadata": {},
   "outputs": [
    {
     "data": {
      "text/plain": [
       "(1, 2, 3)"
      ]
     },
     "execution_count": 73,
     "metadata": {},
     "output_type": "execute_result"
    }
   ],
   "source": [
    "x,y,z = [1,2,3]\n",
    "x,y,z"
   ]
  },
  {
   "cell_type": "code",
   "execution_count": 74,
   "id": "3f1d2584",
   "metadata": {},
   "outputs": [
    {
     "data": {
      "text/plain": [
       "(1, 2, 3)"
      ]
     },
     "execution_count": 74,
     "metadata": {},
     "output_type": "execute_result"
    }
   ],
   "source": [
    "x, y, z = np.array([1, 2, 3])               #Works with arrays\n",
    "x, y, z"
   ]
  },
  {
   "cell_type": "code",
   "execution_count": 75,
   "id": "487f02f4",
   "metadata": {},
   "outputs": [
    {
     "data": {
      "text/plain": [
       "(1, [2, 3, 4], 5)"
      ]
     },
     "execution_count": 75,
     "metadata": {},
     "output_type": "execute_result"
    }
   ],
   "source": [
    "x, *y, z = np.array([1, 2, 3, 4, 5])        #Creating a subset of an array\n",
    "x, y, z"
   ]
  },
  {
   "cell_type": "code",
   "execution_count": 76,
   "id": "d29b0ad6",
   "metadata": {},
   "outputs": [
    {
     "data": {
      "text/plain": [
       "(1, 5)"
      ]
     },
     "execution_count": 76,
     "metadata": {},
     "output_type": "execute_result"
    }
   ],
   "source": [
    "x, *_, y = [1, 2, 3, 4, 5]                  #Ignoring middle elements and only wanting the first and the last\n",
    "x, y"
   ]
  },
  {
   "cell_type": "code",
   "execution_count": 78,
   "id": "c819c6b1",
   "metadata": {},
   "outputs": [
    {
     "data": {
      "text/plain": [
       "(1, [3, 4, 5])"
      ]
     },
     "execution_count": 78,
     "metadata": {},
     "output_type": "execute_result"
    }
   ],
   "source": [
    "x, _, *y = [1, 2, 3, 4, 5]                  #This also works\n",
    "x, y"
   ]
  },
  {
   "cell_type": "code",
   "execution_count": 80,
   "id": "0f200448",
   "metadata": {},
   "outputs": [
    {
     "ename": "SyntaxError",
     "evalue": "multiple starred expressions in assignment (1645649251.py, line 1)",
     "output_type": "error",
     "traceback": [
      "\u001b[1;36m  Cell \u001b[1;32mIn[80], line 1\u001b[1;36m\u001b[0m\n\u001b[1;33m    x, *_, *y = [1, 2, 3, 4, 5]                  #But this wont as there are too many * and python is confused on how to unpack/split\u001b[0m\n\u001b[1;37m    ^\u001b[0m\n\u001b[1;31mSyntaxError\u001b[0m\u001b[1;31m:\u001b[0m multiple starred expressions in assignment\n"
     ]
    }
   ],
   "source": [
    "x, *_, *y = [1, 2, 3, 4, 5]                  #But this wont as there are too many * and python is confused on how to unpack/split\n",
    "x, y\n",
    "\n",
    "#SyntaxError: multiple starred expressions in assignment"
   ]
  }
 ],
 "metadata": {
  "kernelspec": {
   "display_name": "Python 3 (ipykernel)",
   "language": "python",
   "name": "python3"
  },
  "language_info": {
   "codemirror_mode": {
    "name": "ipython",
    "version": 3
   },
   "file_extension": ".py",
   "mimetype": "text/x-python",
   "name": "python",
   "nbconvert_exporter": "python",
   "pygments_lexer": "ipython3",
   "version": "3.11.5"
  },
  "toc": {
   "base_numbering": 1,
   "nav_menu": {},
   "number_sections": true,
   "sideBar": true,
   "skip_h1_title": false,
   "title_cell": "Table of Contents",
   "title_sidebar": "Contents",
   "toc_cell": false,
   "toc_position": {},
   "toc_section_display": true,
   "toc_window_display": false
  },
  "varInspector": {
   "cols": {
    "lenName": 16,
    "lenType": 16,
    "lenVar": 40
   },
   "kernels_config": {
    "python": {
     "delete_cmd_postfix": "",
     "delete_cmd_prefix": "del ",
     "library": "var_list.py",
     "varRefreshCmd": "print(var_dic_list())"
    },
    "r": {
     "delete_cmd_postfix": ") ",
     "delete_cmd_prefix": "rm(",
     "library": "var_list.r",
     "varRefreshCmd": "cat(var_dic_list()) "
    }
   },
   "types_to_exclude": [
    "module",
    "function",
    "builtin_function_or_method",
    "instance",
    "_Feature"
   ],
   "window_display": false
  },
  "vscode": {
   "interpreter": {
    "hash": "31f2aee4e71d21fbe5cf8b01ff0e069b9275f58929596ceb00d14d90e3e16cd6"
   }
  }
 },
 "nbformat": 4,
 "nbformat_minor": 5
}
