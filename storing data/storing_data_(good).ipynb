{
 "cells": [
  {
   "cell_type": "markdown",
   "id": "123456",
   "metadata": {},
   "source": [
    "<div style=\"text-align:left;font-size:2em\"><span style=\"font-weight:bolder;font-size:1.25em\">SP2273 | Learning Portfolio</span><br><br><span style=\"font-weight:bold;color:darkred\">Storing Data (Good)</span></div>"
   ]
  },
  {
   "cell_type": "markdown",
   "id": "873d5dea",
   "metadata": {},
   "source": [
    "# What to expect in this chapter"
   ]
  },
  {
   "cell_type": "markdown",
   "id": "24691ba6",
   "metadata": {},
   "source": [
    "# 1 Subsetting: Indexing and Slicing"
   ]
  },
  {
   "cell_type": "markdown",
   "id": "7b0b4334",
   "metadata": {},
   "source": [
    "Essential summary:\n",
    "- Subsetting means to ‘select’ in general (ie produce a subset).\n",
    "- Indexing refers to selecting one element (just ONE element).\n",
    "- Slicing refers to selecting a range of elements (multiple elements)."
   ]
  },
  {
   "cell_type": "markdown",
   "id": "36fb0001",
   "metadata": {},
   "source": [
    "## 1.1 Lists & Arrays in 1D | Subsetting & Indexing"
   ]
  },
  {
   "cell_type": "code",
   "execution_count": 4,
   "id": "ed023250",
   "metadata": {},
   "outputs": [
    {
     "name": "stdout",
     "output_type": "stream",
     "text": [
      "b2\n",
      "['b2', 'c3', 'd4', 'e5']\n",
      "['a1', 'b2', 'c3', 'd4', 'e5', 'f6', 'g7', 'h8', 'i9', 'j10']\n",
      "['e5', 'f6', 'g7', 'h8', 'i9', 'j10']\n"
     ]
    }
   ],
   "source": [
    "py_list=[\"a1\", \"b2\", \"c3\", \"d4\", \"e5\",\n",
    "         \"f6\", \"g7\", \"h8\", \"i9\", \"j10\"]\n",
    "np_array=np.array(py_list)\n",
    "\n",
    "# using lists\n",
    "\n",
    "x = py_list\n",
    "\n",
    "print(x[1])         # Indexing\n",
    "print(x[1:5])       # Slicing\n",
    "print(x[::])\n",
    "print(x[4:])"
   ]
  },
  {
   "cell_type": "code",
   "execution_count": 10,
   "id": "0bbbeb33",
   "metadata": {},
   "outputs": [
    {
     "name": "stdout",
     "output_type": "stream",
     "text": [
      "i9\n",
      "['a1' 'd4' 'g7']\n",
      "['j10' 'h8' 'f6' 'd4' 'b2']\n"
     ]
    }
   ],
   "source": [
    "# Using arrays\n",
    "\n",
    "x = np_array\n",
    "\n",
    "print(x[-2])\n",
    "print(x[0:8:3])   # Index 0 to 8 in steps of 3\n",
    "print(x[::-2])    # Reverse the list in steps of 2"
   ]
  },
  {
   "cell_type": "markdown",
   "id": "d9348541",
   "metadata": {},
   "source": [
    "## 1.2 Arrays only | Subsetting by masking"
   ]
  },
  {
   "cell_type": "code",
   "execution_count": 11,
   "id": "fafbe5e8",
   "metadata": {},
   "outputs": [
    {
     "data": {
      "text/plain": [
       "array([ True,  True,  True,  True,  True,  True, False, False, False,\n",
       "       False])"
      ]
     },
     "execution_count": 11,
     "metadata": {},
     "output_type": "execute_result"
    }
   ],
   "source": [
    "# ONLY with numpy arrays\n",
    "# Create a mask\n",
    "\n",
    "np_array = np.array([1, 2, 3, 4, 5, 6, 7, 8, 9, 10])\n",
    "my_mask = np_array < 7\n",
    "my_mask\n",
    "\n",
    "# Answer to the question is in the form of yes no, and is stored in the my_mask variable"
   ]
  },
  {
   "cell_type": "code",
   "execution_count": 13,
   "id": "dc80c97e",
   "metadata": {},
   "outputs": [
    {
     "data": {
      "text/plain": [
       "array([1, 2, 3, 4, 5, 6])"
      ]
     },
     "execution_count": 13,
     "metadata": {},
     "output_type": "execute_result"
    }
   ],
   "source": [
    "# Now show me the elements in the mask\n",
    "# 'Overlay' the yes no answers ontop of the array to give me the 'yes' values\n",
    "\n",
    "np_array[my_mask]"
   ]
  },
  {
   "cell_type": "code",
   "execution_count": 14,
   "id": "9de49d5c",
   "metadata": {},
   "outputs": [
    {
     "data": {
      "text/plain": [
       "array([ 6,  7,  8,  9, 10])"
      ]
     },
     "execution_count": 14,
     "metadata": {},
     "output_type": "execute_result"
    }
   ],
   "source": [
    "#Otherwise a more elegant method is simply\n",
    "\n",
    "np_array[np_array > 5]"
   ]
  },
  {
   "cell_type": "code",
   "execution_count": 16,
   "id": "d2d0ab16",
   "metadata": {},
   "outputs": [
    {
     "data": {
      "text/plain": [
       "array([1, 2, 3, 4, 5])"
      ]
     },
     "execution_count": 16,
     "metadata": {},
     "output_type": "execute_result"
    }
   ],
   "source": [
    "# Now invert the mask\n",
    "\n",
    "np_array[~(np_array > 5)]"
   ]
  },
  {
   "cell_type": "code",
   "execution_count": 21,
   "id": "0fbd7fe3",
   "metadata": {},
   "outputs": [
    {
     "data": {
      "text/plain": [
       "array([6, 7, 8])"
      ]
     },
     "execution_count": 21,
     "metadata": {},
     "output_type": "execute_result"
    }
   ],
   "source": [
    "# Now use the boolean operator AND\n",
    "\n",
    "np_array[(np_array > 5) & (np_array < 9)]"
   ]
  },
  {
   "cell_type": "code",
   "execution_count": 23,
   "id": "dcb1ed36",
   "metadata": {},
   "outputs": [
    {
     "data": {
      "text/plain": [
       "array([ 1,  6,  7,  8,  9, 10])"
      ]
     },
     "execution_count": 23,
     "metadata": {},
     "output_type": "execute_result"
    }
   ],
   "source": [
    "# Now use the boolean operator OR\n",
    "\n",
    "np_array[(np_array > 5) | (np_array < 2)]"
   ]
  },
  {
   "cell_type": "markdown",
   "id": "63361e39",
   "metadata": {},
   "source": [
    "## 1.3 Lists & Arrays in 2D | Indexing & Slicing"
   ]
  },
  {
   "cell_type": "code",
   "execution_count": 36,
   "id": "a078fbfd",
   "metadata": {},
   "outputs": [
    {
     "name": "stdout",
     "output_type": "stream",
     "text": [
      "[1, 'A']\n",
      "[6, 'F']\n",
      "B\n",
      "[[1, 'A'], [2, 'B']]\n",
      "8\n",
      "['A' 'B']\n",
      "[2, 'B']\n"
     ]
    }
   ],
   "source": [
    "py_list_2d = [[1, \"A\"], [2, \"B\"], [3, \"C\"], [4, \"D\"],\n",
    "              [5, \"E\"], [6, \"F\"], [7, \"G\"], [8, \"H\"],\n",
    "              [9, \"I\"], [10, \"J\"]]\n",
    "\n",
    "np_array_2d = np.array(py_list_2d)\n",
    "\n",
    "print(py_list_2d[0])\n",
    "print(py_list_2d[-5])\n",
    "print(py_list_2d[1][1])\n",
    "print(py_list_2d[:2])\n",
    "print(np_array_2d[-3,0])\n",
    "print(np_array_2d[:2,1])\n",
    "print(py_list_2d[:2][1])   # HMMMMMMMM, this just gives me the second of the list of py_list_2d[:2]"
   ]
  },
  {
   "cell_type": "markdown",
   "id": "dca7f928",
   "metadata": {},
   "source": [
    "## 1.4 Growing lists"
   ]
  },
  {
   "cell_type": "code",
   "execution_count": 37,
   "id": "6e3f1fa9",
   "metadata": {},
   "outputs": [
    {
     "data": {
      "text/plain": [
       "[1, 2, 1, 2, 1, 2, 1, 2, 1, 2]"
      ]
     },
     "execution_count": 37,
     "metadata": {},
     "output_type": "execute_result"
    }
   ],
   "source": [
    "#Creating a larger list from a smaller one\n",
    "\n",
    "x = [1,2]*5\n",
    "x  # This simply result in 5 of the original list combined"
   ]
  },
  {
   "cell_type": "code",
   "execution_count": 42,
   "id": "929812fc",
   "metadata": {},
   "outputs": [
    {
     "name": "stdout",
     "output_type": "stream",
     "text": [
      "[1, 2, 3, 10]\n",
      "[2, 3, 122, 10000]\n",
      "[0, 1, 2, 3, 4, 5, 6, 7, 8, 9]\n"
     ]
    }
   ],
   "source": [
    "# Appending elements\n",
    "\n",
    "x = [1]\n",
    "x = x + [2]\n",
    "x = x + [3]\n",
    "x = x + [10]\n",
    "\n",
    "y = [2]\n",
    "y += [3]\n",
    "y += [122]\n",
    "y += [10000]\n",
    "\n",
    "\n",
    "z = []                   #initialise empty list. I love this next trick\n",
    "for i in range(0,10):\n",
    "    z.append(i)\n",
    "\n",
    "print(x)\n",
    "print(y)\n",
    "print(z) "
   ]
  },
  {
   "cell_type": "code",
   "execution_count": 43,
   "id": "a176c767",
   "metadata": {},
   "outputs": [
    {
     "name": "stdout",
     "output_type": "stream",
     "text": [
      "[1, 2, 3, 11, 22, 33]\n",
      "[1, 2, 3, 10, 20, 30]\n",
      "[4, 6, 8, [1, 2, 3]]\n"
     ]
    }
   ],
   "source": [
    "# Differences between .extend and .append\n",
    "\n",
    "x = [1,2,3]\n",
    "x += [11,22,33]\n",
    "\n",
    "y = [1,2,3]\n",
    "y.extend([10,20,30])\n",
    "\n",
    "z = [4,6,8]\n",
    "z.append([1,2,3])\n",
    "\n",
    "print(x)\n",
    "print(y)\n",
    "print(z) "
   ]
  },
  {
   "cell_type": "markdown",
   "id": "53730bbe",
   "metadata": {},
   "source": [
    "# Some loose ends"
   ]
  },
  {
   "cell_type": "markdown",
   "id": "3f6e177f",
   "metadata": {},
   "source": [
    "## 1.5 Tuples"
   ]
  },
  {
   "cell_type": "code",
   "execution_count": 45,
   "id": "acf73b3e",
   "metadata": {},
   "outputs": [
    {
     "name": "stdout",
     "output_type": "stream",
     "text": [
      "2\n"
     ]
    },
    {
     "ename": "TypeError",
     "evalue": "'tuple' object does not support item assignment",
     "output_type": "error",
     "traceback": [
      "\u001b[1;31m---------------------------------------------------------------------------\u001b[0m",
      "\u001b[1;31mTypeError\u001b[0m                                 Traceback (most recent call last)",
      "Cell \u001b[1;32mIn[45], line 8\u001b[0m\n\u001b[0;32m      4\u001b[0m \u001b[38;5;28mprint\u001b[39m(a[\u001b[38;5;241m0\u001b[39m])\n\u001b[0;32m      6\u001b[0m \u001b[38;5;66;03m# but we cannot modify data\u001b[39;00m\n\u001b[1;32m----> 8\u001b[0m \u001b[43ma\u001b[49m\u001b[43m[\u001b[49m\u001b[38;5;241;43m0\u001b[39;49m\u001b[43m]\u001b[49m \u001b[38;5;241m+\u001b[39m\u001b[38;5;241m=\u001b[39m \u001b[38;5;241m1\u001b[39m\n",
      "\u001b[1;31mTypeError\u001b[0m: 'tuple' object does not support item assignment"
     ]
    }
   ],
   "source": [
    "a = (2,4,6)     #Define tuple. This is a tuple\n",
    "\n",
    "# We can access data\n",
    "print(a[0])\n",
    "\n",
    "# but we cannot modify data\n",
    "\n",
    "a[0] += 1       #TypeError: 'tuple' object does not support item assignment"
   ]
  },
  {
   "cell_type": "code",
   "execution_count": 49,
   "id": "c0a83bbc",
   "metadata": {},
   "outputs": [
    {
     "name": "stdout",
     "output_type": "stream",
     "text": [
      "11\n"
     ]
    }
   ],
   "source": [
    "#But we can do this!\n",
    "\n",
    "a = ('hello' , 10)\n",
    "name, number = a\n",
    "\n",
    "number += 1\n",
    "\n",
    "print(number)"
   ]
  },
  {
   "cell_type": "markdown",
   "id": "8b79c037",
   "metadata": {},
   "source": [
    "## 1.6 Be VERY careful when copying"
   ]
  },
  {
   "cell_type": "code",
   "execution_count": 26,
   "id": "a24e0654",
   "metadata": {},
   "outputs": [
    {
     "data": {
      "text/plain": [
       "[1, 2, 3]"
      ]
     },
     "execution_count": 26,
     "metadata": {},
     "output_type": "execute_result"
    }
   ],
   "source": [
    "x=[1, 2, 3]\n",
    "y=x           # DON'T do this!\n",
    "z=x           # DON'T do this!\n",
    "\n",
    "# Just dont try anything funny with immutable objects\n",
    "# If im not wrong any edits to y and z will affect x too"
   ]
  },
  {
   "cell_type": "code",
   "execution_count": null,
   "id": "f0f4c6e0",
   "metadata": {},
   "outputs": [],
   "source": [
    "x=[1, 2, 3]\n",
    "y=x.copy()\n",
    "z=x.copy()"
   ]
  },
  {
   "cell_type": "markdown",
   "id": "844ba35a",
   "metadata": {},
   "source": [
    "# Exercises & Self-Assessment"
   ]
  },
  {
   "cell_type": "code",
   "execution_count": 74,
   "id": "34edbbc2",
   "metadata": {},
   "outputs": [
    {
     "data": {
      "text/plain": [
       "array([['pikachu'],\n",
       "       ['zekrom'],\n",
       "       ['voltorb'],\n",
       "       ['manectric']], dtype='<U10')"
      ]
     },
     "execution_count": 74,
     "metadata": {},
     "output_type": "execute_result"
    }
   ],
   "source": [
    "# Exercises in exercise folder\n",
    "# This is just a practise ground for me\n",
    "\n",
    "\n",
    "# Find me all the pokemon with the type \"electric\"\n",
    "\n",
    "pokemon = [['pikachu', \"electric\"], ['charmander', \"fire\"], \n",
    "           ['squirtle', \"water\"], ['zekrom', \"electric\"],\n",
    "           ['voltorb', \"electric\"], [\"manectric\", \"electric\"]]\n",
    "\n",
    "array = np.array(pokemon)\n",
    "\n",
    "mask = array[:6,1] == 'electric'\n",
    "\n",
    "array[:,[0]][mask]  "
   ]
  },
  {
   "cell_type": "markdown",
   "id": "0d6e8a70",
   "metadata": {},
   "source": [
    "## Footnotes"
   ]
  }
 ],
 "metadata": {
  "kernelspec": {
   "display_name": "Python 3 (ipykernel)",
   "language": "python",
   "name": "python3"
  },
  "language_info": {
   "codemirror_mode": {
    "name": "ipython",
    "version": 3
   },
   "file_extension": ".py",
   "mimetype": "text/x-python",
   "name": "python",
   "nbconvert_exporter": "python",
   "pygments_lexer": "ipython3",
   "version": "3.11.5"
  },
  "toc": {
   "base_numbering": 1,
   "nav_menu": {},
   "number_sections": true,
   "sideBar": true,
   "skip_h1_title": false,
   "title_cell": "Table of Contents",
   "title_sidebar": "Contents",
   "toc_cell": false,
   "toc_position": {},
   "toc_section_display": true,
   "toc_window_display": false
  },
  "varInspector": {
   "cols": {
    "lenName": 16,
    "lenType": 16,
    "lenVar": 40
   },
   "kernels_config": {
    "python": {
     "delete_cmd_postfix": "",
     "delete_cmd_prefix": "del ",
     "library": "var_list.py",
     "varRefreshCmd": "print(var_dic_list())"
    },
    "r": {
     "delete_cmd_postfix": ") ",
     "delete_cmd_prefix": "rm(",
     "library": "var_list.r",
     "varRefreshCmd": "cat(var_dic_list()) "
    }
   },
   "types_to_exclude": [
    "module",
    "function",
    "builtin_function_or_method",
    "instance",
    "_Feature"
   ],
   "window_display": false
  },
  "vscode": {
   "interpreter": {
    "hash": "31f2aee4e71d21fbe5cf8b01ff0e069b9275f58929596ceb00d14d90e3e16cd6"
   }
  }
 },
 "nbformat": 4,
 "nbformat_minor": 5
}
