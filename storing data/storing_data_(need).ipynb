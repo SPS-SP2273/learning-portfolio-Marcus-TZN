{
 "cells": [
  {
   "cell_type": "markdown",
   "id": "123456",
   "metadata": {},
   "source": [
    "<div style=\"text-align:left;font-size:2em\"><span style=\"font-weight:bolder;font-size:1.25em\">SP2273 | Learning Portfolio</span><br><br><span style=\"font-weight:bold;color:darkred\">Storing Data (Need)</span></div>"
   ]
  },
  {
   "cell_type": "markdown",
   "id": "1322805d",
   "metadata": {},
   "source": [
    "# What to expect in this chapter"
   ]
  },
  {
   "cell_type": "code",
   "execution_count": 1,
   "id": "48e164cc",
   "metadata": {},
   "outputs": [],
   "source": [
    "import numpy as np\n",
    "\n",
    "# Might as well just do it now"
   ]
  },
  {
   "cell_type": "code",
   "execution_count": null,
   "id": "bafe6a93",
   "metadata": {},
   "outputs": [],
   "source": [
    "# I'll make the examples for this entire topic about storing data about pokemon if it is ok with you whoever is reading this :p"
   ]
  },
  {
   "cell_type": "code",
   "execution_count": null,
   "id": "53b16bff",
   "metadata": {},
   "outputs": [],
   "source": [
    "# Context: Pokemon are names of the creature. Types are like the elements of the creature."
   ]
  },
  {
   "cell_type": "markdown",
   "id": "0da6e722",
   "metadata": {},
   "source": [
    "# 1 Lists, Arrays & Dictionaries"
   ]
  },
  {
   "cell_type": "markdown",
   "id": "def3646f",
   "metadata": {},
   "source": [
    "## 1.1 Let’s compare"
   ]
  },
  {
   "cell_type": "code",
   "execution_count": 3,
   "id": "d2a95f9a",
   "metadata": {},
   "outputs": [],
   "source": [
    "#Python Lists\n",
    "\n",
    "py_pokemon = [\"Charmander\", \"Bulbasaur\", \"Squirtle\"]\n",
    "py_type = [\"Fire\", \"Grass\", \"Water\"]\n"
   ]
  },
  {
   "cell_type": "code",
   "execution_count": 11,
   "id": "1f344a93",
   "metadata": {},
   "outputs": [],
   "source": [
    "#Numpy arrays \n",
    "np_pokemon = np.array([\"Charmander\", \"Bulbasaur\", \"Squirtle\"])\n",
    "np_type = np.array([\"Fire\", \"Grass\", \"Water\"])"
   ]
  },
  {
   "cell_type": "code",
   "execution_count": 5,
   "id": "8564d6f2",
   "metadata": {},
   "outputs": [],
   "source": [
    "#Dictionary \n",
    "\n",
    "pokemon_data = {\n",
    "    \"Charmander\": \"Fire\",\n",
    "    \"Bulbasaur\" : \"Grass\",\n",
    "    \"Squirtle\" : \"Water\" \n",
    "}"
   ]
  },
  {
   "cell_type": "markdown",
   "id": "41941a01",
   "metadata": {},
   "source": [
    "## 1.2 Accessing data from a list (or array)"
   ]
  },
  {
   "cell_type": "code",
   "execution_count": 13,
   "id": "e033c120",
   "metadata": {},
   "outputs": [
    {
     "name": "stdout",
     "output_type": "stream",
     "text": [
      "Charmander\n",
      "Water\n"
     ]
    }
   ],
   "source": [
    "#From list \n",
    "\n",
    "py_pokemon = [\"Charmander\", \"Bulbasaur\", \"Squirtle\"]\n",
    "py_type = [\"Fire\", \"Grass\", \"Water\"]\n",
    "\n",
    "# Indexing starts from zero!!\n",
    "\n",
    "print(py_pokemon[0])\n",
    "print(py_type[2])"
   ]
  },
  {
   "cell_type": "code",
   "execution_count": 14,
   "id": "548789e8",
   "metadata": {},
   "outputs": [
    {
     "name": "stdout",
     "output_type": "stream",
     "text": [
      "Squirtle\n",
      "Grass\n"
     ]
    }
   ],
   "source": [
    "# Using negative index to count from back of list\n",
    "# Last element is [-1]\n",
    "# We need to know the size of the list to work\n",
    "\n",
    "print(py_pokemon[-1])\n",
    "print(py_type[-2])"
   ]
  },
  {
   "cell_type": "code",
   "execution_count": 16,
   "id": "313cbfc4",
   "metadata": {},
   "outputs": [
    {
     "name": "stdout",
     "output_type": "stream",
     "text": [
      "Charmander\n",
      "Charmander\n"
     ]
    }
   ],
   "source": [
    "# Example with array\n",
    "\n",
    "np_pokemon = np.array([\"Charmander\", \"Bulbasaur\", \"Squirtle\"])\n",
    "np_type = np.array([\"Fire\", \"Grass\", \"Water\"])\n",
    "\n",
    "print(np_pokemon[0])\n",
    "print(np_pokemon[-3])"
   ]
  },
  {
   "cell_type": "markdown",
   "id": "5e1d9f8f",
   "metadata": {},
   "source": [
    "## 1.3 Accessing data from a dictionary"
   ]
  },
  {
   "cell_type": "code",
   "execution_count": 19,
   "id": "f58fb071",
   "metadata": {},
   "outputs": [
    {
     "name": "stdout",
     "output_type": "stream",
     "text": [
      "Electric\n"
     ]
    }
   ],
   "source": [
    "# Dictionary \n",
    "# Using keys to access values (format of dictionary --> keys : values)\n",
    "\n",
    "pokemon_data = {\n",
    "    \"Pikachu\": \"Electric\",\n",
    "    \"Psyduck\" : \"Water\",\n",
    "    \"Eevee\" : \"Normal\" \n",
    "}\n",
    "\n",
    "print(pokemon_data[\"Pikachu\"])"
   ]
  },
  {
   "cell_type": "code",
   "execution_count": 20,
   "id": "423b54f2",
   "metadata": {},
   "outputs": [
    {
     "data": {
      "text/plain": [
       "dict_keys(['Pikachu', 'Psyduck', 'Eevee'])"
      ]
     },
     "execution_count": 20,
     "metadata": {},
     "output_type": "execute_result"
    }
   ],
   "source": [
    "# Show all keys in dict\n",
    "pokemon_data.keys()"
   ]
  },
  {
   "cell_type": "code",
   "execution_count": 21,
   "id": "21749140",
   "metadata": {},
   "outputs": [
    {
     "data": {
      "text/plain": [
       "dict_values(['Electric', 'Water', 'Normal'])"
      ]
     },
     "execution_count": 21,
     "metadata": {},
     "output_type": "execute_result"
    }
   ],
   "source": [
    "# Show all values in dict\n",
    "pokemon_data.values()"
   ]
  },
  {
   "cell_type": "markdown",
   "id": "99046f0e",
   "metadata": {},
   "source": [
    "## 1.4 Higher dimensional lists"
   ]
  },
  {
   "cell_type": "code",
   "execution_count": 22,
   "id": "983f9a89",
   "metadata": {},
   "outputs": [
    {
     "data": {
      "text/plain": [
       "array([['Pikachu', 'Electric'],\n",
       "       ['Eevee', 'Normal'],\n",
       "       ['Psyduck', 'Water']], dtype='<U8')"
      ]
     },
     "execution_count": 22,
     "metadata": {},
     "output_type": "execute_result"
    }
   ],
   "source": [
    "# Example of a 2D list or array\n",
    "\n",
    "pokemon_info = [\n",
    "    ['Pikachu','Electric'],\n",
    "    ['Eevee','Normal'],\n",
    "    ['Psyduck','Water']\n",
    "]\n",
    "\n",
    "np_pokeinfo = np.array(pokemon_info)\n",
    "\n",
    "np_pokeinfo"
   ]
  },
  {
   "cell_type": "markdown",
   "id": "94f189e5",
   "metadata": {},
   "source": [
    "# 2 Lists vs. Arrays"
   ]
  },
  {
   "cell_type": "markdown",
   "id": "56b4dd7c",
   "metadata": {},
   "source": [
    "## 2.1 Size"
   ]
  },
  {
   "cell_type": "code",
   "execution_count": 26,
   "id": "f6321c5b",
   "metadata": {},
   "outputs": [
    {
     "data": {
      "text/plain": [
       "6"
      ]
     },
     "execution_count": 26,
     "metadata": {},
     "output_type": "execute_result"
    }
   ],
   "source": [
    "pokemon_info_2d =  [\n",
    " ['Pikachu','Electric'], ['Charmander','Fire'],\n",
    "    ['Eevee','Normal'], ['Squirtle','Water'],\n",
    "    ['Psyduck','Water'], ['Bulbasaur','Grass']   \n",
    "]\n",
    "\n",
    "# For lists, to find out size,\n",
    "\n",
    "len(pokemon_info_2d)"
   ]
  },
  {
   "cell_type": "code",
   "execution_count": 29,
   "id": "1bff6f4e",
   "metadata": {},
   "outputs": [
    {
     "name": "stdout",
     "output_type": "stream",
     "text": [
      "6\n",
      "(6, 2)\n"
     ]
    }
   ],
   "source": [
    "np_pokeinfo2d = np.array(pokemon_info_2d)\n",
    "\n",
    "# For arrays, to find out size,\n",
    "\n",
    "print(len(np_pokeinfo2d))\n",
    "print(np_pokeinfo2d.shape)\n",
    "\n",
    "# Note: Shape is not a function, but an attribute of the numpy array."
   ]
  },
  {
   "cell_type": "markdown",
   "id": "556cd80c",
   "metadata": {},
   "source": [
    "## 2.2 Arrays are fussy about type"
   ]
  },
  {
   "cell_type": "code",
   "execution_count": 31,
   "id": "82e03d8e",
   "metadata": {},
   "outputs": [
    {
     "data": {
      "text/plain": [
       "[1, 2.5, 'Pikachu']"
      ]
     },
     "execution_count": 31,
     "metadata": {},
     "output_type": "execute_result"
    }
   ],
   "source": [
    "py_list = [1,2.5,'Pikachu']\n",
    "np_array = np.array(py_list)\n",
    "\n",
    "py_list"
   ]
  },
  {
   "cell_type": "code",
   "execution_count": 32,
   "id": "757f680d",
   "metadata": {},
   "outputs": [
    {
     "data": {
      "text/plain": [
       "array(['1', '2.5', 'Pikachu'], dtype='<U32')"
      ]
     },
     "execution_count": 32,
     "metadata": {},
     "output_type": "execute_result"
    }
   ],
   "source": [
    "np_array\n",
    "\n",
    "# Notice the dtype = <U32 and how the numbers are converted to str\n",
    "# Anw we can easily typecast using .astype()"
   ]
  },
  {
   "cell_type": "markdown",
   "id": "b03fd326",
   "metadata": {},
   "source": [
    "## 2.3 Adding a number"
   ]
  },
  {
   "cell_type": "code",
   "execution_count": 34,
   "id": "734b7af4",
   "metadata": {},
   "outputs": [
    {
     "ename": "TypeError",
     "evalue": "can only concatenate list (not \"int\") to list",
     "output_type": "error",
     "traceback": [
      "\u001b[1;31m---------------------------------------------------------------------------\u001b[0m",
      "\u001b[1;31mTypeError\u001b[0m                                 Traceback (most recent call last)",
      "Cell \u001b[1;32mIn[34], line 4\u001b[0m\n\u001b[0;32m      1\u001b[0m number_list \u001b[38;5;241m=\u001b[39m [\u001b[38;5;241m1\u001b[39m,\u001b[38;5;241m2\u001b[39m,\u001b[38;5;241m3\u001b[39m,\u001b[38;5;241m4\u001b[39m,\u001b[38;5;241m5\u001b[39m]\n\u001b[0;32m      2\u001b[0m np_array \u001b[38;5;241m=\u001b[39m np\u001b[38;5;241m.\u001b[39marray(number_list)\n\u001b[1;32m----> 4\u001b[0m \u001b[43mpy_list\u001b[49m\u001b[43m \u001b[49m\u001b[38;5;241;43m+\u001b[39;49m\u001b[43m \u001b[49m\u001b[38;5;241;43m10\u001b[39;49m     \u001b[38;5;66;03m#This will NOT work!!\u001b[39;00m\n",
      "\u001b[1;31mTypeError\u001b[0m: can only concatenate list (not \"int\") to list"
     ]
    }
   ],
   "source": [
    "number_list = [1,2,3,4,5]\n",
    "np_array = np.array(number_list)\n",
    "\n",
    "py_list + 10     # This will NOT work!!\n",
    "                 # TypeError: can only concatenate list (not \"int\") to list"
   ]
  },
  {
   "cell_type": "code",
   "execution_count": 35,
   "id": "26842fe4",
   "metadata": {},
   "outputs": [
    {
     "data": {
      "text/plain": [
       "array([11, 12, 13, 14, 15])"
      ]
     },
     "execution_count": 35,
     "metadata": {},
     "output_type": "execute_result"
    }
   ],
   "source": [
    "np_array + 10 \n",
    "\n",
    "# This Will Work, output = array([11, 12, 13, 14, 15])"
   ]
  },
  {
   "cell_type": "markdown",
   "id": "6cfc3a15",
   "metadata": {},
   "source": [
    "## 2.4 Adding another list"
   ]
  },
  {
   "cell_type": "code",
   "execution_count": 37,
   "id": "843c7a3e",
   "metadata": {},
   "outputs": [
    {
     "data": {
      "text/plain": [
       "[1, 2, 3, 4, 5, 10, 20, 30, 40, 50]"
      ]
     },
     "execution_count": 37,
     "metadata": {},
     "output_type": "execute_result"
    }
   ],
   "source": [
    "number_list1 = [1,2,3,4,5]\n",
    "number_list2 = [10,20,30,40,50]\n",
    "np_array1 = np.array(number_list1)\n",
    "np_array2 = np.array(number_list2)\n",
    "\n",
    "number_list1 + number_list2   \n",
    "\n",
    "# This will work! Ref to error msg for previous example (concatenate list to list)\n",
    "# But its just connecting two lists together"
   ]
  },
  {
   "cell_type": "code",
   "execution_count": 38,
   "id": "77db5923",
   "metadata": {},
   "outputs": [
    {
     "data": {
      "text/plain": [
       "array([11, 22, 33, 44, 55])"
      ]
     },
     "execution_count": 38,
     "metadata": {},
     "output_type": "execute_result"
    }
   ],
   "source": [
    "np_array1 + np_array2\n",
    "\n",
    "# This also works, but its an arimethric addition of both elements at the same index"
   ]
  },
  {
   "cell_type": "markdown",
   "id": "e3a648ec",
   "metadata": {},
   "source": [
    "## 2.5 Multiplying by a Number"
   ]
  },
  {
   "cell_type": "code",
   "execution_count": 39,
   "id": "8a475421",
   "metadata": {},
   "outputs": [
    {
     "data": {
      "text/plain": [
       "[1, 2, 3, 4, 5, 1, 2, 3, 4, 5]"
      ]
     },
     "execution_count": 39,
     "metadata": {},
     "output_type": "execute_result"
    }
   ],
   "source": [
    "number_list = [1,2,3,4,5]\n",
    "np_array = np.array(number_list)\n",
    "\n",
    "number_list * 2\n",
    "\n",
    "# Will work, but this just makes the list grow."
   ]
  },
  {
   "cell_type": "code",
   "execution_count": 40,
   "id": "7ce70096",
   "metadata": {},
   "outputs": [
    {
     "data": {
      "text/plain": [
       "array([ 2,  4,  6,  8, 10])"
      ]
     },
     "execution_count": 40,
     "metadata": {},
     "output_type": "execute_result"
    }
   ],
   "source": [
    "np_array * 2\n",
    "\n",
    "# Now this multiplies every element in the array by the number"
   ]
  },
  {
   "cell_type": "markdown",
   "id": "803cbf17",
   "metadata": {},
   "source": [
    "## 2.6 Squaring"
   ]
  },
  {
   "cell_type": "code",
   "execution_count": 41,
   "id": "2349b86e",
   "metadata": {},
   "outputs": [
    {
     "ename": "TypeError",
     "evalue": "unsupported operand type(s) for ** or pow(): 'list' and 'int'",
     "output_type": "error",
     "traceback": [
      "\u001b[1;31m---------------------------------------------------------------------------\u001b[0m",
      "\u001b[1;31mTypeError\u001b[0m                                 Traceback (most recent call last)",
      "Cell \u001b[1;32mIn[41], line 4\u001b[0m\n\u001b[0;32m      1\u001b[0m number_list \u001b[38;5;241m=\u001b[39m [\u001b[38;5;241m2\u001b[39m,\u001b[38;5;241m4\u001b[39m,\u001b[38;5;241m6\u001b[39m,\u001b[38;5;241m8\u001b[39m,\u001b[38;5;241m10\u001b[39m]\n\u001b[0;32m      2\u001b[0m np_array \u001b[38;5;241m=\u001b[39m np\u001b[38;5;241m.\u001b[39marray(number_list)\n\u001b[1;32m----> 4\u001b[0m \u001b[43mpy_list\u001b[49m\u001b[38;5;241;43m*\u001b[39;49m\u001b[38;5;241;43m*\u001b[39;49m\u001b[38;5;241;43m2\u001b[39;49m \n",
      "\u001b[1;31mTypeError\u001b[0m: unsupported operand type(s) for ** or pow(): 'list' and 'int'"
     ]
    }
   ],
   "source": [
    "number_list = [2,4,6,8,10]\n",
    "np_array = np.array(number_list)\n",
    "\n",
    "py_list**2 \n",
    "\n",
    "# This will NOT work!\n",
    "# TypeError: unsupported operand type(s) for ** or pow(): 'list' and 'int'"
   ]
  },
  {
   "cell_type": "code",
   "execution_count": 42,
   "id": "030d49c8",
   "metadata": {},
   "outputs": [
    {
     "data": {
      "text/plain": [
       "array([  4,  16,  36,  64, 100])"
      ]
     },
     "execution_count": 42,
     "metadata": {},
     "output_type": "execute_result"
    }
   ],
   "source": [
    "np_array ** 2\n",
    "\n",
    "# Now this works! All elements in the array are raised to the power of 2"
   ]
  },
  {
   "cell_type": "markdown",
   "id": "7eff87a4",
   "metadata": {},
   "source": [
    "## 2.7 Asking questions"
   ]
  },
  {
   "cell_type": "code",
   "execution_count": 43,
   "id": "d9cca26a",
   "metadata": {},
   "outputs": [],
   "source": [
    "number_list = [2,4,6,8,10]\n",
    "np_array = np.array(number_list)"
   ]
  },
  {
   "cell_type": "code",
   "execution_count": 47,
   "id": "3cd4772c",
   "metadata": {},
   "outputs": [
    {
     "data": {
      "text/plain": [
       "False"
      ]
     },
     "execution_count": 47,
     "metadata": {},
     "output_type": "execute_result"
    }
   ],
   "source": [
    "number_list == 2\n",
    "\n",
    "# This is meaningless. I think its saying that number_list (list format) == 2 is false"
   ]
  },
  {
   "cell_type": "code",
   "execution_count": 49,
   "id": "95e6c73b",
   "metadata": {
    "scrolled": true
   },
   "outputs": [
    {
     "ename": "TypeError",
     "evalue": "'>' not supported between instances of 'list' and 'int'",
     "output_type": "error",
     "traceback": [
      "\u001b[1;31m---------------------------------------------------------------------------\u001b[0m",
      "\u001b[1;31mTypeError\u001b[0m                                 Traceback (most recent call last)",
      "Cell \u001b[1;32mIn[49], line 1\u001b[0m\n\u001b[1;32m----> 1\u001b[0m \u001b[43mnumber_list\u001b[49m\u001b[43m \u001b[49m\u001b[38;5;241;43m>\u001b[39;49m\u001b[43m \u001b[49m\u001b[38;5;241;43m3\u001b[39;49m\n",
      "\u001b[1;31mTypeError\u001b[0m: '>' not supported between instances of 'list' and 'int'"
     ]
    }
   ],
   "source": [
    "number_list > 3\n",
    "\n",
    "# Will not work\n",
    "#TypeError: '>' not supported between instances of 'list' and 'int'"
   ]
  },
  {
   "cell_type": "code",
   "execution_count": 52,
   "id": "44fff5e0",
   "metadata": {},
   "outputs": [
    {
     "data": {
      "text/plain": [
       "array([False, False,  True, False, False])"
      ]
     },
     "execution_count": 52,
     "metadata": {},
     "output_type": "execute_result"
    }
   ],
   "source": [
    "np_array == 6\n",
    "\n",
    "# Will work as now we are comparing equality between the elements and the value"
   ]
  },
  {
   "cell_type": "code",
   "execution_count": 51,
   "id": "7459f2e5",
   "metadata": {},
   "outputs": [
    {
     "data": {
      "text/plain": [
       "array([False,  True,  True,  True,  True])"
      ]
     },
     "execution_count": 51,
     "metadata": {},
     "output_type": "execute_result"
    }
   ],
   "source": [
    "np_array > 3\n",
    "\n",
    "# Will also work"
   ]
  },
  {
   "cell_type": "markdown",
   "id": "8ac1478d",
   "metadata": {},
   "source": [
    "## 2.8 Mathematics"
   ]
  },
  {
   "cell_type": "code",
   "execution_count": 53,
   "id": "4e462c6d",
   "metadata": {},
   "outputs": [],
   "source": [
    "number_list = [2,4,6,8,10]\n",
    "np_array = np.array(number_list)"
   ]
  },
  {
   "cell_type": "code",
   "execution_count": 59,
   "id": "b208ad2c",
   "metadata": {},
   "outputs": [
    {
     "name": "stdout",
     "output_type": "stream",
     "text": [
      "30\n",
      "30\n",
      "30\n"
     ]
    }
   ],
   "source": [
    "print(sum(number_list))\n",
    "print(sum(np_array))\n",
    "print(np_array.sum())\n",
    "\n",
    "# Both works fine in summation\n",
    "# Note: For all examples below too, number_list.sum() will NOT work"
   ]
  },
  {
   "cell_type": "code",
   "execution_count": 60,
   "id": "8375f17b",
   "metadata": {},
   "outputs": [
    {
     "name": "stdout",
     "output_type": "stream",
     "text": [
      "10\n",
      "10\n",
      "10\n"
     ]
    }
   ],
   "source": [
    "print(max(number_list))\n",
    "print(max(np_array))\n",
    "print(np_array.max())\n",
    "\n",
    "#Both works fine in giving me maximum value"
   ]
  },
  {
   "cell_type": "code",
   "execution_count": 61,
   "id": "9f029563",
   "metadata": {},
   "outputs": [
    {
     "name": "stdout",
     "output_type": "stream",
     "text": [
      "2\n",
      "2\n",
      "2\n"
     ]
    }
   ],
   "source": [
    "print(min(number_list))\n",
    "print(min(np_array))\n",
    "print(np_array.min())\n",
    "\n",
    "#Both works fine in giving me minimum value"
   ]
  },
  {
   "cell_type": "code",
   "execution_count": 63,
   "id": "c5757fb5",
   "metadata": {},
   "outputs": [
    {
     "name": "stdout",
     "output_type": "stream",
     "text": [
      "6.0\n",
      "2.8284271247461903\n"
     ]
    }
   ],
   "source": [
    "print(np_array.mean())\n",
    "print(np_array.std())\n",
    "\n",
    "#Additional math stats functions for array"
   ]
  },
  {
   "cell_type": "markdown",
   "id": "cc226028",
   "metadata": {},
   "source": [
    "# Exercises & Self-Assessment"
   ]
  },
  {
   "cell_type": "code",
   "execution_count": 79,
   "id": "6affcb4b",
   "metadata": {},
   "outputs": [
    {
     "name": "stdout",
     "output_type": "stream",
     "text": [
      "15.0\n",
      "[  1.  16.  81. 256. 625.]\n",
      "1.4142135623730951\n"
     ]
    }
   ],
   "source": [
    "# Isnt the exercises supposed to be in the next notebook?\n",
    "# I guess I'll just do some random stuff here\n",
    "\n",
    "pokemon_data = {                  # Just a pokemon dictionary\n",
    "    \"Charmander\": \"1\",\n",
    "    \"Bulbasaur\" : \"2\",\n",
    "    \"Squirtle\" : \"3\", \n",
    "    \"Eevee\" : \"4\",\n",
    "    \"Pikachu\" : \"5\"\n",
    "}\n",
    "\n",
    "len(pokemon_data)                 # 5 sets of key-value pair in the dictionary\n",
    "\n",
    "\n",
    "names = list(pokemon_data.keys())         # Converted the keys (pokemon name) into a list\n",
    "number = list(pokemon_data.values())      # Converted the values (identifier) into a list\n",
    "\n",
    "array_names = np.array(names)\n",
    "array_number = np.array(number)\n",
    "\n",
    "array_names == \"Charmander\"              # Is Charmander in the list?\n",
    "                                         # output: array([ True, False, False, False, False])\n",
    "\n",
    "math = array_number.astype(float)               # converting these numbers into float for some math\n",
    "\n",
    "print(math.sum())\n",
    "print(math**4)\n",
    "print(math.std())"
   ]
  },
  {
   "cell_type": "markdown",
   "id": "f2179993",
   "metadata": {},
   "source": [
    "## Footnotes"
   ]
  }
 ],
 "metadata": {
  "kernelspec": {
   "display_name": "Python 3 (ipykernel)",
   "language": "python",
   "name": "python3"
  },
  "language_info": {
   "codemirror_mode": {
    "name": "ipython",
    "version": 3
   },
   "file_extension": ".py",
   "mimetype": "text/x-python",
   "name": "python",
   "nbconvert_exporter": "python",
   "pygments_lexer": "ipython3",
   "version": "3.11.5"
  },
  "toc": {
   "base_numbering": 1,
   "nav_menu": {},
   "number_sections": true,
   "sideBar": true,
   "skip_h1_title": false,
   "title_cell": "Table of Contents",
   "title_sidebar": "Contents",
   "toc_cell": false,
   "toc_position": {},
   "toc_section_display": true,
   "toc_window_display": false
  },
  "varInspector": {
   "cols": {
    "lenName": 16,
    "lenType": 16,
    "lenVar": 40
   },
   "kernels_config": {
    "python": {
     "delete_cmd_postfix": "",
     "delete_cmd_prefix": "del ",
     "library": "var_list.py",
     "varRefreshCmd": "print(var_dic_list())"
    },
    "r": {
     "delete_cmd_postfix": ") ",
     "delete_cmd_prefix": "rm(",
     "library": "var_list.r",
     "varRefreshCmd": "cat(var_dic_list()) "
    }
   },
   "types_to_exclude": [
    "module",
    "function",
    "builtin_function_or_method",
    "instance",
    "_Feature"
   ],
   "window_display": false
  },
  "vscode": {
   "interpreter": {
    "hash": "31f2aee4e71d21fbe5cf8b01ff0e069b9275f58929596ceb00d14d90e3e16cd6"
   }
  }
 },
 "nbformat": 4,
 "nbformat_minor": 5
}
