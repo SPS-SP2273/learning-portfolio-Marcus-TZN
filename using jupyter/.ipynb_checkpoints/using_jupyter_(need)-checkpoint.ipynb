{
 "cells": [
  {
   "cell_type": "markdown",
   "id": "123456",
   "metadata": {},
   "source": [
    "<div style=\"text-align:left;font-size:2em\"><span style=\"font-weight:bolder;font-size:1.25em\">SP2273 | Learning Portfolio</span><br><br><span style=\"font-weight:bold;color:darkred\">Using Jupyter (Need) (Completed)</span></div>"
   ]
  },
  {
   "cell_type": "markdown",
   "id": "782dae19",
   "metadata": {},
   "source": [
    "# 1 What to expect in this chapter"
   ]
  },
  {
   "cell_type": "markdown",
   "id": "dda03b20",
   "metadata": {},
   "source": [
    "# 2 Getting ready"
   ]
  },
  {
   "cell_type": "markdown",
   "id": "961b3e2a",
   "metadata": {},
   "source": [
    "# 3 Getting started with Jupyter"
   ]
  },
  {
   "cell_type": "markdown",
   "id": "f9d98df0",
   "metadata": {},
   "source": [
    "## 3.1 It is all about running cells"
   ]
  },
  {
   "cell_type": "markdown",
   "id": "aab82f36",
   "metadata": {},
   "source": [
    "## 3.2 A traditional start"
   ]
  },
  {
   "cell_type": "code",
   "execution_count": 1,
   "id": "2d526224",
   "metadata": {},
   "outputs": [
    {
     "name": "stdout",
     "output_type": "stream",
     "text": [
      "Hello World!\n"
     ]
    }
   ],
   "source": [
    "print(\"Hello World!\")"
   ]
  },
  {
   "cell_type": "markdown",
   "id": "c9215280",
   "metadata": {},
   "source": [
    "# 4 All about Markdown"
   ]
  },
  {
   "cell_type": "markdown",
   "id": "9407ebaf",
   "metadata": {},
   "source": [
    "## 4.1 Rendering Markdown cells"
   ]
  },
  {
   "cell_type": "markdown",
   "id": "db811628",
   "metadata": {},
   "source": [
    "The ships hung in the sky in much the same way that bricks don't."
   ]
  },
  {
   "cell_type": "markdown",
   "id": "cbd65fbf",
   "metadata": {},
   "source": [
    "(Marcus's example) \\\n",
    "The chemical formula of water is H<sub>2</sub>O"
   ]
  },
  {
   "cell_type": "markdown",
   "id": "8976e74e",
   "metadata": {},
   "source": [
    "## 4.2 Some basic syntax"
   ]
  },
  {
   "cell_type": "markdown",
   "id": "260493f6",
   "metadata": {},
   "source": [
    "The ships *hung in the sky* in much the same way that **bricks don't.**<sup>1</sup><sub>QUOTE</sub>"
   ]
  },
  {
   "cell_type": "markdown",
   "id": "e8d25b14",
   "metadata": {},
   "source": [
    "(Marcus's example) \\\n",
    "The *chemical formula* of **water** is H2O"
   ]
  },
  {
   "cell_type": "markdown",
   "id": "f64983ad",
   "metadata": {},
   "source": [
    "## 4.3 Headings"
   ]
  },
  {
   "cell_type": "markdown",
   "id": "f7c024d6",
   "metadata": {},
   "source": [
    "# HI"
   ]
  },
  {
   "cell_type": "markdown",
   "id": "d850154b",
   "metadata": {},
   "source": [
    "## Hi"
   ]
  },
  {
   "cell_type": "markdown",
   "id": "a0b057c7",
   "metadata": {},
   "source": [
    "### Hi"
   ]
  },
  {
   "cell_type": "markdown",
   "id": "53928bbd",
   "metadata": {},
   "source": [
    "#### Hi"
   ]
  },
  {
   "cell_type": "markdown",
   "id": "da2a5514",
   "metadata": {},
   "source": [
    "## 4.4 Displaying Code"
   ]
  },
  {
   "cell_type": "markdown",
   "id": "7c2a2680",
   "metadata": {},
   "source": [
    "`print('Hello World')`"
   ]
  },
  {
   "cell_type": "markdown",
   "id": "e739e40c",
   "metadata": {},
   "source": [
    "```python\n",
    "print('Hello World!')\n",
    "```"
   ]
  },
  {
   "cell_type": "markdown",
   "id": "98a9b3f0",
   "metadata": {},
   "source": [
    "## 4.5 Links"
   ]
  },
  {
   "cell_type": "markdown",
   "id": "c8eb4f07",
   "metadata": {},
   "source": [
    "[SP2273 Website](https://sps.nus.edu.sg/sp2273)"
   ]
  },
  {
   "cell_type": "markdown",
   "id": "6528f6a7",
   "metadata": {},
   "source": [
    "## 4.6 Images"
   ]
  },
  {
   "cell_type": "markdown",
   "id": "28d45e0b",
   "metadata": {},
   "source": [
    "![](https://nus.edu.sg/images/default-source/base/logo.png)"
   ]
  },
  {
   "cell_type": "markdown",
   "id": "996dd149",
   "metadata": {},
   "source": [
    "## 4.7 Tables"
   ]
  },
  {
   "cell_type": "markdown",
   "id": "e3a0fc69",
   "metadata": {},
   "source": [
    "| A    |  B   |    C |\n",
    "| :--- | :--: | ---: |\n",
    "| a1   |  b1  |   c1 |\n",
    "| a2   |  b2  |   c2 |\n",
    "| a3   |  b3  |   c3 |"
   ]
  },
  {
   "cell_type": "markdown",
   "id": "eeb94039",
   "metadata": {},
   "source": [
    "## 4.8 Lists"
   ]
  },
  {
   "cell_type": "markdown",
   "id": "da026d75",
   "metadata": {},
   "source": [
    "1. Apple \n",
    "2. Orange\n",
    "3. Banana"
   ]
  },
  {
   "cell_type": "markdown",
   "id": "fbc112d6",
   "metadata": {},
   "source": [
    "- Apple\n",
    "- Orange\n",
    "- Banana"
   ]
  },
  {
   "cell_type": "markdown",
   "id": "d30a3e84",
   "metadata": {},
   "source": [
    "1. Apple\n",
    "    1. Is Red\n",
    "    1. Is Sweet\n",
    "\n",
    "1. Orange\n",
    "    1. Is Orange\n",
    "    1. Is Sour\n",
    "    \n",
    "1. Banana\n",
    "    1. Is Yellow\n",
    "    1. Is Sweet"
   ]
  },
  {
   "cell_type": "markdown",
   "id": "bc709278",
   "metadata": {},
   "source": [
    "1. Apple\n",
    "    - Is Red\n",
    "    - Is Sweet\n",
    "\n",
    "1. Orange\n",
    "    - Is Orange\n",
    "    - Is Sour\n",
    "    \n",
    "1. Banana\n",
    "    - Is Yellow\n",
    "    - Is Sweet"
   ]
  },
  {
   "cell_type": "markdown",
   "id": "3dc9fcdb",
   "metadata": {},
   "source": [
    "1. Fire type pokemon\n",
    "    - Charizard\n",
    "    - Flareon\n",
    "\n",
    "2. Water type pokemon\n",
    "    - Blastoise\n",
    "    - Gyrados\n",
    "    \n",
    "3. Grass type pokemon\n",
    "    - Venusaur\n",
    "    - Roserade"
   ]
  },
  {
   "cell_type": "markdown",
   "id": "4562bc4c",
   "metadata": {},
   "source": [
    "## 4.9 Equations"
   ]
  },
  {
   "cell_type": "markdown",
   "id": "243fc786",
   "metadata": {},
   "source": [
    "$$\n",
    "y = ax^2 + bx + c\n",
    "$$"
   ]
  },
  {
   "cell_type": "markdown",
   "id": "61c6156b",
   "metadata": {},
   "source": [
    "$$\n",
    "\\sqrt{b^2-4ac} > 0\n",
    "$$\n"
   ]
  },
  {
   "cell_type": "markdown",
   "id": "fba7867b",
   "metadata": {},
   "source": [
    "$$\n",
    "x = \\dfrac{-b \\pm \\sqrt{b^2-4ac}}{2a}\n",
    "$$"
   ]
  },
  {
   "cell_type": "markdown",
   "id": "f19823ff",
   "metadata": {},
   "source": [
    "The simple equation for specific heat capacity is $ Q = mc \\Delta T $"
   ]
  },
  {
   "cell_type": "markdown",
   "id": "2b492e06",
   "metadata": {},
   "source": [
    "This is a riemann sum --> $\\int_{a}^{b} f(x)d(x) = \\lim_{x\\to\\infty} \\sum_{k=1}^{n=\\infty}f(x_k) \\Delta(x)$"
   ]
  },
  {
   "cell_type": "markdown",
   "id": "87320c69",
   "metadata": {},
   "source": [
    "## Footnotes"
   ]
  }
 ],
 "metadata": {
  "kernelspec": {
   "display_name": "Python 3 (ipykernel)",
   "language": "python",
   "name": "python3"
  },
  "language_info": {
   "codemirror_mode": {
    "name": "ipython",
    "version": 3
   },
   "file_extension": ".py",
   "mimetype": "text/x-python",
   "name": "python",
   "nbconvert_exporter": "python",
   "pygments_lexer": "ipython3",
   "version": "3.11.5"
  },
  "toc": {
   "base_numbering": 1,
   "nav_menu": {},
   "number_sections": true,
   "sideBar": true,
   "skip_h1_title": false,
   "title_cell": "Table of Contents",
   "title_sidebar": "Contents",
   "toc_cell": false,
   "toc_position": {},
   "toc_section_display": true,
   "toc_window_display": false
  },
  "varInspector": {
   "cols": {
    "lenName": 16,
    "lenType": 16,
    "lenVar": 40
   },
   "kernels_config": {
    "python": {
     "delete_cmd_postfix": "",
     "delete_cmd_prefix": "del ",
     "library": "var_list.py",
     "varRefreshCmd": "print(var_dic_list())"
    },
    "r": {
     "delete_cmd_postfix": ") ",
     "delete_cmd_prefix": "rm(",
     "library": "var_list.r",
     "varRefreshCmd": "cat(var_dic_list()) "
    }
   },
   "types_to_exclude": [
    "module",
    "function",
    "builtin_function_or_method",
    "instance",
    "_Feature"
   ],
   "window_display": false
  },
  "vscode": {
   "interpreter": {
    "hash": "31f2aee4e71d21fbe5cf8b01ff0e069b9275f58929596ceb00d14d90e3e16cd6"
   }
  }
 },
 "nbformat": 4,
 "nbformat_minor": 5
}
